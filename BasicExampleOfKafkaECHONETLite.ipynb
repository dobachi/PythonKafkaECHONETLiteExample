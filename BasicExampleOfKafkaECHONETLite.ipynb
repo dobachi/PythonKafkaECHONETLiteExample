{
 "cells": [
  {
   "cell_type": "markdown",
   "id": "a703504d-56b8-4ae4-92b1-699d682e97cf",
   "metadata": {},
   "source": [
    "# 準備"
   ]
  },
  {
   "cell_type": "code",
   "execution_count": 1,
   "id": "4e472364-86c5-4b32-92bb-5b679545d3fa",
   "metadata": {},
   "outputs": [],
   "source": [
    "from confluent_kafka import Producer\n",
    "from confluent_kafka import Consumer\n",
    "from confluent_kafka import TopicPartition\n",
    "from confluent_kafka import OFFSET_BEGINNING\n",
    "from confluent_kafka.admin import AdminClient\n",
    "from confluent_kafka.admin import NewTopic\n",
    "import socket\n",
    "import time\n",
    "import os\n",
    "from threading import Thread\n",
    "import netifaces\n",
    "import random"
   ]
  },
  {
   "cell_type": "markdown",
   "id": "93b5c6b9-19e1-472c-86b4-11e204f7e7cc",
   "metadata": {},
   "source": [
    "ここでは簡単化のため、単一ノード上にKafka Broker、ZooKeeper、Clientを起動することとする。\n",
    "そのため、実行ノードの最初にホスト名を取得する。"
   ]
  },
  {
   "cell_type": "code",
   "execution_count": 2,
   "id": "1f8699f4-8d71-4ef0-a9ed-ee8f998d844a",
   "metadata": {},
   "outputs": [
    {
     "data": {
      "text/plain": [
       "'el01'"
      ]
     },
     "execution_count": 2,
     "metadata": {},
     "output_type": "execute_result"
    }
   ],
   "source": [
    "hostname = socket.gethostname()\n",
    "hostname"
   ]
  },
  {
   "cell_type": "markdown",
   "id": "3f620398-050f-4532-95c3-6b89fef117d9",
   "metadata": {},
   "source": [
    "クライアントに渡すコンフィグを生成する。"
   ]
  },
  {
   "cell_type": "code",
   "execution_count": 3,
   "id": "12579195-ec0b-4d04-b7c0-ab6f7a1fffe3",
   "metadata": {},
   "outputs": [],
   "source": [
    "producer_conf = {'bootstrap.servers': hostname + \":9092\",\n",
    "                 'client.id': hostname}"
   ]
  },
  {
   "cell_type": "code",
   "execution_count": 4,
   "id": "feeca203-2d90-4b29-a533-8ff054a33c1e",
   "metadata": {},
   "outputs": [],
   "source": [
    "consumer_conf = {'bootstrap.servers': hostname + \":9092\",\n",
    "                 'group.id': 0,\n",
    "                'auto.offset.reset': 'earliest'}"
   ]
  },
  {
   "cell_type": "markdown",
   "id": "0283cdec-48db-401c-978f-63a63c4e30fb",
   "metadata": {},
   "source": [
    "# 実験用のトピックを作る"
   ]
  },
  {
   "cell_type": "code",
   "execution_count": 5,
   "id": "09505008-314f-406f-a0b2-6bbe42780940",
   "metadata": {},
   "outputs": [],
   "source": [
    "topic_name = 'el_aircon'\n",
    "num_partition = 1\n",
    "replication_factor = 1"
   ]
  },
  {
   "cell_type": "markdown",
   "id": "77522fe3-bc99-491e-b1a6-ed958808ee2d",
   "metadata": {},
   "source": [
    "コンシューマを作成"
   ]
  },
  {
   "cell_type": "code",
   "execution_count": 6,
   "id": "acadaed3-6ff5-4ab5-a69d-39a8e9c6b33f",
   "metadata": {},
   "outputs": [],
   "source": [
    "consumer = Consumer(consumer_conf)"
   ]
  },
  {
   "cell_type": "markdown",
   "id": "a81a5a7c-5892-44dc-b2cd-a0cdaa1df9ec",
   "metadata": {},
   "source": [
    "トピックのリストを得るため、メタデータを取得する。"
   ]
  },
  {
   "cell_type": "code",
   "execution_count": 7,
   "id": "c86240e6-981a-4a52-af1c-0608f22e5ba5",
   "metadata": {},
   "outputs": [
    {
     "data": {
      "text/plain": [
       "ClusterMetadata(IBoB8nNoSE-IfYPZ9mjA1w)"
      ]
     },
     "execution_count": 7,
     "metadata": {},
     "output_type": "execute_result"
    }
   ],
   "source": [
    "cluster_metadata = consumer.list_topics()\n",
    "cluster_metadata"
   ]
  },
  {
   "cell_type": "markdown",
   "id": "70f729d1-39f2-4d55-9b92-a710e9d87102",
   "metadata": {},
   "source": [
    "トピックリストを確認"
   ]
  },
  {
   "cell_type": "code",
   "execution_count": 8,
   "id": "75660286-5d78-4d94-9027-08f9ccb6c517",
   "metadata": {},
   "outputs": [
    {
     "data": {
      "text/plain": [
       "{'el_aircon': TopicMetadata(el_aircon, 1 partitions),\n",
       " '__consumer_offsets': TopicMetadata(__consumer_offsets, 50 partitions)}"
      ]
     },
     "execution_count": 8,
     "metadata": {},
     "output_type": "execute_result"
    }
   ],
   "source": [
    "cluster_metadata.topics"
   ]
  },
  {
   "cell_type": "markdown",
   "id": "6ff52f92-c0d2-4186-a5f2-cfadd9c867ca",
   "metadata": {},
   "source": [
    "`admin` を取得する。"
   ]
  },
  {
   "cell_type": "code",
   "execution_count": 9,
   "id": "97360380-e939-4c5f-99a6-40948a493189",
   "metadata": {},
   "outputs": [],
   "source": [
    "admin = AdminClient(producer_conf)"
   ]
  },
  {
   "cell_type": "markdown",
   "id": "720076a5-3cfa-44f6-aabd-71bef98e4efd",
   "metadata": {},
   "source": [
    "トピックを作成する処理を定義"
   ]
  },
  {
   "cell_type": "code",
   "execution_count": 10,
   "id": "d300f9d3-9200-40ec-8e0c-9a3533f3fec5",
   "metadata": {},
   "outputs": [],
   "source": [
    "def create_topic(admin, topic_name, num_partition, replication_factor):\n",
    "    new_topic = NewTopic(topic_name, num_partition, replication_factor)\n",
    "    result = admin.create_topics([new_topic])\n",
    "    return result"
   ]
  },
  {
   "cell_type": "markdown",
   "id": "7232e4aa-5e59-4f52-b8d2-ac6f32475a3c",
   "metadata": {},
   "source": [
    "トピックがあれば削除し、改めて作り直す。（今は動作確認のため、トピック削除をコメントアウト）"
   ]
  },
  {
   "cell_type": "code",
   "execution_count": 11,
   "id": "d24510ca-c071-448d-a169-963ccf77af68",
   "metadata": {},
   "outputs": [
    {
     "data": {
      "text/plain": [
       "{'el_aircon': <Future at 0x7f738f90ec50 state=finished raised KafkaException>}"
      ]
     },
     "execution_count": 11,
     "metadata": {},
     "output_type": "execute_result"
    }
   ],
   "source": [
    "if topic_name in cluster_metadata.topics:\n",
    "   admin.delete_topics([topic_name])\n",
    "\n",
    "result = create_topic(admin, topic_name, num_partition, replication_factor)   \n",
    "\n",
    "while(not result['el_aircon'].done()):\n",
    "    time.sleep(3)\n",
    "\n",
    "result"
   ]
  },
  {
   "cell_type": "code",
   "execution_count": 12,
   "id": "a919cccd-ef1d-434f-b935-ec5dffa5d7e7",
   "metadata": {},
   "outputs": [],
   "source": [
    "consumer.close()"
   ]
  },
  {
   "cell_type": "markdown",
   "id": "e5ce5eaf-1aef-4ca0-b941-2ae751356c8b",
   "metadata": {},
   "source": [
    "# ECHONET Liteでエアコンからデータを読み込む"
   ]
  },
  {
   "cell_type": "code",
   "execution_count": 13,
   "id": "bf1138df-a806-4c58-98da-b71fd8c73a93",
   "metadata": {},
   "outputs": [],
   "source": [
    "EL_PORT = 3610\n",
    "BUFFER_SIZE = 1024\n",
    "MULTICAST_GROUP='224.0.23.0'"
   ]
  },
  {
   "cell_type": "markdown",
   "id": "0483c3cd-251b-4c1a-a344-46b50e829386",
   "metadata": {},
   "source": [
    "## リクエスト結果の受信機能"
   ]
  },
  {
   "cell_type": "markdown",
   "id": "932668b8-acec-48d5-8c69-9b4519a973f8",
   "metadata": {},
   "source": [
    "エアコンから電源状態と設定値の情報を受け取り、Kafkaに書き込む。"
   ]
  },
  {
   "cell_type": "code",
   "execution_count": 14,
   "id": "33f2187f-c60e-4413-9956-dcc2a408ee7d",
   "metadata": {},
   "outputs": [],
   "source": [
    "def find_local_ip_addr(find_iface_name=None):\n",
    "    for iface_name in netifaces.interfaces():\n",
    "        iface_data = netifaces.ifaddresses(iface_name)\n",
    "        af_inet = iface_data.get(netifaces.AF_INET)\n",
    "    \n",
    "        if not af_inet: continue\n",
    "\n",
    "        ip_addr = af_inet[0][\"addr\"]\n",
    "        \n",
    "        if find_iface_name == None:\n",
    "            return ip_addr\n",
    "        elif iface_name == find_iface_name:\n",
    "            return ip_addr\n",
    "    return None"
   ]
  },
  {
   "cell_type": "code",
   "execution_count": 15,
   "id": "aa0ae19b-3aae-46df-8473-35d49f24066a",
   "metadata": {},
   "outputs": [],
   "source": [
    "def parse_echonet_res(echonet_res_orig):\n",
    "    echonet_res = [hex(x) for x in echonet_res_orig]\n",
    "    res_cols = [echonet_res[ 0: 2],  ## echonetであることの宣言\n",
    "                echonet_res[ 2: 4],  ## ID\n",
    "                echonet_res[ 4: 7],  ## SEOJ(送信元機器) 0ef001=ノード\n",
    "                echonet_res[ 7:10],  ## DEOJ(送信先機器) 05ff01=コントローラ\n",
    "                echonet_res[10:11],  ## 応答code. 71=set 72=get\n",
    "                echonet_res[11:12],  ## 処理プロパティ数 2\n",
    "                echonet_res[12:13],  ## EPC. プロパティ名 80 動作状態\n",
    "                echonet_res[13:14],  ## PDC. 後のbyte数 1\n",
    "                echonet_res[14:15],  ## EDT 30:ON、31:OFF\n",
    "                echonet_res[15:16],  ## EPC. プロパティ名 b3 温度設定値\n",
    "                echonet_res[16:17],  ## PDC. 後のbyte数 1\n",
    "                echonet_res[17:18],  ## EDT 温度設定の値\n",
    "                ]\n",
    "    return res_cols"
   ]
  },
  {
   "cell_type": "code",
   "execution_count": 16,
   "id": "1a100d38-37f2-47a1-90fc-de72417ba293",
   "metadata": {},
   "outputs": [],
   "source": [
    "def produce_to_kafka(producer, key, value):\n",
    "    def acked(err, msg):\n",
    "        if err is not None:\n",
    "            print(\"Failed to deliver message: %s: %s\" % (str(msg), str(err)))\n",
    "        else:\n",
    "            print(\"Message produced: %s\" % (str(msg)))\n",
    "\n",
    "    producer.produce(topic_name, key=key, value=value, callback=acked)\n",
    "\n",
    "    # Wait up to 1 second for events. Callbacks will be invoked during\n",
    "    # this method call if the message is acknowledged.\n",
    "    producer.poll(1)"
   ]
  },
  {
   "cell_type": "code",
   "execution_count": 17,
   "id": "b8b54eb1-4d8b-459d-a59c-a47a2cd32903",
   "metadata": {},
   "outputs": [],
   "source": [
    "def receive_state():\n",
    "    # 自身のipアドレスを探索\n",
    "    local_ip = find_local_ip_addr()\n",
    "    if local_ip == None:\n",
    "        return None\n",
    "\n",
    "    sock = socket.socket(socket.AF_INET, socket.SOCK_DGRAM)\n",
    "    sock.setsockopt(socket.SOL_SOCKET, socket.SO_REUSEADDR, 1)\n",
    "    sock.bind(('', EL_PORT))\n",
    "    # マルチキャストとユニキャストの両方を待ち受け\n",
    "    sock.setsockopt(socket.IPPROTO_IP,\n",
    "                    socket.IP_ADD_MEMBERSHIP,\n",
    "                    socket.inet_aton(MULTICAST_GROUP) + socket.inet_aton(local_ip))\n",
    "\n",
    "    producer = Producer(producer_conf)\n",
    "    \n",
    "    # ここではスレッド起動時にランダムなIDを付与することにする。読みやすさのためゼロパディングしておく。\n",
    "    ID_MIN = 0\n",
    "    ID_MAX = 1000\n",
    "    id = str(random.randint(ID_MIN, ID_MAX)).zfill(4)\n",
    "    \n",
    "    while True:\n",
    "      data = sock.recvfrom(BUFFER_SIZE)\n",
    "      echonet_res = parse_echonet_res(data[0])\n",
    "      print('# original')\n",
    "      print(data)\n",
    "      print('# parsed')\n",
    "      print(echonet_res)\n",
    "      key = '%s#' % (id) + ','.join(echonet_res[1])\n",
    "      value = \"%s,%s\" % (int(echonet_res[8][0], base=16), int(echonet_res[11][0], base=16))\n",
    "      print('produce: %s, %s' % (key, value))\n",
    "      produce_to_kafka(producer, key, value)\n",
    "\n",
    "    sock.close()"
   ]
  },
  {
   "cell_type": "markdown",
   "id": "23e44003-5d1c-452d-8771-69b736cca403",
   "metadata": {},
   "source": [
    "データ送信のリクエストと受信は非同期なので、受信を待ち受けるスレッドを立ち上げる。"
   ]
  },
  {
   "cell_type": "code",
   "execution_count": 18,
   "id": "1180ec31-d262-4cd7-b00f-a9eb56c37192",
   "metadata": {},
   "outputs": [],
   "source": [
    "th = Thread(target=receive_state)\n",
    "th.start()\n",
    "time.sleep(3)"
   ]
  },
  {
   "cell_type": "markdown",
   "id": "e383d300-d3e7-4c62-b31e-5cc636dc92d1",
   "metadata": {},
   "source": [
    "## リクエスト送信機能"
   ]
  },
  {
   "cell_type": "markdown",
   "id": "13e742b8-7ff8-40d1-be6f-c7239430b024",
   "metadata": {},
   "source": [
    "別スレッドで結果を待ち受けているスレッドがある前提で、除法取得のリクエストを送る。"
   ]
  },
  {
   "cell_type": "code",
   "execution_count": 19,
   "id": "3ddb528a-9326-419a-8d6d-13cd7a4468aa",
   "metadata": {},
   "outputs": [],
   "source": [
    "def create_command():\n",
    "    # ---------------------------------------------------\n",
    "    # 3.2.1 ECHONET Lite ヘッダ(EHD)\n",
    "    # ---------------------------------------------------\n",
    "    # 3.2.1.1 ECHONET Lite ヘッダ 1(EHD1)\n",
    "    EHD1 = \"10\"  # ECHONET Lite規格\n",
    "    \n",
    "    # 3.2.1.2 ECHONET Lite ヘッダ 2(EHD2)\n",
    "    EHD2 = \"81\"  # 形式１（規定電文形式）\n",
    "    \n",
    "    # 3.2.2 Transaction ID(TID)\n",
    "    TID = \"0001\"  # IDなのでこの検証ではどの値でもOK\n",
    "    \n",
    "    # フレームのヘッダ－を構成\n",
    "    EHD = EHD1 + EHD2 + TID\n",
    "    \n",
    "    # ---------------------------------------------------\n",
    "    # 3.2.1 ECHONET Lite データ(EDATA)\n",
    "    # ---------------------------------------------------\n",
    "    # 3.2.4 ECHONETオブジェクト\n",
    "    # EOJ = ECHONET Lite オブジェクト\n",
    "    \n",
    "    # SEOJ = 送信元ECHONET Lite オブジェクト\n",
    "    SEOJ_CLS_GROUP = \"05\"     # 管理・操作関連クラスグループ\n",
    "    SEOJ_CLS_CODE = \"ff\"      # コントローラー\n",
    "    SEOJ_CLS_INSTANCE = \"01\"  # インスタンス番号\n",
    "    SEOJ = SEOJ_CLS_GROUP + SEOJ_CLS_CODE + SEOJ_CLS_INSTANCE\n",
    "    \n",
    "    # DEOJ = 送信先ECHONET Lite オブジェクト\n",
    "    DEOJ_CLS_GROUP = \"01\"     # 空調関連機器クラスグループ\n",
    "    DEOJ_CLS_CODE = \"30\"      # 家庭用エアコンクラス\n",
    "    DEOJ_CLS_INSTANCE = \"01\"  # All Instanses\n",
    "    DEOJ = DEOJ_CLS_GROUP + DEOJ_CLS_CODE + DEOJ_CLS_INSTANCE\n",
    "    \n",
    "    \n",
    "    # 3.2.5 ECHONET Lite サービス(ESV)\n",
    "    ESV = \"62\"  # プロパティ値読み出し要求 (Get)\n",
    "    \n",
    "    ###############\n",
    "    # APPENDIX ECHONET機器オブジェクト詳細規定\n",
    "    # - 空調関連機器クラスグループ\n",
    "    #  - 家庭用エアコンクラス規定\n",
    "    # を確認\n",
    "    \n",
    "    # 3.2.6 処理プロパティカウンタ\n",
    "    OPC = \"02\"  # 2件\n",
    "    \n",
    "    \n",
    "    # プロパティ 1件目\n",
    "    EPC1 = \"80\"    # 動作状態の取得(On or Off)\n",
    "    PDC1 = \"00\"    # Getの場合は0でOK\n",
    "    EDT1 = \"\"      # Getの場合はEDTは不要\n",
    "    PROP1 = EPC1 + PDC1 + EDT1\n",
    "    \n",
    "    # プロパティ 2件目\n",
    "    EPC2 = \"b3\"    # 温度設定の取得\n",
    "    PDC2 = \"00\"    # Getの場合は0でOK\n",
    "    EDT2 = \"\"      # Getの場合はEDTは不要\n",
    "    PROP2 = EPC2 + PDC2 + EDT2\n",
    "    \n",
    "    \n",
    "    # フレームのデータ部分であるEDATAを構成\n",
    "    EDATA = SEOJ + DEOJ + ESV + OPC + PROP1 + PROP2\n",
    "    \n",
    "    echonet_command = EHD + EDATA\n",
    "\n",
    "    return echonet_command"
   ]
  },
  {
   "cell_type": "code",
   "execution_count": 20,
   "id": "855ab4e4-d7c4-4f01-90d6-1c2896132026",
   "metadata": {},
   "outputs": [],
   "source": [
    "def send(host, echonet_command):\n",
    "    echonet_port = EL_PORT\n",
    "    #aircon_ip = \"192.168.1.10\"  # 224.0.23.0のアドレスを使うとマルチキャストもできます\n",
    "    \n",
    "    # 要求送信用ソケットでコマンド送信\n",
    "    send_sock = socket.socket(socket.AF_INET, socket.SOCK_DGRAM)\n",
    "    send_sock.sendto(bytes.fromhex(echonet_command), (host, echonet_port))\n",
    "    send_sock.close()"
   ]
  },
  {
   "cell_type": "code",
   "execution_count": 21,
   "id": "833e8bcd-3704-47c3-a039-6d8ee61c75e2",
   "metadata": {},
   "outputs": [],
   "source": [
    "target = os.environ['EL_TARGET']"
   ]
  },
  {
   "cell_type": "code",
   "execution_count": 22,
   "id": "b1890875-02e0-4bbf-aa67-61a8daf3d483",
   "metadata": {},
   "outputs": [],
   "source": [
    "echonet_command = create_command()"
   ]
  },
  {
   "cell_type": "markdown",
   "id": "c51921fe-3c59-4804-96e8-eceed1472203",
   "metadata": {},
   "source": [
    "試しに3回リクエストを送る。スリープ5秒を入れているので、その間にエアコンを操作すると、Kafkaに書き込まれる値が変わることがわかる。"
   ]
  },
  {
   "cell_type": "code",
   "execution_count": 23,
   "id": "5ff4da5e-9e94-4338-b37b-f8e660c1e189",
   "metadata": {},
   "outputs": [
    {
     "name": "stdout",
     "output_type": "stream",
     "text": [
      "# original\n",
      "(b'\\x10\\x81\\x00\\x01\\x010\\x01\\x05\\xff\\x01r\\x02\\x80\\x011\\xb3\\x01\\x15', ('10.0.4.73', 3610))\n",
      "# parsed\n",
      "[['0x10', '0x81'], ['0x0', '0x1'], ['0x1', '0x30', '0x1'], ['0x5', '0xff', '0x1'], ['0x72'], ['0x2'], ['0x80'], ['0x1'], ['0x31'], ['0xb3'], ['0x1'], ['0x15']]\n",
      "produce: 0472#0x0,0x1, 49,21\n",
      "Message produced: <cimpl.Message object at 0x7f7394068cb0>\n",
      "# original\n",
      "(b'\\x10\\x81\\x00\\x01\\x010\\x01\\x05\\xff\\x01r\\x02\\x80\\x011\\xb3\\x01\\x15', ('10.0.4.73', 3610))\n",
      "# parsed\n",
      "[['0x10', '0x81'], ['0x0', '0x1'], ['0x1', '0x30', '0x1'], ['0x5', '0xff', '0x1'], ['0x72'], ['0x2'], ['0x80'], ['0x1'], ['0x31'], ['0xb3'], ['0x1'], ['0x15']]\n",
      "produce: 0472#0x0,0x1, 49,21\n",
      "Message produced: <cimpl.Message object at 0x7f7394068e60>\n",
      "# original\n",
      "(b'\\x10\\x81\\x00\\x01\\x010\\x01\\x05\\xff\\x01r\\x02\\x80\\x011\\xb3\\x01\\x15', ('10.0.4.73', 3610))\n",
      "# parsed\n",
      "[['0x10', '0x81'], ['0x0', '0x1'], ['0x1', '0x30', '0x1'], ['0x5', '0xff', '0x1'], ['0x72'], ['0x2'], ['0x80'], ['0x1'], ['0x31'], ['0xb3'], ['0x1'], ['0x15']]\n",
      "produce: 0472#0x0,0x1, 49,21\n",
      "Message produced: <cimpl.Message object at 0x7f73940683b0>\n"
     ]
    }
   ],
   "source": [
    "for i in range(3):\n",
    "    send(target, echonet_command)\n",
    "    time.sleep(5)"
   ]
  },
  {
   "cell_type": "markdown",
   "id": "ea177715-d42f-4194-98a8-5000084eb5ea",
   "metadata": {},
   "source": [
    "# 読み込む"
   ]
  },
  {
   "cell_type": "code",
   "execution_count": 24,
   "id": "4c701efa-6df0-457d-a0ca-3903a9754104",
   "metadata": {},
   "outputs": [
    {
     "data": {
      "text/plain": [
       "TopicPartition{topic=el_aircon,partition=0,offset=-2,error=None}"
      ]
     },
     "execution_count": 24,
     "metadata": {},
     "output_type": "execute_result"
    }
   ],
   "source": [
    "topic_partition = TopicPartition(topic_name, partition=0, offset=OFFSET_BEGINNING)\n",
    "topic_partition"
   ]
  },
  {
   "cell_type": "code",
   "execution_count": 25,
   "id": "5eb1c21c-c5d3-4a74-838a-ad2df3bcdf84",
   "metadata": {},
   "outputs": [],
   "source": [
    "def my_on_assign(consumer, partitions):\n",
    "    for p in partitions:\n",
    "         # some starting offset, or use OFFSET_BEGINNING, et, al.\n",
    "         # the default offset is STORED which means use committed offsets, and if\n",
    "         # no committed offsets are available use auto.offset.reset config (default latest)\n",
    "        p.offset = OFFSET_BEGINNING\n",
    "    # call assign() to start fetching the given partitions.\n",
    "    consumer.assign(partitions)"
   ]
  },
  {
   "cell_type": "code",
   "execution_count": 26,
   "id": "a6930728-6a98-4e53-b873-a0b565327634",
   "metadata": {},
   "outputs": [
    {
     "name": "stdout",
     "output_type": "stream",
     "text": [
      "b'0472#0x0,0x1' : b'49,21'\n",
      "b'0472#0x0,0x1' : b'49,21'\n",
      "b'0472#0x0,0x1' : b'49,21'\n"
     ]
    }
   ],
   "source": [
    "try:\n",
    "    consumer = Consumer(consumer_conf)\n",
    "    consumer.subscribe([topic_name], on_assign=my_on_assign)\n",
    "    \n",
    "    for i in range(10):\n",
    "        msg = consumer.poll(timeout=1.0)\n",
    "        if msg is None: continue\n",
    "        \n",
    "        if msg.error():\n",
    "                if msg.error().code() == KafkaError._PARTITION_EOF:\n",
    "                    # End of partition event\n",
    "                    sys.stderr.write('%% %s [%d] reached end at offset %d\\n' %\n",
    "                                     (msg.topic(), msg.partition(), msg.offset()))\n",
    "                elif msg.error():\n",
    "                    raise KafkaException(msg.error())\n",
    "        else:\n",
    "            print('%s : %s' % (msg.key(), msg.value()))\n",
    "finally:\n",
    "    consumer.close()"
   ]
  },
  {
   "cell_type": "markdown",
   "id": "dd2a1094-3fdc-4e9d-904c-64699ddd2959",
   "metadata": {},
   "source": [
    "# 後始末"
   ]
  },
  {
   "cell_type": "markdown",
   "id": "caf54360-31fe-499c-8838-31fd0c13422b",
   "metadata": {},
   "source": [
    "今は動作確認のため、トピックを消さない。"
   ]
  },
  {
   "cell_type": "code",
   "execution_count": 27,
   "id": "ae0c9588-813d-4a7e-834b-53247e415d05",
   "metadata": {},
   "outputs": [],
   "source": [
    "#admin.delete_topics([topic_name])"
   ]
  }
 ],
 "metadata": {
  "kernelspec": {
   "display_name": "Python 3 (ipykernel)",
   "language": "python",
   "name": "python3"
  },
  "language_info": {
   "codemirror_mode": {
    "name": "ipython",
    "version": 3
   },
   "file_extension": ".py",
   "mimetype": "text/x-python",
   "name": "python",
   "nbconvert_exporter": "python",
   "pygments_lexer": "ipython3",
   "version": "3.7.10"
  }
 },
 "nbformat": 4,
 "nbformat_minor": 5
}
