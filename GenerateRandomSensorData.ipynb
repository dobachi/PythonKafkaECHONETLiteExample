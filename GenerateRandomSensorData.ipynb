{
 "cells": [
  {
   "cell_type": "markdown",
   "id": "fef565b4-51ba-47a8-88e6-acb56a1d0a7c",
   "metadata": {},
   "source": [
    "# ダミーデータの参考情報"
   ]
  },
  {
   "cell_type": "code",
   "execution_count": 4,
   "id": "825c1869-8fc5-4c6e-b4a6-16e4ac5c321f",
   "metadata": {},
   "outputs": [],
   "source": [
    "import random\n",
    "from pyspark.sql.types import *\n",
    "from pyspark.sql.functions import explode\n",
    "from pyspark.sql.functions import udf\n",
    "from pyspark.sql.functions import array\n",
    "import numpy as np\n",
    "import datetime as dt\n",
    "import scipy.stats as stats"
   ]
  },
  {
   "cell_type": "markdown",
   "id": "bc35df83-b563-41bd-b63d-88a7f45d498e",
   "metadata": {},
   "source": [
    "元データの読み込み"
   ]
  },
  {
   "cell_type": "code",
   "execution_count": 2,
   "id": "7fc7bf7f-1481-4693-b1b7-09468110ed5e",
   "metadata": {},
   "outputs": [],
   "source": [
    "output_base_url = os.environ['OUTPUT_URL']\n",
    "output_url = output_base_url + 'el_aircon'"
   ]
  },
  {
   "cell_type": "code",
   "execution_count": 3,
   "id": "550c8bf4-ef64-4277-8ca6-26a65ff30141",
   "metadata": {},
   "outputs": [
    {
     "name": "stderr",
     "output_type": "stream",
     "text": [
      "21/10/16 09:41:39 WARN MetricsConfig: Cannot locate configuration: tried hadoop-metrics2-s3a-file-system.properties,hadoop-metrics2.properties\n",
      "                                                                                \r"
     ]
    },
    {
     "data": {
      "text/plain": [
       "DataFrame[key_str: string, value_str: string, key: binary, value: binary, topic: string, partition: int, offset: bigint, timestamp: timestamp, timestampType: int]"
      ]
     },
     "execution_count": 3,
     "metadata": {},
     "output_type": "execute_result"
    }
   ],
   "source": [
    "written_df = spark.read.format('delta').load(output_url)\n",
    "written_df"
   ]
  },
  {
   "cell_type": "code",
   "execution_count": 4,
   "id": "e9f063ee-4188-4ee2-beda-41f5dfd7136d",
   "metadata": {},
   "outputs": [
    {
     "name": "stderr",
     "output_type": "stream",
     "text": [
      "[Stage 5:>                                                          (0 + 1) / 1]\r"
     ]
    },
    {
     "name": "stdout",
     "output_type": "stream",
     "text": [
      "+------------+---------+--------------------+----------------+---------+---------+------+--------------------+-------------+\n",
      "|     key_str|value_str|                 key|           value|    topic|partition|offset|           timestamp|timestampType|\n",
      "+------------+---------+--------------------+----------------+---------+---------+------+--------------------+-------------+\n",
      "|0472#0x0,0x1|    49,21|[30 34 37 32 23 3...|[34 39 2C 32 31]|el_aircon|        0|     0|2021-10-16 01:57:...|            0|\n",
      "|0472#0x0,0x1|    49,21|[30 34 37 32 23 3...|[34 39 2C 32 31]|el_aircon|        0|     1|2021-10-16 01:57:...|            0|\n",
      "|0472#0x0,0x1|    49,21|[30 34 37 32 23 3...|[34 39 2C 32 31]|el_aircon|        0|     2|2021-10-16 01:57:...|            0|\n",
      "+------------+---------+--------------------+----------------+---------+---------+------+--------------------+-------------+\n",
      "\n"
     ]
    },
    {
     "name": "stderr",
     "output_type": "stream",
     "text": [
      "                                                                                \r"
     ]
    }
   ],
   "source": [
    "written_df.show()"
   ]
  },
  {
   "cell_type": "markdown",
   "id": "6f854b68-8d9e-4128-97e9-b4450b206e42",
   "metadata": {},
   "source": [
    "今回使用するのは、上記のうち `key_str` 、 `value_str` 、 `timestamp` あたり。他の値はひとまず不要。\n",
    "そこでそのカラムを持ったダミーデータを作成する。"
   ]
  },
  {
   "cell_type": "markdown",
   "id": "e5d78a2c-05d3-452e-b349-a781e4a0cee0",
   "metadata": {},
   "source": [
    "# ダミーデータ生成"
   ]
  },
  {
   "cell_type": "code",
   "execution_count": 43,
   "id": "b1b68d55-242c-439e-ac0c-cf9b70b61bee",
   "metadata": {},
   "outputs": [],
   "source": [
    "#output_base_url = os.environ['OUTPUT_URL']\n",
    "#output_url = output_base_url + 'sensor_data_01' # sensor_data_01 or sensor_data_02\n",
    "output_url = 'data/sensor_data_02'              # sensor_data_01 or sensor_data_02\n",
    "id_min = 1000                                      # sensor_data_01-> 0, sensor_data_02 -> 1000とした\n",
    "id_max = 1999                                    # sensor_data_01 -> 999, sensor_data_02 -> 1999とした\n",
    "num_id = 50"
   ]
  },
  {
   "cell_type": "markdown",
   "id": "a6a53d7a-53a2-4dee-be42-e1df4dd4fc2e",
   "metadata": {},
   "source": [
    "まずベースとなるIDの元の乱数を任意個生成し、それを使ってDataFrameを作成する。"
   ]
  },
  {
   "cell_type": "code",
   "execution_count": 44,
   "id": "e242986a-f0d4-4ad3-b685-655044cc0bd9",
   "metadata": {},
   "outputs": [],
   "source": [
    "def rand_ints_nodup(a, b, k):\n",
    "  ns = []\n",
    "  while len(ns) < k:\n",
    "    n = random.randint(a, b)\n",
    "    if not n in ns:\n",
    "      ns.append(n)\n",
    "  return ns"
   ]
  },
  {
   "cell_type": "code",
   "execution_count": 45,
   "id": "1e19e8d2-02ad-491c-911c-6778502c0600",
   "metadata": {},
   "outputs": [],
   "source": [
    "ids = rand_ints_nodup(id_min, id_max, num_id)\n",
    "id_strs = list(map(lambda x: str(x).zfill(4), ids))"
   ]
  },
  {
   "cell_type": "code",
   "execution_count": 46,
   "id": "3844dcd2-0dd2-47b5-ba79-afaed779b8af",
   "metadata": {},
   "outputs": [],
   "source": [
    "df1 = spark.createDataFrame(id_strs, StringType())"
   ]
  },
  {
   "cell_type": "markdown",
   "id": "f889d797-d2b1-4e44-9950-25d4eb400534",
   "metadata": {},
   "source": [
    "続いて、必要なカラムを作成するためのUDFを定義する。"
   ]
  },
  {
   "cell_type": "code",
   "execution_count": 47,
   "id": "02a84c1d-9ab5-4e35-a317-04d2ecb1d392",
   "metadata": {},
   "outputs": [],
   "source": [
    "# 乱数から作った値にECHONET LiteでのIDを付与する\n",
    "def gen_key_str(id):\n",
    "    return id + \"#\" + \"0x0,0x1\"\n",
    "\n",
    "gen_key_str_udf = udf(gen_key_str)"
   ]
  },
  {
   "cell_type": "code",
   "execution_count": 48,
   "id": "b66a07ac-b073-46bb-ac21-87878646ca85",
   "metadata": {},
   "outputs": [],
   "source": [
    "# ある日付の1時間ごとの電源状態（On/Off）と温度設定値の乱数を生成し、配列として返す\n",
    "def gen_value_str():\n",
    "    records = []\n",
    "    num_records = 24 # 1時間ごとに24時間分\n",
    "    \n",
    "    # 温度設定の乱数生成用。ここでは上限・下限のある正規分布を用いる\n",
    "    lower, upper= 20, 30\n",
    "    mu, sigma= 27, 3\n",
    "    X = stats.truncnorm((lower -mu) /sigma, (upper -mu) /sigma, loc=mu, scale=sigma)\n",
    "    temps = X.rvs(num_records)\n",
    "        \n",
    "    timestamp = dt.datetime(2021, 1, 6)\n",
    "    one_hour = dt.timedelta(hours=1)\n",
    "    \n",
    "    for i in range(0, num_records):\n",
    "        state = 49 if random.randint(0, 2) == 0 else 48  # On（48）の方がOff（49）より2倍程度確率が高くなるように調整。\n",
    "        temp = temps[i]\n",
    "        records.append((\"%d,%d\" % (state, temp), timestamp))\n",
    "        timestamp = timestamp + one_hour\n",
    "        \n",
    "    return records\n",
    "\n",
    "gen_value_str_udf = udf(gen_value_str, ArrayType(StructType([StructField('value_str', StringType(), False), StructField('timestamp', TimestampType(), False)])))"
   ]
  },
  {
   "cell_type": "markdown",
   "id": "db813983-4732-4df0-8875-da98a80b6bcd",
   "metadata": {},
   "source": [
    "キー（レコードを送ってきた主のID）、値（電源状態、温度設定値）、タイムスタンプ（ある日付の1時間ごと）を含んだデータを生成する。\n",
    "なお、この時点では値とタイムスタンプは構造化され、さらに行内で配列化されている。"
   ]
  },
  {
   "cell_type": "code",
   "execution_count": 49,
   "id": "18aa8ee7-1033-4087-b6c6-c7b60294ae43",
   "metadata": {},
   "outputs": [],
   "source": [
    "df2 = df1.select(gen_key_str_udf('value').alias('key_str'), \n",
    "                 gen_value_str_udf().alias('value_str'))"
   ]
  },
  {
   "cell_type": "code",
   "execution_count": 50,
   "id": "feaf3121-c16e-4b3d-b9f1-d5216251af85",
   "metadata": {},
   "outputs": [
    {
     "data": {
      "text/plain": [
       "StructType(List(StructField(key_str,StringType,true),StructField(value_str,ArrayType(StructType(List(StructField(value_str,StringType,false),StructField(timestamp,TimestampType,false))),true),true)))"
      ]
     },
     "execution_count": 50,
     "metadata": {},
     "output_type": "execute_result"
    }
   ],
   "source": [
    "df2.schema"
   ]
  },
  {
   "cell_type": "markdown",
   "id": "669081f1-3c63-4c8a-9c3f-2d217988f8d5",
   "metadata": {},
   "source": [
    "配列となっている値とタイムスタンプのペアを行に展開する。"
   ]
  },
  {
   "cell_type": "code",
   "execution_count": 51,
   "id": "a9c0831e-e725-4400-a5e8-4ee93fdd041b",
   "metadata": {},
   "outputs": [],
   "source": [
    "df3 = df2.select('key_str', explode('value_str').alias('val_time'))"
   ]
  },
  {
   "cell_type": "markdown",
   "id": "b7618dba-9b02-4708-82be-0e07d80cff9c",
   "metadata": {},
   "source": [
    "構造化された値とタイムスタンプを異なる列に展開する。"
   ]
  },
  {
   "cell_type": "code",
   "execution_count": 52,
   "id": "56dcc9f1-e83f-41ae-954c-8c2a31f53af7",
   "metadata": {},
   "outputs": [],
   "source": [
    "df4 = df3.select('key_str', 'val_time.*')"
   ]
  },
  {
   "cell_type": "markdown",
   "id": "df7a9dba-cab6-44d3-9498-d2b229057086",
   "metadata": {},
   "source": [
    "結果は以下の通り。"
   ]
  },
  {
   "cell_type": "code",
   "execution_count": 53,
   "id": "d559f9da-a45f-416d-9c83-1ce381d38786",
   "metadata": {},
   "outputs": [
    {
     "name": "stdout",
     "output_type": "stream",
     "text": [
      "+------------+---------+-------------------+\n",
      "|     key_str|value_str|          timestamp|\n",
      "+------------+---------+-------------------+\n",
      "|1325#0x0,0x1|    48,28|2021-01-06 00:00:00|\n",
      "|1325#0x0,0x1|    49,21|2021-01-06 01:00:00|\n",
      "|1325#0x0,0x1|    49,25|2021-01-06 02:00:00|\n",
      "|1325#0x0,0x1|    48,26|2021-01-06 03:00:00|\n",
      "|1325#0x0,0x1|    48,25|2021-01-06 04:00:00|\n",
      "|1325#0x0,0x1|    49,20|2021-01-06 05:00:00|\n",
      "|1325#0x0,0x1|    48,26|2021-01-06 06:00:00|\n",
      "|1325#0x0,0x1|    48,26|2021-01-06 07:00:00|\n",
      "|1325#0x0,0x1|    48,21|2021-01-06 08:00:00|\n",
      "|1325#0x0,0x1|    48,29|2021-01-06 09:00:00|\n",
      "|1325#0x0,0x1|    48,26|2021-01-06 10:00:00|\n",
      "|1325#0x0,0x1|    48,26|2021-01-06 11:00:00|\n",
      "|1325#0x0,0x1|    48,27|2021-01-06 12:00:00|\n",
      "|1325#0x0,0x1|    49,24|2021-01-06 13:00:00|\n",
      "|1325#0x0,0x1|    49,25|2021-01-06 14:00:00|\n",
      "|1325#0x0,0x1|    49,22|2021-01-06 15:00:00|\n",
      "|1325#0x0,0x1|    48,26|2021-01-06 16:00:00|\n",
      "|1325#0x0,0x1|    48,27|2021-01-06 17:00:00|\n",
      "|1325#0x0,0x1|    49,27|2021-01-06 18:00:00|\n",
      "|1325#0x0,0x1|    48,26|2021-01-06 19:00:00|\n",
      "|1325#0x0,0x1|    48,25|2021-01-06 20:00:00|\n",
      "|1325#0x0,0x1|    48,27|2021-01-06 21:00:00|\n",
      "|1325#0x0,0x1|    49,22|2021-01-06 22:00:00|\n",
      "|1325#0x0,0x1|    49,26|2021-01-06 23:00:00|\n",
      "|1887#0x0,0x1|    48,22|2021-01-06 00:00:00|\n",
      "|1887#0x0,0x1|    49,29|2021-01-06 01:00:00|\n",
      "|1887#0x0,0x1|    48,24|2021-01-06 02:00:00|\n",
      "|1887#0x0,0x1|    49,23|2021-01-06 03:00:00|\n",
      "|1887#0x0,0x1|    48,20|2021-01-06 04:00:00|\n",
      "|1887#0x0,0x1|    48,27|2021-01-06 05:00:00|\n",
      "+------------+---------+-------------------+\n",
      "only showing top 30 rows\n",
      "\n"
     ]
    }
   ],
   "source": [
    "df4.show(30)"
   ]
  },
  {
   "cell_type": "code",
   "execution_count": 54,
   "id": "7f08538e-a8b9-4121-a245-937267af887f",
   "metadata": {},
   "outputs": [
    {
     "data": {
      "text/plain": [
       "StructType(List(StructField(key_str,StringType,true),StructField(value_str,StringType,true),StructField(timestamp,TimestampType,true)))"
      ]
     },
     "execution_count": 54,
     "metadata": {},
     "output_type": "execute_result"
    }
   ],
   "source": [
    "df4.schema"
   ]
  },
  {
   "cell_type": "markdown",
   "id": "57036548-5618-4eba-a6e9-352ff9b23705",
   "metadata": {},
   "source": [
    "これをさらに、1分毎のデータに水増しする。ただし、1分単位で電源をOn/Offしたり、設定をいじることはないので、ここでは簡単化のために1時間は同じ設定を維持することにする。（つまり、単にタイムスタンプだけいじって行を水増しする）"
   ]
  },
  {
   "cell_type": "code",
   "execution_count": 55,
   "id": "44b7bede-5273-4733-a9fe-f5a3488e1123",
   "metadata": {},
   "outputs": [],
   "source": [
    "@udf(ArrayType(TimestampType()))\n",
    "def transform_timestamp(timestamp):\n",
    "    records = [timestamp]\n",
    "    num_records = 60\n",
    "    for i in range(0, num_records):\n",
    "        delta = dt.timedelta(minutes=i+1)\n",
    "        records.append(timestamp + delta)\n",
    "        \n",
    "    return records"
   ]
  },
  {
   "cell_type": "code",
   "execution_count": 56,
   "id": "1eaf0982-0c6c-4971-9828-36c4b313797c",
   "metadata": {},
   "outputs": [],
   "source": [
    "df5 = df4.select(explode(transform_timestamp(df4['timestamp'])).alias('timestamp_min'), '*')"
   ]
  },
  {
   "cell_type": "code",
   "execution_count": 57,
   "id": "b72185af-f051-406c-8f85-8d8018dc05b4",
   "metadata": {},
   "outputs": [
    {
     "name": "stdout",
     "output_type": "stream",
     "text": [
      "+-------------------+------------+---------+-------------------+\n",
      "|      timestamp_min|     key_str|value_str|          timestamp|\n",
      "+-------------------+------------+---------+-------------------+\n",
      "|2021-01-06 00:00:00|1325#0x0,0x1|    49,22|2021-01-06 00:00:00|\n",
      "|2021-01-06 00:01:00|1325#0x0,0x1|    49,22|2021-01-06 00:00:00|\n",
      "|2021-01-06 00:02:00|1325#0x0,0x1|    49,22|2021-01-06 00:00:00|\n",
      "|2021-01-06 00:03:00|1325#0x0,0x1|    49,22|2021-01-06 00:00:00|\n",
      "|2021-01-06 00:04:00|1325#0x0,0x1|    49,22|2021-01-06 00:00:00|\n",
      "|2021-01-06 00:05:00|1325#0x0,0x1|    49,22|2021-01-06 00:00:00|\n",
      "|2021-01-06 00:06:00|1325#0x0,0x1|    49,22|2021-01-06 00:00:00|\n",
      "|2021-01-06 00:07:00|1325#0x0,0x1|    49,22|2021-01-06 00:00:00|\n",
      "|2021-01-06 00:08:00|1325#0x0,0x1|    49,22|2021-01-06 00:00:00|\n",
      "|2021-01-06 00:09:00|1325#0x0,0x1|    49,22|2021-01-06 00:00:00|\n",
      "|2021-01-06 00:10:00|1325#0x0,0x1|    49,22|2021-01-06 00:00:00|\n",
      "|2021-01-06 00:11:00|1325#0x0,0x1|    49,22|2021-01-06 00:00:00|\n",
      "|2021-01-06 00:12:00|1325#0x0,0x1|    49,22|2021-01-06 00:00:00|\n",
      "|2021-01-06 00:13:00|1325#0x0,0x1|    49,22|2021-01-06 00:00:00|\n",
      "|2021-01-06 00:14:00|1325#0x0,0x1|    49,22|2021-01-06 00:00:00|\n",
      "|2021-01-06 00:15:00|1325#0x0,0x1|    49,22|2021-01-06 00:00:00|\n",
      "|2021-01-06 00:16:00|1325#0x0,0x1|    49,22|2021-01-06 00:00:00|\n",
      "|2021-01-06 00:17:00|1325#0x0,0x1|    49,22|2021-01-06 00:00:00|\n",
      "|2021-01-06 00:18:00|1325#0x0,0x1|    49,22|2021-01-06 00:00:00|\n",
      "|2021-01-06 00:19:00|1325#0x0,0x1|    49,22|2021-01-06 00:00:00|\n",
      "+-------------------+------------+---------+-------------------+\n",
      "only showing top 20 rows\n",
      "\n"
     ]
    }
   ],
   "source": [
    "df5.show()"
   ]
  },
  {
   "cell_type": "markdown",
   "id": "22c68065-f2e7-4e42-9296-0ed653a61f32",
   "metadata": {},
   "source": [
    "出力先に書き込み"
   ]
  },
  {
   "cell_type": "code",
   "execution_count": 58,
   "id": "0345db4e-3202-4953-aca3-b8df98be4664",
   "metadata": {},
   "outputs": [],
   "source": [
    "df6 = df5.select(df5['timestamp_min'].alias('timestamp'), df5['key_str'].alias('id'), df5['value_str'].alias('state'))"
   ]
  },
  {
   "cell_type": "code",
   "execution_count": 59,
   "id": "27eb00ba-ad9e-4745-8422-1695a6a0fefe",
   "metadata": {},
   "outputs": [],
   "source": [
    "df7 = df6.orderBy(df6['timestamp'], df6['id']).coalesce(1)"
   ]
  },
  {
   "cell_type": "code",
   "execution_count": 60,
   "id": "7e53ec62-d53f-4ac9-b815-41f2b1453cc3",
   "metadata": {},
   "outputs": [
    {
     "name": "stderr",
     "output_type": "stream",
     "text": [
      "                                                                                \r"
     ]
    }
   ],
   "source": [
    "df7.write.format('csv').option('sep', r'/t').option('header', 'true').mode('overwrite').save(output_url)"
   ]
  },
  {
   "cell_type": "markdown",
   "id": "544801a1-d7c5-40fc-af1b-6cf2d3aed8d3",
   "metadata": {},
   "source": [
    "書き込まれたことを確認する。"
   ]
  },
  {
   "cell_type": "code",
   "execution_count": 61,
   "id": "416498d7-596c-4721-80f9-3c1535f2c2d3",
   "metadata": {},
   "outputs": [
    {
     "name": "stdout",
     "output_type": "stream",
     "text": [
      "+--------------------+------------+-----+\n",
      "|           timestamp|          id|state|\n",
      "+--------------------+------------+-----+\n",
      "|2021-01-06T00:00:...|1003#0x0,0x1|48,29|\n",
      "|2021-01-06T00:00:...|1039#0x0,0x1|48,27|\n",
      "|2021-01-06T00:00:...|1061#0x0,0x1|48,29|\n",
      "|2021-01-06T00:00:...|1076#0x0,0x1|48,26|\n",
      "|2021-01-06T00:00:...|1113#0x0,0x1|49,26|\n",
      "|2021-01-06T00:00:...|1141#0x0,0x1|48,25|\n",
      "|2021-01-06T00:00:...|1195#0x0,0x1|49,26|\n",
      "|2021-01-06T00:00:...|1206#0x0,0x1|49,27|\n",
      "|2021-01-06T00:00:...|1217#0x0,0x1|48,24|\n",
      "|2021-01-06T00:00:...|1219#0x0,0x1|49,23|\n",
      "|2021-01-06T00:00:...|1257#0x0,0x1|48,25|\n",
      "|2021-01-06T00:00:...|1258#0x0,0x1|49,29|\n",
      "|2021-01-06T00:00:...|1268#0x0,0x1|48,28|\n",
      "|2021-01-06T00:00:...|1325#0x0,0x1|49,28|\n",
      "|2021-01-06T00:00:...|1375#0x0,0x1|49,28|\n",
      "|2021-01-06T00:00:...|1390#0x0,0x1|49,29|\n",
      "|2021-01-06T00:00:...|1394#0x0,0x1|48,26|\n",
      "|2021-01-06T00:00:...|1414#0x0,0x1|48,24|\n",
      "|2021-01-06T00:00:...|1449#0x0,0x1|48,23|\n",
      "|2021-01-06T00:00:...|1451#0x0,0x1|48,23|\n",
      "+--------------------+------------+-----+\n",
      "only showing top 20 rows\n",
      "\n"
     ]
    }
   ],
   "source": [
    "df = spark.read.format('csv').option('sep', r'/t').option('header', 'true'). load(output_url)\n",
    "df.show()"
   ]
  },
  {
   "cell_type": "code",
   "execution_count": null,
   "id": "3cbaa99e-8aec-4903-8a61-4c51a95150b8",
   "metadata": {},
   "outputs": [],
   "source": []
  },
  {
   "cell_type": "code",
   "execution_count": null,
   "id": "e70c8482-a414-4d62-9b17-96ea1df375f5",
   "metadata": {},
   "outputs": [],
   "source": []
  }
 ],
 "metadata": {
  "kernelspec": {
   "display_name": "Python 3 (ipykernel)",
   "language": "python",
   "name": "python3"
  },
  "language_info": {
   "codemirror_mode": {
    "name": "ipython",
    "version": 3
   },
   "file_extension": ".py",
   "mimetype": "text/x-python",
   "name": "python",
   "nbconvert_exporter": "python",
   "pygments_lexer": "ipython3",
   "version": "3.7.10"
  }
 },
 "nbformat": 4,
 "nbformat_minor": 5
}
