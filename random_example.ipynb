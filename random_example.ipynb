{
 "cells": [
  {
   "cell_type": "markdown",
   "id": "e842faf9-f439-4a03-9d0a-b657dcb43c30",
   "metadata": {},
   "source": [
    "# 温度設定の値の乱数について"
   ]
  },
  {
   "cell_type": "code",
   "execution_count": 28,
   "id": "9e33bc77-21b4-4fc8-b5b0-9632d5ad18f9",
   "metadata": {},
   "outputs": [],
   "source": [
    "import matplotlib.pyplot as plt"
   ]
  },
  {
   "cell_type": "markdown",
   "id": "914b54f2-ecde-494e-9238-2e6422df7b16",
   "metadata": {},
   "source": [
    "上限・下限のある正規分布を用いることにする"
   ]
  },
  {
   "cell_type": "code",
   "execution_count": 3,
   "id": "502653a2-180f-49f6-95ff-3d4ff47436c9",
   "metadata": {},
   "outputs": [],
   "source": [
    "import scipy.stats as stats"
   ]
  },
  {
   "cell_type": "code",
   "execution_count": 6,
   "id": "b9fc84ba-a3ee-47ff-b836-9eaab9d15283",
   "metadata": {},
   "outputs": [],
   "source": [
    "lower, upper= 20, 30"
   ]
  },
  {
   "cell_type": "code",
   "execution_count": 36,
   "id": "7e3727af-831a-46eb-8955-8bde865a458c",
   "metadata": {},
   "outputs": [],
   "source": [
    "mu, sigma= 27, 3"
   ]
  },
  {
   "cell_type": "code",
   "execution_count": 37,
   "id": "061859f5-66f2-4f44-9b8f-86e696306afd",
   "metadata": {},
   "outputs": [],
   "source": [
    "X = stats.truncnorm(\n",
    "    (lower -mu) /sigma, (upper -mu) /sigma, loc=mu, scale=sigma)"
   ]
  },
  {
   "cell_type": "code",
   "execution_count": 38,
   "id": "3788798e-c8da-4217-b993-687194bbd129",
   "metadata": {},
   "outputs": [],
   "source": [
    "N= stats.norm(loc=mu, scale=sigma)"
   ]
  },
  {
   "cell_type": "code",
   "execution_count": 39,
   "id": "16b4aa1d-8db2-4b73-a90c-80f49ebe80d3",
   "metadata": {},
   "outputs": [
    {
     "data": {
      "text/plain": [
       "(array([0.0049, 0.0235, 0.0413, 0.0668, 0.0972, 0.1261, 0.1537, 0.1567,\n",
       "        0.1487, 0.1811]),\n",
       " array([20., 21., 22., 23., 24., 25., 26., 27., 28., 29., 30.]),\n",
       " <BarContainer object of 10 artists>)"
      ]
     },
     "execution_count": 39,
     "metadata": {},
     "output_type": "execute_result"
    },
    {
     "data": {
      "image/png": "[encoded data removed]",
      "text/plain": [
       "<Figure size 432x288 with 1 Axes>"
      ]
     },
     "metadata": {
      "needs_background": "light"
     },
     "output_type": "display_data"
    }
   ],
   "source": [
    "plt.hist([round(x) for x in X.rvs(10000)], density=True)"
   ]
  },
  {
   "cell_type": "markdown",
   "id": "acd12e24-d57d-4469-8753-cbdcf22d519d",
   "metadata": {},
   "source": [
    "実際には、サンプル数が少ないのでここまで綺麗な形にはならないが…。\n",
    "試しに24時間分（＝24個）だけ取り出してみる。"
   ]
  },
  {
   "cell_type": "code",
   "execution_count": 40,
   "id": "1e335db3-6ad7-4eee-a07c-5e3b682d569e",
   "metadata": {},
   "outputs": [
    {
     "data": {
      "text/plain": [
       "(array([0.27777778, 0.20833333, 0.        , 0.06944444, 0.        ,\n",
       "        0.27777778, 0.34722222, 0.        , 0.20833333, 0.27777778]),\n",
       " array([23. , 23.6, 24.2, 24.8, 25.4, 26. , 26.6, 27.2, 27.8, 28.4, 29. ]),\n",
       " <BarContainer object of 10 artists>)"
      ]
     },
     "execution_count": 40,
     "metadata": {},
     "output_type": "execute_result"
    },
    {
     "data": {
      "image/png": "[encoded data removed]",
      "text/plain": [
       "<Figure size 432x288 with 1 Axes>"
      ]
     },
     "metadata": {
      "needs_background": "light"
     },
     "output_type": "display_data"
    }
   ],
   "source": [
    "plt.hist([round(x) for x in X.rvs(24)], density=True)"
   ]
  },
  {
   "cell_type": "code",
   "execution_count": null,
   "id": "c08d864c-63c4-44b3-9445-015a5cf3fff6",
   "metadata": {},
   "outputs": [],
   "source": []
  }
 ],
 "metadata": {
  "kernelspec": {
   "display_name": "Python 3 (ipykernel)",
   "language": "python",
   "name": "python3"
  },
  "language_info": {
   "codemirror_mode": {
    "name": "ipython",
    "version": 3
   },
   "file_extension": ".py",
   "mimetype": "text/x-python",
   "name": "python",
   "nbconvert_exporter": "python",
   "pygments_lexer": "ipython3",
   "version": "3.7.10"
  }
 },
 "nbformat": 4,
 "nbformat_minor": 5
}
