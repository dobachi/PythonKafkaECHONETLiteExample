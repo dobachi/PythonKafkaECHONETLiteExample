{
 "cells": [
  {
   "cell_type": "markdown",
   "id": "700f6bd9-0d86-4b49-8743-4bca70c05a0e",
   "metadata": {},
   "source": [
    "# Kafkaから読み込んでDelta Lakeに書き込み"
   ]
  },
  {
   "cell_type": "markdown",
   "id": "746cb120-0b75-4906-8ed4-d78c6f07b7ca",
   "metadata": {},
   "source": [
    "とりあえず読んだまま書き込む例"
   ]
  },
  {
   "cell_type": "code",
   "execution_count": 1,
   "id": "951458b8-734b-4746-87bb-bd87084d629a",
   "metadata": {},
   "outputs": [],
   "source": [
    "from pyspark.sql import SparkSession\n",
    "from pyspark.sql.functions import explode\n",
    "from pyspark.sql.functions import split\n",
    "from pyspark.sql.types import StringType\n",
    "import os\n",
    "import time"
   ]
  },
  {
   "cell_type": "code",
   "execution_count": 2,
   "id": "df590956-a1c1-4c0c-85a9-8469040648fa",
   "metadata": {},
   "outputs": [],
   "source": [
    "checkpoint_location = 'file:///tmp/_checkpoints/etl-from-json'\n",
    "output_base_url = os.environ['OUTPUT_URL']\n",
    "output_url = output_base_url + 'el_aircon'"
   ]
  },
  {
   "cell_type": "code",
   "execution_count": 3,
   "id": "b1a72259-2502-49d1-90e3-83441f04f9ee",
   "metadata": {},
   "outputs": [],
   "source": [
    "bootstrap_servers = 'localhost:9092'\n",
    "topic_name = 'el_aircon'"
   ]
  },
  {
   "cell_type": "code",
   "execution_count": 4,
   "id": "d992ccd4-ce02-46e5-b07f-32f3743e321d",
   "metadata": {},
   "outputs": [],
   "source": [
    "df = spark \\\n",
    "  .readStream \\\n",
    "  .format(\"kafka\") \\\n",
    "  .option(\"kafka.bootstrap.servers\", bootstrap_servers) \\\n",
    "  .option(\"startingOffsets\", \"earliest\") \\\n",
    "  .option(\"subscribe\", topic_name) \\\n",
    "  .load()"
   ]
  },
  {
   "cell_type": "code",
   "execution_count": 5,
   "id": "a3c66d2d-f074-4b7f-9110-7e5386886d81",
   "metadata": {},
   "outputs": [],
   "source": [
    "output = df.select(df['key'].cast(StringType()).alias('id'), df['value'].cast(StringType()).alias('state'), df['*'])"
   ]
  },
  {
   "cell_type": "code",
   "execution_count": 6,
   "id": "9770334a-2d67-4449-bd16-d63225a3841f",
   "metadata": {},
   "outputs": [
    {
     "name": "stderr",
     "output_type": "stream",
     "text": [
      "21/10/17 00:05:46 WARN MetricsConfig: Cannot locate configuration: tried hadoop-metrics2-s3a-file-system.properties,hadoop-metrics2.properties\n"
     ]
    },
    {
     "data": {
      "text/plain": [
       "<pyspark.sql.streaming.StreamingQuery at 0x7feb8f669a10>"
      ]
     },
     "execution_count": 6,
     "metadata": {},
     "output_type": "execute_result"
    }
   ],
   "source": [
    "output.writeStream \\\n",
    "  .format(\"delta\") \\\n",
    "  .outputMode(\"append\") \\\n",
    "  .option(\"checkpointLocation\", checkpoint_location) \\\n",
    "  .start(output_url)"
   ]
  },
  {
   "cell_type": "code",
   "execution_count": 7,
   "id": "2bb5cbb3-ec91-4aee-8fde-2ebad5e28fd7",
   "metadata": {},
   "outputs": [
    {
     "name": "stderr",
     "output_type": "stream",
     "text": [
      "                                                                                \r"
     ]
    }
   ],
   "source": [
    "time.sleep(30)"
   ]
  },
  {
   "cell_type": "markdown",
   "id": "8ac3d85d-0b8e-473a-8bea-05f408885689",
   "metadata": {},
   "source": [
    "# 書き込まれたデータを読み取る"
   ]
  },
  {
   "cell_type": "markdown",
   "id": "2cfcbdbb-5d0a-414c-af1c-64a0335eeb12",
   "metadata": {},
   "source": [
    "バッチ的に読み取って確認する。"
   ]
  },
  {
   "cell_type": "code",
   "execution_count": 8,
   "id": "8e0f3784-ea72-4b02-8dcc-79b9cc394185",
   "metadata": {},
   "outputs": [
    {
     "data": {
      "text/plain": [
       "DataFrame[id: string, state: string, key: binary, value: binary, topic: string, partition: int, offset: bigint, timestamp: timestamp, timestampType: int]"
      ]
     },
     "execution_count": 8,
     "metadata": {},
     "output_type": "execute_result"
    }
   ],
   "source": [
    "written_df = spark.read.format('delta').load(output_url)\n",
    "written_df"
   ]
  },
  {
   "cell_type": "code",
   "execution_count": 9,
   "id": "cc92ced8-fd2d-46fa-8d3a-135c8a452a84",
   "metadata": {},
   "outputs": [
    {
     "name": "stderr",
     "output_type": "stream",
     "text": [
      "                                                                                \r"
     ]
    },
    {
     "name": "stdout",
     "output_type": "stream",
     "text": [
      "+------------+-----+--------------------+----------------+---------+---------+------+--------------------+-------------+\n",
      "|          id|state|                 key|           value|    topic|partition|offset|           timestamp|timestampType|\n",
      "+------------+-----+--------------------+----------------+---------+---------+------+--------------------+-------------+\n",
      "|0068#0x0,0x1|49,21|[30 30 36 38 23 3...|[34 39 2C 32 31]|el_aircon|        0|     0|2021-10-17 00:04:...|            0|\n",
      "|0068#0x0,0x1|49,21|[30 30 36 38 23 3...|[34 39 2C 32 31]|el_aircon|        0|     1|2021-10-17 00:04:...|            0|\n",
      "|0068#0x0,0x1|49,21|[30 30 36 38 23 3...|[34 39 2C 32 31]|el_aircon|        0|     2|2021-10-17 00:04:...|            0|\n",
      "+------------+-----+--------------------+----------------+---------+---------+------+--------------------+-------------+\n",
      "\n"
     ]
    }
   ],
   "source": [
    "written_df.show()"
   ]
  },
  {
   "cell_type": "code",
   "execution_count": null,
   "id": "98af2f8e-a4dd-442f-8210-e99a9041bdd8",
   "metadata": {},
   "outputs": [],
   "source": []
  },
  {
   "cell_type": "code",
   "execution_count": null,
   "id": "ac538560-39c0-49c3-81e0-7c1b74575d92",
   "metadata": {},
   "outputs": [],
   "source": []
  }
 ],
 "metadata": {
  "kernelspec": {
   "display_name": "Python 3 (ipykernel)",
   "language": "python",
   "name": "python3"
  },
  "language_info": {
   "codemirror_mode": {
    "name": "ipython",
    "version": 3
   },
   "file_extension": ".py",
   "mimetype": "text/x-python",
   "name": "python",
   "nbconvert_exporter": "python",
   "pygments_lexer": "ipython3",
   "version": "3.7.10"
  }
 },
 "nbformat": 4,
 "nbformat_minor": 5
}
