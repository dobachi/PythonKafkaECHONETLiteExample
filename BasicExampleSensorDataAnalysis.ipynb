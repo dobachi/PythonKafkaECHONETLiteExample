{
 "cells": [
  {
   "cell_type": "markdown",
   "id": "deb8c01f-3b64-47a6-862e-b16795a455e7",
   "metadata": {},
   "source": [
    "# Pythonで読み込む"
   ]
  },
  {
   "cell_type": "code",
   "execution_count": 20,
   "id": "8767ef65-6990-464b-aa0c-a208d140d416",
   "metadata": {},
   "outputs": [],
   "source": [
    "import delta_sharing"
   ]
  },
  {
   "cell_type": "code",
   "execution_count": 21,
   "id": "e7484e6c-abf9-4289-a9c4-606d5906daab",
   "metadata": {},
   "outputs": [],
   "source": [
    "profile_file_01 = 'conf/sensor_data_01.share'\n",
    "profile_file_02 = 'conf/sensor_data_02.share'\n",
    "profile_file_power = 'conf/power_grid.share'"
   ]
  },
  {
   "cell_type": "code",
   "execution_count": 26,
   "id": "50690c61-cabb-46c7-b554-9ff6c4c6e62a",
   "metadata": {},
   "outputs": [],
   "source": [
    "client01 = delta_sharing.SharingClient(profile_file_01)\n",
    "client02 = delta_sharing.SharingClient(profile_file_02)\n",
    "client_power = delta_sharing.SharingClient(profile_file_power)"
   ]
  },
  {
   "cell_type": "code",
   "execution_count": 27,
   "id": "71aa3150-8269-4e8b-aed9-f9225b57e054",
   "metadata": {},
   "outputs": [
    {
     "data": {
      "text/plain": [
       "[Table(name='table', share='sensor_data_01', schema='schema')]"
      ]
     },
     "execution_count": 27,
     "metadata": {},
     "output_type": "execute_result"
    }
   ],
   "source": [
    "client01.list_all_tables()"
   ]
  },
  {
   "cell_type": "code",
   "execution_count": 28,
   "id": "3d2c637d-3308-423c-812d-45b475a89b91",
   "metadata": {},
   "outputs": [
    {
     "data": {
      "text/plain": [
       "[Table(name='table', share='sensor_data_02', schema='schema')]"
      ]
     },
     "execution_count": 28,
     "metadata": {},
     "output_type": "execute_result"
    }
   ],
   "source": [
    "client02.list_all_tables()"
   ]
  },
  {
   "cell_type": "code",
   "execution_count": 29,
   "id": "9210ee10-d454-4cfe-b267-15367899bccc",
   "metadata": {},
   "outputs": [
    {
     "data": {
      "text/plain": [
       "[Table(name='table', share='power_grid_dummydata', schema='schema')]"
      ]
     },
     "execution_count": 29,
     "metadata": {},
     "output_type": "execute_result"
    }
   ],
   "source": [
    "client_power.list_all_tables()"
   ]
  },
  {
   "cell_type": "code",
   "execution_count": 30,
   "id": "787bd1e7-dc79-4040-b9b4-99ad62cbc5ba",
   "metadata": {},
   "outputs": [],
   "source": [
    "table01_url = profile_file_01 + '#sensor_data_01.schema.table'\n",
    "table02_url = profile_file_02 + '#sensor_data_02.schema.table'\n",
    "table_power_url = profile_file_power + '#power_grid_dummydata.schema.table'"
   ]
  },
  {
   "cell_type": "code",
   "execution_count": 14,
   "id": "330bf39c-79ed-4a2a-ac78-20e4fce4e44e",
   "metadata": {},
   "outputs": [
    {
     "data": {
      "text/html": [
       "<div>\n",
       "<style scoped>\n",
       "    .dataframe tbody tr th:only-of-type {\n",
       "        vertical-align: middle;\n",
       "    }\n",
       "\n",
       "    .dataframe tbody tr th {\n",
       "        vertical-align: top;\n",
       "    }\n",
       "\n",
       "    .dataframe thead th {\n",
       "        text-align: right;\n",
       "    }\n",
       "</style>\n",
       "<table border=\"1\" class=\"dataframe\">\n",
       "  <thead>\n",
       "    <tr style=\"text-align: right;\">\n",
       "      <th></th>\n",
       "      <th>timestamp</th>\n",
       "      <th>id</th>\n",
       "      <th>state</th>\n",
       "    </tr>\n",
       "  </thead>\n",
       "  <tbody>\n",
       "    <tr>\n",
       "      <th>0</th>\n",
       "      <td>2021-01-05 15:00:00</td>\n",
       "      <td>0011#0x0,0x1</td>\n",
       "      <td>48,29</td>\n",
       "    </tr>\n",
       "    <tr>\n",
       "      <th>1</th>\n",
       "      <td>2021-01-05 15:00:00</td>\n",
       "      <td>0016#0x0,0x1</td>\n",
       "      <td>49,24</td>\n",
       "    </tr>\n",
       "    <tr>\n",
       "      <th>2</th>\n",
       "      <td>2021-01-05 15:00:00</td>\n",
       "      <td>0034#0x0,0x1</td>\n",
       "      <td>48,24</td>\n",
       "    </tr>\n",
       "    <tr>\n",
       "      <th>3</th>\n",
       "      <td>2021-01-05 15:00:00</td>\n",
       "      <td>0040#0x0,0x1</td>\n",
       "      <td>48,28</td>\n",
       "    </tr>\n",
       "    <tr>\n",
       "      <th>4</th>\n",
       "      <td>2021-01-05 15:00:00</td>\n",
       "      <td>0044#0x0,0x1</td>\n",
       "      <td>48,20</td>\n",
       "    </tr>\n",
       "    <tr>\n",
       "      <th>...</th>\n",
       "      <td>...</td>\n",
       "      <td>...</td>\n",
       "      <td>...</td>\n",
       "    </tr>\n",
       "    <tr>\n",
       "      <th>73195</th>\n",
       "      <td>2021-01-06 15:00:00</td>\n",
       "      <td>0900#0x0,0x1</td>\n",
       "      <td>48,27</td>\n",
       "    </tr>\n",
       "    <tr>\n",
       "      <th>73196</th>\n",
       "      <td>2021-01-06 15:00:00</td>\n",
       "      <td>0904#0x0,0x1</td>\n",
       "      <td>48,25</td>\n",
       "    </tr>\n",
       "    <tr>\n",
       "      <th>73197</th>\n",
       "      <td>2021-01-06 15:00:00</td>\n",
       "      <td>0912#0x0,0x1</td>\n",
       "      <td>48,26</td>\n",
       "    </tr>\n",
       "    <tr>\n",
       "      <th>73198</th>\n",
       "      <td>2021-01-06 15:00:00</td>\n",
       "      <td>0916#0x0,0x1</td>\n",
       "      <td>48,25</td>\n",
       "    </tr>\n",
       "    <tr>\n",
       "      <th>73199</th>\n",
       "      <td>2021-01-06 15:00:00</td>\n",
       "      <td>0940#0x0,0x1</td>\n",
       "      <td>48,24</td>\n",
       "    </tr>\n",
       "  </tbody>\n",
       "</table>\n",
       "<p>73200 rows × 3 columns</p>\n",
       "</div>"
      ],
      "text/plain": [
       "                timestamp            id  state\n",
       "0     2021-01-05 15:00:00  0011#0x0,0x1  48,29\n",
       "1     2021-01-05 15:00:00  0016#0x0,0x1  49,24\n",
       "2     2021-01-05 15:00:00  0034#0x0,0x1  48,24\n",
       "3     2021-01-05 15:00:00  0040#0x0,0x1  48,28\n",
       "4     2021-01-05 15:00:00  0044#0x0,0x1  48,20\n",
       "...                   ...           ...    ...\n",
       "73195 2021-01-06 15:00:00  0900#0x0,0x1  48,27\n",
       "73196 2021-01-06 15:00:00  0904#0x0,0x1  48,25\n",
       "73197 2021-01-06 15:00:00  0912#0x0,0x1  48,26\n",
       "73198 2021-01-06 15:00:00  0916#0x0,0x1  48,25\n",
       "73199 2021-01-06 15:00:00  0940#0x0,0x1  48,24\n",
       "\n",
       "[73200 rows x 3 columns]"
      ]
     },
     "execution_count": 14,
     "metadata": {},
     "output_type": "execute_result"
    }
   ],
   "source": [
    "pdf01 = delta_sharing.load_as_pandas(table01_url)\n",
    "pdf01"
   ]
  },
  {
   "cell_type": "code",
   "execution_count": 15,
   "id": "115aa980-3175-455a-af81-64a695816a9e",
   "metadata": {},
   "outputs": [
    {
     "data": {
      "text/html": [
       "<div>\n",
       "<style scoped>\n",
       "    .dataframe tbody tr th:only-of-type {\n",
       "        vertical-align: middle;\n",
       "    }\n",
       "\n",
       "    .dataframe tbody tr th {\n",
       "        vertical-align: top;\n",
       "    }\n",
       "\n",
       "    .dataframe thead th {\n",
       "        text-align: right;\n",
       "    }\n",
       "</style>\n",
       "<table border=\"1\" class=\"dataframe\">\n",
       "  <thead>\n",
       "    <tr style=\"text-align: right;\">\n",
       "      <th></th>\n",
       "      <th>timestamp</th>\n",
       "      <th>id</th>\n",
       "      <th>state</th>\n",
       "    </tr>\n",
       "  </thead>\n",
       "  <tbody>\n",
       "    <tr>\n",
       "      <th>0</th>\n",
       "      <td>2021-01-05 15:00:00</td>\n",
       "      <td>1000#0x0,0x1</td>\n",
       "      <td>48,25</td>\n",
       "    </tr>\n",
       "    <tr>\n",
       "      <th>1</th>\n",
       "      <td>2021-01-05 15:00:00</td>\n",
       "      <td>1003#0x0,0x1</td>\n",
       "      <td>49,20</td>\n",
       "    </tr>\n",
       "    <tr>\n",
       "      <th>2</th>\n",
       "      <td>2021-01-05 15:00:00</td>\n",
       "      <td>1018#0x0,0x1</td>\n",
       "      <td>48,27</td>\n",
       "    </tr>\n",
       "    <tr>\n",
       "      <th>3</th>\n",
       "      <td>2021-01-05 15:00:00</td>\n",
       "      <td>1039#0x0,0x1</td>\n",
       "      <td>48,23</td>\n",
       "    </tr>\n",
       "    <tr>\n",
       "      <th>4</th>\n",
       "      <td>2021-01-05 15:00:00</td>\n",
       "      <td>1040#0x0,0x1</td>\n",
       "      <td>48,27</td>\n",
       "    </tr>\n",
       "    <tr>\n",
       "      <th>...</th>\n",
       "      <td>...</td>\n",
       "      <td>...</td>\n",
       "      <td>...</td>\n",
       "    </tr>\n",
       "    <tr>\n",
       "      <th>73195</th>\n",
       "      <td>2021-01-06 15:00:00</td>\n",
       "      <td>1945#0x0,0x1</td>\n",
       "      <td>48,25</td>\n",
       "    </tr>\n",
       "    <tr>\n",
       "      <th>73196</th>\n",
       "      <td>2021-01-06 15:00:00</td>\n",
       "      <td>1948#0x0,0x1</td>\n",
       "      <td>49,26</td>\n",
       "    </tr>\n",
       "    <tr>\n",
       "      <th>73197</th>\n",
       "      <td>2021-01-06 15:00:00</td>\n",
       "      <td>1958#0x0,0x1</td>\n",
       "      <td>49,21</td>\n",
       "    </tr>\n",
       "    <tr>\n",
       "      <th>73198</th>\n",
       "      <td>2021-01-06 15:00:00</td>\n",
       "      <td>1971#0x0,0x1</td>\n",
       "      <td>48,27</td>\n",
       "    </tr>\n",
       "    <tr>\n",
       "      <th>73199</th>\n",
       "      <td>2021-01-06 15:00:00</td>\n",
       "      <td>1983#0x0,0x1</td>\n",
       "      <td>49,28</td>\n",
       "    </tr>\n",
       "  </tbody>\n",
       "</table>\n",
       "<p>73200 rows × 3 columns</p>\n",
       "</div>"
      ],
      "text/plain": [
       "                timestamp            id  state\n",
       "0     2021-01-05 15:00:00  1000#0x0,0x1  48,25\n",
       "1     2021-01-05 15:00:00  1003#0x0,0x1  49,20\n",
       "2     2021-01-05 15:00:00  1018#0x0,0x1  48,27\n",
       "3     2021-01-05 15:00:00  1039#0x0,0x1  48,23\n",
       "4     2021-01-05 15:00:00  1040#0x0,0x1  48,27\n",
       "...                   ...           ...    ...\n",
       "73195 2021-01-06 15:00:00  1945#0x0,0x1  48,25\n",
       "73196 2021-01-06 15:00:00  1948#0x0,0x1  49,26\n",
       "73197 2021-01-06 15:00:00  1958#0x0,0x1  49,21\n",
       "73198 2021-01-06 15:00:00  1971#0x0,0x1  48,27\n",
       "73199 2021-01-06 15:00:00  1983#0x0,0x1  49,28\n",
       "\n",
       "[73200 rows x 3 columns]"
      ]
     },
     "execution_count": 15,
     "metadata": {},
     "output_type": "execute_result"
    }
   ],
   "source": [
    "pdf02 = delta_sharing.load_as_pandas(table02_url)\n",
    "pdf02"
   ]
  },
  {
   "cell_type": "code",
   "execution_count": 31,
   "id": "f4f8ee3c-7bf6-45f7-ac1f-4ea17b0f8981",
   "metadata": {},
   "outputs": [
    {
     "data": {
      "text/html": [
       "<div>\n",
       "<style scoped>\n",
       "    .dataframe tbody tr th:only-of-type {\n",
       "        vertical-align: middle;\n",
       "    }\n",
       "\n",
       "    .dataframe tbody tr th {\n",
       "        vertical-align: top;\n",
       "    }\n",
       "\n",
       "    .dataframe thead th {\n",
       "        text-align: right;\n",
       "    }\n",
       "</style>\n",
       "<table border=\"1\" class=\"dataframe\">\n",
       "  <thead>\n",
       "    <tr style=\"text-align: right;\">\n",
       "      <th></th>\n",
       "      <th>timestamp</th>\n",
       "      <th>Measured</th>\n",
       "      <th>Predicted</th>\n",
       "      <th>UseRate</th>\n",
       "      <th>EstimatedSupplyCapacity</th>\n",
       "    </tr>\n",
       "  </thead>\n",
       "  <tbody>\n",
       "    <tr>\n",
       "      <th>0</th>\n",
       "      <td>2021-01-04 15:00:00</td>\n",
       "      <td>1525</td>\n",
       "      <td>1518</td>\n",
       "      <td>0.815072</td>\n",
       "      <td>1871</td>\n",
       "    </tr>\n",
       "    <tr>\n",
       "      <th>1</th>\n",
       "      <td>2021-01-04 15:01:00</td>\n",
       "      <td>1530</td>\n",
       "      <td>1518</td>\n",
       "      <td>0.817745</td>\n",
       "      <td>1871</td>\n",
       "    </tr>\n",
       "    <tr>\n",
       "      <th>2</th>\n",
       "      <td>2021-01-04 15:02:00</td>\n",
       "      <td>1514</td>\n",
       "      <td>1518</td>\n",
       "      <td>0.809193</td>\n",
       "      <td>1871</td>\n",
       "    </tr>\n",
       "    <tr>\n",
       "      <th>3</th>\n",
       "      <td>2021-01-04 15:03:00</td>\n",
       "      <td>1528</td>\n",
       "      <td>1518</td>\n",
       "      <td>0.816676</td>\n",
       "      <td>1871</td>\n",
       "    </tr>\n",
       "    <tr>\n",
       "      <th>4</th>\n",
       "      <td>2021-01-04 15:04:00</td>\n",
       "      <td>1524</td>\n",
       "      <td>1518</td>\n",
       "      <td>0.814538</td>\n",
       "      <td>1871</td>\n",
       "    </tr>\n",
       "    <tr>\n",
       "      <th>...</th>\n",
       "      <td>...</td>\n",
       "      <td>...</td>\n",
       "      <td>...</td>\n",
       "      <td>...</td>\n",
       "      <td>...</td>\n",
       "    </tr>\n",
       "    <tr>\n",
       "      <th>1459</th>\n",
       "      <td>2021-01-05 14:56:00</td>\n",
       "      <td>1656</td>\n",
       "      <td>1694</td>\n",
       "      <td>0.893686</td>\n",
       "      <td>1853</td>\n",
       "    </tr>\n",
       "    <tr>\n",
       "      <th>1460</th>\n",
       "      <td>2021-01-05 14:57:00</td>\n",
       "      <td>1656</td>\n",
       "      <td>1694</td>\n",
       "      <td>0.893686</td>\n",
       "      <td>1853</td>\n",
       "    </tr>\n",
       "    <tr>\n",
       "      <th>1461</th>\n",
       "      <td>2021-01-05 14:58:00</td>\n",
       "      <td>1642</td>\n",
       "      <td>1694</td>\n",
       "      <td>0.886131</td>\n",
       "      <td>1853</td>\n",
       "    </tr>\n",
       "    <tr>\n",
       "      <th>1462</th>\n",
       "      <td>2021-01-05 14:59:00</td>\n",
       "      <td>1660</td>\n",
       "      <td>1694</td>\n",
       "      <td>0.895845</td>\n",
       "      <td>1853</td>\n",
       "    </tr>\n",
       "    <tr>\n",
       "      <th>1463</th>\n",
       "      <td>2021-01-05 15:00:00</td>\n",
       "      <td>1646</td>\n",
       "      <td>1694</td>\n",
       "      <td>0.888289</td>\n",
       "      <td>1853</td>\n",
       "    </tr>\n",
       "  </tbody>\n",
       "</table>\n",
       "<p>1464 rows × 5 columns</p>\n",
       "</div>"
      ],
      "text/plain": [
       "               timestamp  Measured  Predicted   UseRate  \\\n",
       "0    2021-01-04 15:00:00      1525       1518  0.815072   \n",
       "1    2021-01-04 15:01:00      1530       1518  0.817745   \n",
       "2    2021-01-04 15:02:00      1514       1518  0.809193   \n",
       "3    2021-01-04 15:03:00      1528       1518  0.816676   \n",
       "4    2021-01-04 15:04:00      1524       1518  0.814538   \n",
       "...                  ...       ...        ...       ...   \n",
       "1459 2021-01-05 14:56:00      1656       1694  0.893686   \n",
       "1460 2021-01-05 14:57:00      1656       1694  0.893686   \n",
       "1461 2021-01-05 14:58:00      1642       1694  0.886131   \n",
       "1462 2021-01-05 14:59:00      1660       1694  0.895845   \n",
       "1463 2021-01-05 15:00:00      1646       1694  0.888289   \n",
       "\n",
       "      EstimatedSupplyCapacity  \n",
       "0                        1871  \n",
       "1                        1871  \n",
       "2                        1871  \n",
       "3                        1871  \n",
       "4                        1871  \n",
       "...                       ...  \n",
       "1459                     1853  \n",
       "1460                     1853  \n",
       "1461                     1853  \n",
       "1462                     1853  \n",
       "1463                     1853  \n",
       "\n",
       "[1464 rows x 5 columns]"
      ]
     },
     "execution_count": 31,
     "metadata": {},
     "output_type": "execute_result"
    }
   ],
   "source": [
    "pdf_power = delta_sharing.load_as_pandas(table_power_url)\n",
    "pdf_power"
   ]
  },
  {
   "cell_type": "markdown",
   "id": "7cc44b63-c984-4fcf-93d1-550e739934b6",
   "metadata": {},
   "source": [
    "# PySparkで読み込む"
   ]
  },
  {
   "cell_type": "code",
   "execution_count": 24,
   "id": "5b37cb45-aefa-4524-bd54-a3f0f8ea702a",
   "metadata": {},
   "outputs": [
    {
     "name": "stderr",
     "output_type": "stream",
     "text": [
      "[Stage 0:>                                                          (0 + 1) / 1]\r"
     ]
    },
    {
     "name": "stdout",
     "output_type": "stream",
     "text": [
      "+------------+---------+-------------------+\n",
      "|     key_str|value_str|          timestamp|\n",
      "+------------+---------+-------------------+\n",
      "|0984#0x0,0x1|    49,27|2021-01-06 00:00:00|\n",
      "|0984#0x0,0x1|    48,26|2021-01-06 01:00:00|\n",
      "|0984#0x0,0x1|    48,28|2021-01-06 02:00:00|\n",
      "|0984#0x0,0x1|    48,26|2021-01-06 03:00:00|\n",
      "|0984#0x0,0x1|    48,26|2021-01-06 04:00:00|\n",
      "|0984#0x0,0x1|    48,29|2021-01-06 05:00:00|\n",
      "|0984#0x0,0x1|    49,27|2021-01-06 06:00:00|\n",
      "|0984#0x0,0x1|    49,29|2021-01-06 07:00:00|\n",
      "|0984#0x0,0x1|    48,28|2021-01-06 08:00:00|\n",
      "|0984#0x0,0x1|    49,26|2021-01-06 09:00:00|\n",
      "|0984#0x0,0x1|    48,28|2021-01-06 10:00:00|\n",
      "|0984#0x0,0x1|    48,29|2021-01-06 11:00:00|\n",
      "|0984#0x0,0x1|    48,25|2021-01-06 12:00:00|\n",
      "|0984#0x0,0x1|    48,23|2021-01-06 13:00:00|\n",
      "|0984#0x0,0x1|    48,26|2021-01-06 14:00:00|\n",
      "|0984#0x0,0x1|    49,29|2021-01-06 15:00:00|\n",
      "|0984#0x0,0x1|    48,27|2021-01-06 16:00:00|\n",
      "|0984#0x0,0x1|    48,26|2021-01-06 17:00:00|\n",
      "|0984#0x0,0x1|    49,29|2021-01-06 18:00:00|\n",
      "|0984#0x0,0x1|    49,27|2021-01-06 19:00:00|\n",
      "+------------+---------+-------------------+\n",
      "only showing top 20 rows\n",
      "\n"
     ]
    },
    {
     "name": "stderr",
     "output_type": "stream",
     "text": [
      "                                                                                \r"
     ]
    }
   ],
   "source": [
    "sdf01 = delta_sharing.load_as_spark(table01_url)\n",
    "sdf01.show()"
   ]
  },
  {
   "cell_type": "code",
   "execution_count": 25,
   "id": "1f4fc3d2-9fa2-4714-8d8d-07515ccca12d",
   "metadata": {},
   "outputs": [
    {
     "name": "stdout",
     "output_type": "stream",
     "text": [
      "+------------+---------+-------------------+\n",
      "|     key_str|value_str|          timestamp|\n",
      "+------------+---------+-------------------+\n",
      "|1633#0x0,0x1|    48,27|2021-01-06 00:00:00|\n",
      "|1633#0x0,0x1|    48,26|2021-01-06 01:00:00|\n",
      "|1633#0x0,0x1|    48,28|2021-01-06 02:00:00|\n",
      "|1633#0x0,0x1|    48,26|2021-01-06 03:00:00|\n",
      "|1633#0x0,0x1|    49,26|2021-01-06 04:00:00|\n",
      "|1633#0x0,0x1|    48,29|2021-01-06 05:00:00|\n",
      "|1633#0x0,0x1|    48,27|2021-01-06 06:00:00|\n",
      "|1633#0x0,0x1|    48,29|2021-01-06 07:00:00|\n",
      "|1633#0x0,0x1|    49,28|2021-01-06 08:00:00|\n",
      "|1633#0x0,0x1|    48,26|2021-01-06 09:00:00|\n",
      "|1633#0x0,0x1|    48,28|2021-01-06 10:00:00|\n",
      "|1633#0x0,0x1|    48,29|2021-01-06 11:00:00|\n",
      "|1633#0x0,0x1|    48,25|2021-01-06 12:00:00|\n",
      "|1633#0x0,0x1|    48,23|2021-01-06 13:00:00|\n",
      "|1633#0x0,0x1|    48,26|2021-01-06 14:00:00|\n",
      "|1633#0x0,0x1|    48,29|2021-01-06 15:00:00|\n",
      "|1633#0x0,0x1|    48,27|2021-01-06 16:00:00|\n",
      "|1633#0x0,0x1|    48,26|2021-01-06 17:00:00|\n",
      "|1633#0x0,0x1|    48,29|2021-01-06 18:00:00|\n",
      "|1633#0x0,0x1|    49,27|2021-01-06 19:00:00|\n",
      "+------------+---------+-------------------+\n",
      "only showing top 20 rows\n",
      "\n"
     ]
    }
   ],
   "source": [
    "sdf02 = delta_sharing.load_as_spark(table02_url)\n",
    "sdf02.show()"
   ]
  },
  {
   "cell_type": "code",
   "execution_count": null,
   "id": "d4cda6cb-91ac-43ea-975b-04ce5ad9c427",
   "metadata": {},
   "outputs": [],
   "source": [
    " "
   ]
  },
  {
   "cell_type": "code",
   "execution_count": null,
   "id": "b58f5241-a0c3-4079-ba0a-bec8075a0bd4",
   "metadata": {},
   "outputs": [],
   "source": []
  }
 ],
 "metadata": {
  "kernelspec": {
   "display_name": "Python 3 (ipykernel)",
   "language": "python",
   "name": "python3"
  },
  "language_info": {
   "codemirror_mode": {
    "name": "ipython",
    "version": 3
   },
   "file_extension": ".py",
   "mimetype": "text/x-python",
   "name": "python",
   "nbconvert_exporter": "python",
   "pygments_lexer": "ipython3",
   "version": "3.7.10"
  }
 },
 "nbformat": 4,
 "nbformat_minor": 5
}
