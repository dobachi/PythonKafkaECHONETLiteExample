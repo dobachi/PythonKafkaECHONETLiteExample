{
 "cells": [
  {
   "cell_type": "markdown",
   "id": "deb8c01f-3b64-47a6-862e-b16795a455e7",
   "metadata": {},
   "source": [
    "# テーブルの確認"
   ]
  },
  {
   "cell_type": "markdown",
   "id": "6c0996af-a21b-4931-8c77-d4eadbcff952",
   "metadata": {},
   "source": [
    "センサーのダミーデータ2種類、パワーグリッドのダミーデータ1種類をDelta Sharing経由で読み込む。"
   ]
  },
  {
   "cell_type": "code",
   "execution_count": 146,
   "id": "8767ef65-6990-464b-aa0c-a208d140d416",
   "metadata": {},
   "outputs": [],
   "source": [
    "import delta_sharing\n",
    "from pyspark.sql import Row\n",
    "from pyspark.sql.functions import col, udf\n",
    "from pyspark.sql.types import StructType, StructField, IntegerType, ArrayType\n",
    "from struct import *\n",
    "from datetime import datetime"
   ]
  },
  {
   "cell_type": "markdown",
   "id": "53af1ba6-4f4a-4f7b-bebd-1ae301c789d8",
   "metadata": {},
   "source": [
    "ひとまず、読み込む3データのプロファイルを定義"
   ]
  },
  {
   "cell_type": "code",
   "execution_count": 3,
   "id": "e7484e6c-abf9-4289-a9c4-606d5906daab",
   "metadata": {},
   "outputs": [],
   "source": [
    "profile_file_01 = 'conf/sensor_data_01.share'\n",
    "profile_file_02 = 'conf/sensor_data_02.share'\n",
    "profile_file_power = 'conf/power_grid.share'"
   ]
  },
  {
   "cell_type": "markdown",
   "id": "241d634a-54cf-4f3a-a92f-09a854611e18",
   "metadata": {},
   "source": [
    "テーブル情報を軽く確認する。"
   ]
  },
  {
   "cell_type": "code",
   "execution_count": 4,
   "id": "50690c61-cabb-46c7-b554-9ff6c4c6e62a",
   "metadata": {},
   "outputs": [],
   "source": [
    "client01 = delta_sharing.SharingClient(profile_file_01)\n",
    "client02 = delta_sharing.SharingClient(profile_file_02)\n",
    "client_power = delta_sharing.SharingClient(profile_file_power)"
   ]
  },
  {
   "cell_type": "code",
   "execution_count": 5,
   "id": "71aa3150-8269-4e8b-aed9-f9225b57e054",
   "metadata": {},
   "outputs": [
    {
     "data": {
      "text/plain": [
       "[Table(name='table', share='sensor_data_01', schema='schema')]"
      ]
     },
     "execution_count": 5,
     "metadata": {},
     "output_type": "execute_result"
    }
   ],
   "source": [
    "client01.list_all_tables()"
   ]
  },
  {
   "cell_type": "code",
   "execution_count": 6,
   "id": "3d2c637d-3308-423c-812d-45b475a89b91",
   "metadata": {},
   "outputs": [
    {
     "data": {
      "text/plain": [
       "[Table(name='table', share='sensor_data_02', schema='schema')]"
      ]
     },
     "execution_count": 6,
     "metadata": {},
     "output_type": "execute_result"
    }
   ],
   "source": [
    "client02.list_all_tables()"
   ]
  },
  {
   "cell_type": "code",
   "execution_count": 7,
   "id": "9210ee10-d454-4cfe-b267-15367899bccc",
   "metadata": {},
   "outputs": [
    {
     "data": {
      "text/plain": [
       "[Table(name='table', share='power_grid_dummydata', schema='schema')]"
      ]
     },
     "execution_count": 7,
     "metadata": {},
     "output_type": "execute_result"
    }
   ],
   "source": [
    "client_power.list_all_tables()"
   ]
  },
  {
   "cell_type": "markdown",
   "id": "1be16008-5b97-43bf-828a-434095c62edf",
   "metadata": {},
   "source": [
    "# Sparkで読み込む"
   ]
  },
  {
   "cell_type": "markdown",
   "id": "a6736026-7f1e-416f-8acf-42b70cda5ecf",
   "metadata": {},
   "source": [
    "テーブルは問題なさそうなので、データを読み込む"
   ]
  },
  {
   "cell_type": "code",
   "execution_count": 8,
   "id": "787bd1e7-dc79-4040-b9b4-99ad62cbc5ba",
   "metadata": {},
   "outputs": [],
   "source": [
    "table01_url = profile_file_01 + '#sensor_data_01.schema.table'\n",
    "table02_url = profile_file_02 + '#sensor_data_02.schema.table'\n",
    "table_power_url = profile_file_power + '#power_grid_dummydata.schema.table'"
   ]
  },
  {
   "cell_type": "code",
   "execution_count": 9,
   "id": "5b37cb45-aefa-4524-bd54-a3f0f8ea702a",
   "metadata": {},
   "outputs": [
    {
     "name": "stderr",
     "output_type": "stream",
     "text": [
      "[Stage 0:>                                                          (0 + 1) / 1]\r"
     ]
    },
    {
     "name": "stdout",
     "output_type": "stream",
     "text": [
      "+-------------------+------------+-----+\n",
      "|          timestamp|          id|state|\n",
      "+-------------------+------------+-----+\n",
      "|2021-01-06 00:00:00|0011#0x0,0x1|48,29|\n",
      "|2021-01-06 00:00:00|0016#0x0,0x1|49,24|\n",
      "|2021-01-06 00:00:00|0034#0x0,0x1|48,24|\n",
      "|2021-01-06 00:00:00|0040#0x0,0x1|48,28|\n",
      "|2021-01-06 00:00:00|0044#0x0,0x1|48,20|\n",
      "|2021-01-06 00:00:00|0072#0x0,0x1|49,26|\n",
      "|2021-01-06 00:00:00|0100#0x0,0x1|48,29|\n",
      "|2021-01-06 00:00:00|0123#0x0,0x1|48,28|\n",
      "|2021-01-06 00:00:00|0124#0x0,0x1|49,28|\n",
      "|2021-01-06 00:00:00|0150#0x0,0x1|49,27|\n",
      "|2021-01-06 00:00:00|0199#0x0,0x1|48,23|\n",
      "|2021-01-06 00:00:00|0216#0x0,0x1|48,25|\n",
      "|2021-01-06 00:00:00|0228#0x0,0x1|48,28|\n",
      "|2021-01-06 00:00:00|0233#0x0,0x1|48,24|\n",
      "|2021-01-06 00:00:00|0248#0x0,0x1|48,29|\n",
      "|2021-01-06 00:00:00|0264#0x0,0x1|48,27|\n",
      "|2021-01-06 00:00:00|0267#0x0,0x1|49,23|\n",
      "|2021-01-06 00:00:00|0284#0x0,0x1|48,27|\n",
      "|2021-01-06 00:00:00|0305#0x0,0x1|48,25|\n",
      "|2021-01-06 00:00:00|0335#0x0,0x1|48,27|\n",
      "+-------------------+------------+-----+\n",
      "only showing top 20 rows\n",
      "\n"
     ]
    },
    {
     "name": "stderr",
     "output_type": "stream",
     "text": [
      "                                                                                \r"
     ]
    }
   ],
   "source": [
    "sdf01 = delta_sharing.load_as_spark(table01_url)\n",
    "sdf01.show()"
   ]
  },
  {
   "cell_type": "code",
   "execution_count": 13,
   "id": "1f4fc3d2-9fa2-4714-8d8d-07515ccca12d",
   "metadata": {},
   "outputs": [
    {
     "name": "stdout",
     "output_type": "stream",
     "text": [
      "+-------------------+------------+-----+\n",
      "|          timestamp|          id|state|\n",
      "+-------------------+------------+-----+\n",
      "|2021-01-06 00:00:00|1000#0x0,0x1|48,25|\n",
      "|2021-01-06 00:00:00|1003#0x0,0x1|49,20|\n",
      "|2021-01-06 00:00:00|1018#0x0,0x1|48,27|\n",
      "|2021-01-06 00:00:00|1039#0x0,0x1|48,23|\n",
      "|2021-01-06 00:00:00|1040#0x0,0x1|48,27|\n",
      "|2021-01-06 00:00:00|1051#0x0,0x1|49,23|\n",
      "|2021-01-06 00:00:00|1053#0x0,0x1|48,26|\n",
      "|2021-01-06 00:00:00|1054#0x0,0x1|49,28|\n",
      "|2021-01-06 00:00:00|1060#0x0,0x1|49,28|\n",
      "|2021-01-06 00:00:00|1077#0x0,0x1|48,26|\n",
      "|2021-01-06 00:00:00|1140#0x0,0x1|49,26|\n",
      "|2021-01-06 00:00:00|1147#0x0,0x1|48,25|\n",
      "|2021-01-06 00:00:00|1149#0x0,0x1|49,25|\n",
      "|2021-01-06 00:00:00|1172#0x0,0x1|49,27|\n",
      "|2021-01-06 00:00:00|1181#0x0,0x1|48,28|\n",
      "|2021-01-06 00:00:00|1197#0x0,0x1|48,28|\n",
      "|2021-01-06 00:00:00|1205#0x0,0x1|48,24|\n",
      "|2021-01-06 00:00:00|1210#0x0,0x1|48,23|\n",
      "|2021-01-06 00:00:00|1264#0x0,0x1|48,24|\n",
      "|2021-01-06 00:00:00|1306#0x0,0x1|48,26|\n",
      "+-------------------+------------+-----+\n",
      "only showing top 20 rows\n",
      "\n"
     ]
    }
   ],
   "source": [
    "sdf02 = delta_sharing.load_as_spark(table02_url)\n",
    "sdf02.show()"
   ]
  },
  {
   "cell_type": "code",
   "execution_count": 14,
   "id": "51faefd7-50df-4eb5-ab18-dce0310eaf6a",
   "metadata": {},
   "outputs": [
    {
     "name": "stdout",
     "output_type": "stream",
     "text": [
      "+-------------------+--------+---------+------------------+-----------------------+\n",
      "|          timestamp|Measured|Predicted|           UseRate|EstimatedSupplyCapacity|\n",
      "+-------------------+--------+---------+------------------+-----------------------+\n",
      "|2021-01-05 00:00:00|    1525|     1518|0.8150721539283805|                   1871|\n",
      "|2021-01-05 00:01:00|    1530|     1518|0.8177445216461785|                   1871|\n",
      "|2021-01-05 00:02:00|    1514|     1518| 0.809192944949225|                   1871|\n",
      "|2021-01-05 00:03:00|    1528|     1518|0.8166755745590594|                   1871|\n",
      "|2021-01-05 00:04:00|    1524|     1518| 0.814537680384821|                   1871|\n",
      "|2021-01-05 00:05:00|    1524|     1518| 0.814537680384821|                   1871|\n",
      "|2021-01-05 00:06:00|    1524|     1518| 0.814537680384821|                   1871|\n",
      "|2021-01-05 00:07:00|    1513|     1518|0.8086584714056654|                   1871|\n",
      "|2021-01-05 00:08:00|    1520|     1518|0.8123997862105826|                   1871|\n",
      "|2021-01-05 00:09:00|    1515|     1518|0.8097274184927846|                   1871|\n",
      "|2021-01-05 00:10:00|    1531|     1518|0.8182789951897381|                   1871|\n",
      "|2021-01-05 00:11:00|    1533|     1518|0.8193479422768573|                   1871|\n",
      "|2021-01-05 00:12:00|    1516|     1518|0.8102618920363442|                   1871|\n",
      "|2021-01-05 00:13:00|    1516|     1518|0.8102618920363442|                   1871|\n",
      "|2021-01-05 00:14:00|    1526|     1518|0.8156066274719401|                   1871|\n",
      "|2021-01-05 00:15:00|    1513|     1518|0.8086584714056654|                   1871|\n",
      "|2021-01-05 00:16:00|    1513|     1518|0.8086584714056654|                   1871|\n",
      "|2021-01-05 00:17:00|    1522|     1518|0.8134687332977018|                   1871|\n",
      "|2021-01-05 00:18:00|    1516|     1518|0.8102618920363442|                   1871|\n",
      "|2021-01-05 00:19:00|    1532|     1518|0.8188134687332977|                   1871|\n",
      "+-------------------+--------+---------+------------------+-----------------------+\n",
      "only showing top 20 rows\n",
      "\n"
     ]
    }
   ],
   "source": [
    "sdf_power = delta_sharing.load_as_spark(table_power_url)\n",
    "sdf_power.show()"
   ]
  },
  {
   "cell_type": "markdown",
   "id": "b84d420a-d5fe-4425-befa-9c2b8496816c",
   "metadata": {},
   "source": [
    "# 軽く確認する"
   ]
  },
  {
   "cell_type": "markdown",
   "id": "0bb1acd3-9ba5-4daa-b9e0-782d3fda9ddd",
   "metadata": {},
   "source": [
    "ひとまず推定キャパシティに対して、使用量が高くなっている瞬間を確認するため、 `UseRate` が97.8%（0.97）を超えた瞬間を確認する。"
   ]
  },
  {
   "cell_type": "code",
   "execution_count": 38,
   "id": "b58f5241-a0c3-4079-ba0a-bec8075a0bd4",
   "metadata": {},
   "outputs": [],
   "source": [
    "sdf_power_01 = sdf_power.filter(col('UseRate') > 0.97)"
   ]
  },
  {
   "cell_type": "code",
   "execution_count": 39,
   "id": "dccb221c-79f3-4132-a3a4-df19a610eb71",
   "metadata": {},
   "outputs": [
    {
     "name": "stdout",
     "output_type": "stream",
     "text": [
      "+-------------------+--------+---------+------------------+-----------------------+\n",
      "|          timestamp|Measured|Predicted|           UseRate|EstimatedSupplyCapacity|\n",
      "+-------------------+--------+---------+------------------+-----------------------+\n",
      "|2021-01-05 11:00:00|    2221|     2074|0.9702927042376583|                   2289|\n",
      "|2021-01-05 11:01:00|    2222|     2074|0.9707295762341633|                   2289|\n",
      "|2021-01-05 11:02:00|    2231|     2074|0.9746614242027086|                   2289|\n",
      "|2021-01-05 11:03:00|    2222|     2074|0.9707295762341633|                   2289|\n",
      "|2021-01-05 11:04:00|    2229|     2074|0.9737876802096985|                   2289|\n",
      "|2021-01-05 11:05:00|    2228|     2074|0.9733508082131935|                   2289|\n",
      "|2021-01-05 11:06:00|    2234|     2074|0.9759720401922237|                   2289|\n",
      "|2021-01-05 11:07:00|    2231|     2074|0.9746614242027086|                   2289|\n",
      "|2021-01-05 11:08:00|    2239|     2074|0.9781564001747488|                   2289|\n",
      "|2021-01-05 11:09:00|    2235|     2074|0.9764089121887287|                   2289|\n",
      "|2021-01-05 11:10:00|    2240|     2074|0.9785932721712538|                   2289|\n",
      "|2021-01-05 11:11:00|    2240|     2074|0.9785932721712538|                   2289|\n",
      "|2021-01-05 11:12:00|    2237|     2074|0.9772826561817387|                   2289|\n",
      "|2021-01-05 11:13:00|    2230|     2074|0.9742245522062036|                   2289|\n",
      "|2021-01-05 11:14:00|    2228|     2074|0.9733508082131935|                   2289|\n",
      "|2021-01-05 11:15:00|    2221|     2074|0.9702927042376583|                   2289|\n",
      "|2021-01-05 11:16:00|    2225|     2074|0.9720401922236784|                   2289|\n",
      "|2021-01-05 11:17:00|    2224|     2074|0.9716033202271734|                   2289|\n",
      "|2021-01-05 11:18:00|    2236|     2074|0.9768457841852337|                   2289|\n",
      "|2021-01-05 11:19:00|    2230|     2074|0.9742245522062036|                   2289|\n",
      "+-------------------+--------+---------+------------------+-----------------------+\n",
      "only showing top 20 rows\n",
      "\n"
     ]
    }
   ],
   "source": [
    "sdf_power_01.show()"
   ]
  },
  {
   "cell_type": "markdown",
   "id": "4906ca9d-56e7-44c7-98c7-696ed775835b",
   "metadata": {},
   "source": [
    "これを見ると、11時台に入ってからしばらく97%を超えていることがわかる。\n",
    "ここで、試しに11時台に電源が入っており、温度設定が高かったデバイスを確認してみる。"
   ]
  },
  {
   "cell_type": "code",
   "execution_count": 40,
   "id": "51836f3e-3ba1-4921-bba8-6d1a01c299a3",
   "metadata": {},
   "outputs": [],
   "source": [
    "sdf_all = sdf01.union(sdf02)"
   ]
  },
  {
   "cell_type": "code",
   "execution_count": 125,
   "id": "b6243225-bc8f-4b5d-a237-81e1072cbcc3",
   "metadata": {},
   "outputs": [],
   "source": [
    "@udf(ArrayType(IntegerType()))\n",
    "def transform_state(state_str):\n",
    "    p_state, temperature = state_str.split(',')\n",
    "    return int(p_state), int(temperature)"
   ]
  },
  {
   "cell_type": "code",
   "execution_count": 134,
   "id": "12527d31-aaf0-4b27-86de-80351c8ef548",
   "metadata": {},
   "outputs": [],
   "source": [
    "sdf_all_01 = sdf_all.withColumn('state2', transform_state(col('state'))).select('timestamp', 'id', col('state2')[0].alias('p_state'), col('state2')[1].alias('temperature'))"
   ]
  },
  {
   "cell_type": "code",
   "execution_count": 135,
   "id": "cbfe165c-de4a-4bd6-8836-b8ff39ed052d",
   "metadata": {},
   "outputs": [
    {
     "name": "stdout",
     "output_type": "stream",
     "text": [
      "+-------------------+------------+-------+-----------+\n",
      "|          timestamp|          id|p_state|temperature|\n",
      "+-------------------+------------+-------+-----------+\n",
      "|2021-01-06 00:00:00|0011#0x0,0x1|     48|         29|\n",
      "|2021-01-06 00:00:00|0016#0x0,0x1|     49|         24|\n",
      "|2021-01-06 00:00:00|0034#0x0,0x1|     48|         24|\n",
      "|2021-01-06 00:00:00|0040#0x0,0x1|     48|         28|\n",
      "|2021-01-06 00:00:00|0044#0x0,0x1|     48|         20|\n",
      "|2021-01-06 00:00:00|0072#0x0,0x1|     49|         26|\n",
      "|2021-01-06 00:00:00|0100#0x0,0x1|     48|         29|\n",
      "|2021-01-06 00:00:00|0123#0x0,0x1|     48|         28|\n",
      "|2021-01-06 00:00:00|0124#0x0,0x1|     49|         28|\n",
      "|2021-01-06 00:00:00|0150#0x0,0x1|     49|         27|\n",
      "|2021-01-06 00:00:00|0199#0x0,0x1|     48|         23|\n",
      "|2021-01-06 00:00:00|0216#0x0,0x1|     48|         25|\n",
      "|2021-01-06 00:00:00|0228#0x0,0x1|     48|         28|\n",
      "|2021-01-06 00:00:00|0233#0x0,0x1|     48|         24|\n",
      "|2021-01-06 00:00:00|0248#0x0,0x1|     48|         29|\n",
      "|2021-01-06 00:00:00|0264#0x0,0x1|     48|         27|\n",
      "|2021-01-06 00:00:00|0267#0x0,0x1|     49|         23|\n",
      "|2021-01-06 00:00:00|0284#0x0,0x1|     48|         27|\n",
      "|2021-01-06 00:00:00|0305#0x0,0x1|     48|         25|\n",
      "|2021-01-06 00:00:00|0335#0x0,0x1|     48|         27|\n",
      "+-------------------+------------+-------+-----------+\n",
      "only showing top 20 rows\n",
      "\n"
     ]
    }
   ],
   "source": [
    "sdf_all_01.show()"
   ]
  },
  {
   "cell_type": "code",
   "execution_count": 149,
   "id": "3359aaa3-a3d2-45c6-9583-3ea51270c21b",
   "metadata": {},
   "outputs": [],
   "source": [
    "# sdf_all_02 = sdf_all_01.filter((col('p_state') == 48) & (col('temperature') > 28))\n",
    "sdf_all_02 = sdf_all_01.filter((col('timestamp') >= datetime.strptime('2021-01-06 11:00:00', '%Y-%m-%d %H:%M:%S')) &\n",
    "                              (col('timestamp') < datetime.strptime('2021-01-06 12:00:00', '%Y-%m-%d %H:%M:%S')))"
   ]
  },
  {
   "cell_type": "code",
   "execution_count": 165,
   "id": "f1343703-b029-4ffb-b700-5aab37b46f19",
   "metadata": {},
   "outputs": [],
   "source": [
    "sdf_all_03 = sdf_all_02.filter((col('temperature') > 28) & (col('p_state') == 48)).select('id').distinct()"
   ]
  },
  {
   "cell_type": "code",
   "execution_count": 166,
   "id": "bb806178-6b5c-4bd4-8c1e-449a0deb0b20",
   "metadata": {},
   "outputs": [
    {
     "name": "stderr",
     "output_type": "stream",
     "text": [
      "                                                                                \r"
     ]
    },
    {
     "name": "stdout",
     "output_type": "stream",
     "text": [
      "+------------+\n",
      "|          id|\n",
      "+------------+\n",
      "|1812#0x0,0x1|\n",
      "|1018#0x0,0x1|\n",
      "|1039#0x0,0x1|\n",
      "|0228#0x0,0x1|\n",
      "|1181#0x0,0x1|\n",
      "|0451#0x0,0x1|\n",
      "|1924#0x0,0x1|\n",
      "|0804#0x0,0x1|\n",
      "|0305#0x0,0x1|\n",
      "|0267#0x0,0x1|\n",
      "|0566#0x0,0x1|\n",
      "|0040#0x0,0x1|\n",
      "|0900#0x0,0x1|\n",
      "|1210#0x0,0x1|\n",
      "+------------+\n",
      "\n"
     ]
    }
   ],
   "source": [
    "sdf_all_03.show()"
   ]
  },
  {
   "cell_type": "markdown",
   "id": "1e5e03b1-c3e6-4c9f-bb1f-d34da1f153d9",
   "metadata": {},
   "source": [
    "以上のデバイスの温度設定が高かったことがわかる。"
   ]
  },
  {
   "cell_type": "code",
   "execution_count": null,
   "id": "70a1433f-2a7b-4ca0-9a1f-088b491a7b4c",
   "metadata": {},
   "outputs": [],
   "source": []
  }
 ],
 "metadata": {
  "kernelspec": {
   "display_name": "Python 3 (ipykernel)",
   "language": "python",
   "name": "python3"
  },
  "language_info": {
   "codemirror_mode": {
    "name": "ipython",
    "version": 3
   },
   "file_extension": ".py",
   "mimetype": "text/x-python",
   "name": "python",
   "nbconvert_exporter": "python",
   "pygments_lexer": "ipython3",
   "version": "3.7.10"
  }
 },
 "nbformat": 4,
 "nbformat_minor": 5
}
