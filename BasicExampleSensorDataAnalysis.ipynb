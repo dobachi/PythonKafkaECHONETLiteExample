{
 "cells": [
  {
   "cell_type": "markdown",
   "id": "8e1a7126-ccec-431a-93a7-36f09448e256",
   "metadata": {},
   "source": [
    "# このノートブックについて"
   ]
  },
  {
   "cell_type": "markdown",
   "id": "ed126323-1bca-4b41-bdbd-dbd3c8de145f",
   "metadata": {},
   "source": [
    "このノートブックは、あらかじめ起動しておいたDelta Sharingを通じ、データレイク上のデータを読み取り、Apache Sparkで簡単な分析を実行してみる例である。\n",
    "\n",
    "今回は、簡単な動作確認であるため以下のような構成を前提とする。\n",
    "\n",
    "![簡単な動作確認のための構成例](https://github.com/dobachi/PythonKafkaECHONETLiteExample/blob/main/images/ArchitectureProcessingDataViaDeltaSharing.png?raw=true)\n",
    "\n",
    "なお、手元の環境ではDelta Sharingが共有するデータを保持するバックエンドのストレージとしてAWS S3やMinIOを用いて動作確認した。"
   ]
  },
  {
   "cell_type": "markdown",
   "id": "deb8c01f-3b64-47a6-862e-b16795a455e7",
   "metadata": {},
   "source": [
    "# テーブルの確認"
   ]
  },
  {
   "cell_type": "markdown",
   "id": "6c0996af-a21b-4931-8c77-d4eadbcff952",
   "metadata": {},
   "source": [
    "センサーのダミーデータ2種類、パワーグリッドのダミーデータ1種類をDelta Sharing経由で読み込む。\n",
    "\n",
    "なお、これらのダミーデータは [GenerateRandomSensorData.ipynb] や [GenerateDummyPowerGridData.ipynb] を用いて生成した。\n",
    "\n",
    "[GenerateRandomSensorData.ipynb]: https://github.com/dobachi/PythonKafkaECHONETLiteExample/blob/main/GenerateRandomSensorData.ipynb\n",
    "[GenerateDummyPowerGridData.ipynb]: https://github.com/dobachi/PythonKafkaECHONETLiteExample/blob/main/GenerateDummyPowerGridData.ipynb"
   ]
  },
  {
   "cell_type": "code",
   "execution_count": 1,
   "id": "8767ef65-6990-464b-aa0c-a208d140d416",
   "metadata": {},
   "outputs": [],
   "source": [
    "import delta_sharing\n",
    "from pyspark.sql import Row\n",
    "from pyspark.sql.functions import col, udf\n",
    "from pyspark.sql.types import *\n",
    "from pyspark.sql.functions import pandas_udf, PandasUDFType\n",
    "from struct import *\n",
    "from datetime import datetime\n",
    "import matplotlib as plt\n",
    "import matplotlib.pyplot as pyplt\n",
    "import numpy as np\n",
    "import pandas as pd\n",
    "from sktime.forecasting.arima import AutoARIMA #ARIMAモデル\n",
    "from sktime.forecasting.exp_smoothing import ExponentialSmoothing #ESモデル\n",
    "from sktime.forecasting.ets import AutoETS #ETSモデル\n",
    "from sktime.forecasting.tbats import TBATS #TBATSモデル\n",
    "from sktime.forecasting.compose import EnsembleForecaster #アンサンブル\n",
    "from sktime.utils.plotting import plot_series #グラフ化\n",
    "from sktime.forecasting.model_selection import temporal_train_test_split\n"
   ]
  },
  {
   "cell_type": "markdown",
   "id": "53af1ba6-4f4a-4f7b-bebd-1ae301c789d8",
   "metadata": {},
   "source": [
    "ひとまず、読み込む3データのクライアント用プロファイルを定義。\n",
    "今回は簡単な例として、本プロジェクトの `./conf` 以下に設定ファイル例を置いた。\n",
    "\n",
    "設定ファイルは例えば\n",
    "\n",
    "```\n",
    "{\n",
    "  \"shareCredentialsVersion\": 1,\n",
    "  \"endpoint\": \"http://localhost:8083/power_grid\",\n",
    "  \"bearerToken\": \"\"\n",
    "}\n",
    "```\n",
    "\n",
    "のような構成であり、今回は同一マシン or インスタンス上にDelta Sharingサーバを起動した例になっている。\n",
    "もし別に起動している場合は、設定ファイルを編集すること。"
   ]
  },
  {
   "cell_type": "code",
   "execution_count": 2,
   "id": "e7484e6c-abf9-4289-a9c4-606d5906daab",
   "metadata": {},
   "outputs": [],
   "source": [
    "profile_file_01 = 'conf/sensor_data_01.share'\n",
    "profile_file_02 = 'conf/sensor_data_02.share'\n",
    "profile_file_power = 'conf/power_grid.share'"
   ]
  },
  {
   "cell_type": "markdown",
   "id": "241d634a-54cf-4f3a-a92f-09a854611e18",
   "metadata": {},
   "source": [
    "テーブル情報を軽く確認する。"
   ]
  },
  {
   "cell_type": "code",
   "execution_count": 3,
   "id": "50690c61-cabb-46c7-b554-9ff6c4c6e62a",
   "metadata": {},
   "outputs": [],
   "source": [
    "client01 = delta_sharing.SharingClient(profile_file_01)\n",
    "client02 = delta_sharing.SharingClient(profile_file_02)\n",
    "client_power = delta_sharing.SharingClient(profile_file_power)"
   ]
  },
  {
   "cell_type": "code",
   "execution_count": 4,
   "id": "71aa3150-8269-4e8b-aed9-f9225b57e054",
   "metadata": {},
   "outputs": [
    {
     "data": {
      "text/plain": [
       "[Table(name='table', share='sensor_data_01', schema='schema')]"
      ]
     },
     "execution_count": 4,
     "metadata": {},
     "output_type": "execute_result"
    }
   ],
   "source": [
    "client01.list_all_tables()"
   ]
  },
  {
   "cell_type": "code",
   "execution_count": 5,
   "id": "3d2c637d-3308-423c-812d-45b475a89b91",
   "metadata": {},
   "outputs": [
    {
     "data": {
      "text/plain": [
       "[Table(name='table', share='sensor_data_02', schema='schema')]"
      ]
     },
     "execution_count": 5,
     "metadata": {},
     "output_type": "execute_result"
    }
   ],
   "source": [
    "client02.list_all_tables()"
   ]
  },
  {
   "cell_type": "code",
   "execution_count": 6,
   "id": "9210ee10-d454-4cfe-b267-15367899bccc",
   "metadata": {},
   "outputs": [
    {
     "data": {
      "text/plain": [
       "[Table(name='table', share='power_grid_dummydata', schema='schema')]"
      ]
     },
     "execution_count": 6,
     "metadata": {},
     "output_type": "execute_result"
    }
   ],
   "source": [
    "client_power.list_all_tables()"
   ]
  },
  {
   "cell_type": "markdown",
   "id": "1be16008-5b97-43bf-828a-434095c62edf",
   "metadata": {},
   "source": [
    "# Sparkで読み込む"
   ]
  },
  {
   "cell_type": "markdown",
   "id": "a6736026-7f1e-416f-8acf-42b70cda5ecf",
   "metadata": {},
   "source": [
    "テーブルは問題なさそうなので、データを読み込む。\n",
    "\n",
    "以下の通り、実際に格納されたテーブルを指定する。"
   ]
  },
  {
   "cell_type": "code",
   "execution_count": 7,
   "id": "787bd1e7-dc79-4040-b9b4-99ad62cbc5ba",
   "metadata": {},
   "outputs": [],
   "source": [
    "table01_url = profile_file_01 + '#sensor_data_01.schema.table'\n",
    "table02_url = profile_file_02 + '#sensor_data_02.schema.table'\n",
    "table_power_url = profile_file_power + '#power_grid_dummydata.schema.table'"
   ]
  },
  {
   "cell_type": "markdown",
   "id": "646e70b5-85ac-4a6a-8d6b-c28b204f16e9",
   "metadata": {},
   "source": [
    "PandasのDataFrameとして読み込むAPIもあるが、今回はApache SparkのDataFrameとして読み込むことにする。"
   ]
  },
  {
   "cell_type": "markdown",
   "id": "8f084e9e-5b7c-4bb5-8b36-25f4fab0e05d",
   "metadata": {},
   "source": [
    "最初はエアコンから読み込んだ電源情報と温度設定値の（ダミーデータの）テーブルを読み込む。"
   ]
  },
  {
   "cell_type": "code",
   "execution_count": 8,
   "id": "5b37cb45-aefa-4524-bd54-a3f0f8ea702a",
   "metadata": {},
   "outputs": [
    {
     "name": "stderr",
     "output_type": "stream",
     "text": [
      "[Stage 0:>                                                          (0 + 1) / 1]\r"
     ]
    },
    {
     "name": "stdout",
     "output_type": "stream",
     "text": [
      "+-------------------+------------+-----+\n",
      "|          timestamp|          id|state|\n",
      "+-------------------+------------+-----+\n",
      "|2021-01-06 00:00:00|0038#0x0,0x1|49,24|\n",
      "|2021-01-06 00:00:00|0039#0x0,0x1|48,23|\n",
      "|2021-01-06 00:00:00|0051#0x0,0x1|48,26|\n",
      "|2021-01-06 00:00:00|0056#0x0,0x1|49,20|\n",
      "|2021-01-06 00:00:00|0061#0x0,0x1|49,26|\n",
      "|2021-01-06 00:00:00|0067#0x0,0x1|48,25|\n",
      "|2021-01-06 00:00:00|0092#0x0,0x1|48,22|\n",
      "|2021-01-06 00:00:00|0175#0x0,0x1|49,24|\n",
      "|2021-01-06 00:00:00|0181#0x0,0x1|49,24|\n",
      "|2021-01-06 00:00:00|0186#0x0,0x1|49,24|\n",
      "|2021-01-06 00:00:00|0198#0x0,0x1|49,28|\n",
      "|2021-01-06 00:00:00|0272#0x0,0x1|48,28|\n",
      "|2021-01-06 00:00:00|0275#0x0,0x1|48,29|\n",
      "|2021-01-06 00:00:00|0285#0x0,0x1|48,24|\n",
      "|2021-01-06 00:00:00|0289#0x0,0x1|48,29|\n",
      "|2021-01-06 00:00:00|0291#0x0,0x1|48,27|\n",
      "|2021-01-06 00:00:00|0301#0x0,0x1|48,25|\n",
      "|2021-01-06 00:00:00|0338#0x0,0x1|48,26|\n",
      "|2021-01-06 00:00:00|0352#0x0,0x1|48,22|\n",
      "|2021-01-06 00:00:00|0366#0x0,0x1|48,27|\n",
      "+-------------------+------------+-----+\n",
      "only showing top 20 rows\n",
      "\n"
     ]
    },
    {
     "name": "stderr",
     "output_type": "stream",
     "text": [
      "                                                                                \r"
     ]
    }
   ],
   "source": [
    "sdf01 = delta_sharing.load_as_spark(table01_url)\n",
    "sdf01.show()"
   ]
  },
  {
   "cell_type": "code",
   "execution_count": 9,
   "id": "1f4fc3d2-9fa2-4714-8d8d-07515ccca12d",
   "metadata": {},
   "outputs": [
    {
     "name": "stdout",
     "output_type": "stream",
     "text": [
      "+-------------------+------------+-----+\n",
      "|          timestamp|          id|state|\n",
      "+-------------------+------------+-----+\n",
      "|2021-01-06 00:00:00|1024#0x0,0x1|49,23|\n",
      "|2021-01-06 00:00:00|1030#0x0,0x1|48,21|\n",
      "|2021-01-06 00:00:00|1041#0x0,0x1|48,25|\n",
      "|2021-01-06 00:00:00|1046#0x0,0x1|48,27|\n",
      "|2021-01-06 00:00:00|1071#0x0,0x1|48,22|\n",
      "|2021-01-06 00:00:00|1094#0x0,0x1|48,24|\n",
      "|2021-01-06 00:00:00|1102#0x0,0x1|48,23|\n",
      "|2021-01-06 00:00:00|1105#0x0,0x1|48,23|\n",
      "|2021-01-06 00:00:00|1124#0x0,0x1|49,28|\n",
      "|2021-01-06 00:00:00|1134#0x0,0x1|48,26|\n",
      "|2021-01-06 00:00:00|1148#0x0,0x1|48,25|\n",
      "|2021-01-06 00:00:00|1164#0x0,0x1|49,25|\n",
      "|2021-01-06 00:00:00|1166#0x0,0x1|48,26|\n",
      "|2021-01-06 00:00:00|1185#0x0,0x1|48,27|\n",
      "|2021-01-06 00:00:00|1189#0x0,0x1|48,27|\n",
      "|2021-01-06 00:00:00|1208#0x0,0x1|48,21|\n",
      "|2021-01-06 00:00:00|1250#0x0,0x1|48,23|\n",
      "|2021-01-06 00:00:00|1252#0x0,0x1|48,25|\n",
      "|2021-01-06 00:00:00|1265#0x0,0x1|49,25|\n",
      "|2021-01-06 00:00:00|1269#0x0,0x1|49,27|\n",
      "+-------------------+------------+-----+\n",
      "only showing top 20 rows\n",
      "\n"
     ]
    }
   ],
   "source": [
    "sdf02 = delta_sharing.load_as_spark(table02_url)\n",
    "sdf02.show()"
   ]
  },
  {
   "cell_type": "markdown",
   "id": "cf0a1169-48e9-48e1-a991-d063242c2fa4",
   "metadata": {},
   "source": [
    "データ取得（正確には、Apache Kafkaクラスタへの書き込み）時刻、デバイスのID、状態情報を表すテキストが格納されていることがわかる。\n",
    "今回はダミーデータなので値そのものには意味はなく、IDや状態情報もランダム値である。\n",
    "状態情報は、仮でテキストデータとして書き込まれていることにした。"
   ]
  },
  {
   "cell_type": "markdown",
   "id": "b94a327b-8cd6-4f56-a10d-091f67df94bf",
   "metadata": {},
   "source": [
    "続いて、電力需給データ（のダミーデータ）を読み込む。\n"
   ]
  },
  {
   "cell_type": "code",
   "execution_count": 10,
   "id": "51faefd7-50df-4eb5-ab18-dce0310eaf6a",
   "metadata": {},
   "outputs": [
    {
     "name": "stdout",
     "output_type": "stream",
     "text": [
      "+-------------------+--------+---------+------------------+-----------------------+\n",
      "|          timestamp|Measured|Predicted|           UseRate|EstimatedSupplyCapacity|\n",
      "+-------------------+--------+---------+------------------+-----------------------+\n",
      "|2021-01-05 00:00:00|    1531|     1490|0.8302603036876356|                   1844|\n",
      "|2021-01-05 00:01:00|    1489|     1490|0.8074837310195228|                   1844|\n",
      "|2021-01-05 00:02:00|    1483|     1490|0.8042299349240781|                   1844|\n",
      "|2021-01-05 00:03:00|    1522|     1490|0.8253796095444685|                   1844|\n",
      "|2021-01-05 00:04:00|    1491|     1490|0.8085683297180043|                   1844|\n",
      "|2021-01-05 00:05:00|    1515|     1490| 0.821583514099783|                   1844|\n",
      "|2021-01-05 00:06:00|    1511|     1490|  0.81941431670282|                   1844|\n",
      "|2021-01-05 00:07:00|    1495|     1490|0.8107375271149675|                   1844|\n",
      "|2021-01-05 00:08:00|    1489|     1490|0.8074837310195228|                   1844|\n",
      "|2021-01-05 00:09:00|    1515|     1490| 0.821583514099783|                   1844|\n",
      "|2021-01-05 00:10:00|    1486|     1490|0.8058568329718004|                   1844|\n",
      "|2021-01-05 00:11:00|    1492|     1490|0.8091106290672451|                   1844|\n",
      "|2021-01-05 00:12:00|    1535|     1490|0.8324295010845987|                   1844|\n",
      "|2021-01-05 00:13:00|    1524|     1490|0.8264642082429501|                   1844|\n",
      "|2021-01-05 00:14:00|    1522|     1490|0.8253796095444685|                   1844|\n",
      "|2021-01-05 00:15:00|    1506|     1490|0.8167028199566161|                   1844|\n",
      "|2021-01-05 00:16:00|    1513|     1490|0.8204989154013015|                   1844|\n",
      "|2021-01-05 00:17:00|    1489|     1490|0.8074837310195228|                   1844|\n",
      "|2021-01-05 00:18:00|    1494|     1490|0.8101952277657267|                   1844|\n",
      "|2021-01-05 00:19:00|    1500|     1490|0.8134490238611713|                   1844|\n",
      "+-------------------+--------+---------+------------------+-----------------------+\n",
      "only showing top 20 rows\n",
      "\n"
     ]
    }
   ],
   "source": [
    "sdf_power = delta_sharing.load_as_spark(table_power_url)\n",
    "sdf_power.show()"
   ]
  },
  {
   "cell_type": "markdown",
   "id": "bdc7d910-3c19-4aa4-b5a0-8d9cc5390b12",
   "metadata": {},
   "source": [
    "ここではMeasured：計測された電力需要値、Predicted：予測された電力需要値、UseRate：Measured/EstimatedSupplyCapacity、EstimatedSupplyCapacity：推測された電力供給キャパシティとして、それっぽいランダムな値を生成して用いた。"
   ]
  },
  {
   "cell_type": "markdown",
   "id": "2ccbc4d9-5f80-440e-8096-f48c58490883",
   "metadata": {},
   "source": [
    "以上で、3種類のデータを読めた。"
   ]
  },
  {
   "cell_type": "markdown",
   "id": "b84d420a-d5fe-4425-befa-9c2b8496816c",
   "metadata": {},
   "source": [
    "# データを軽く確認する（単純な集計をしてみる）"
   ]
  },
  {
   "cell_type": "markdown",
   "id": "0bb1acd3-9ba5-4daa-b9e0-782d3fda9ddd",
   "metadata": {},
   "source": [
    "ひとまず推定キャパシティに対して、使用量が高くなっている瞬間を確認するため、 `UseRate` が97.8%（0.97）を超えた瞬間を確認する。\n",
    "PySparkを用いているので、もし大量のデータがあってもスケールアウトして計算可能。"
   ]
  },
  {
   "cell_type": "code",
   "execution_count": 11,
   "id": "b58f5241-a0c3-4079-ba0a-bec8075a0bd4",
   "metadata": {},
   "outputs": [],
   "source": [
    "sdf_power_01 = sdf_power.filter(col('UseRate') > 0.97)"
   ]
  },
  {
   "cell_type": "code",
   "execution_count": 12,
   "id": "dccb221c-79f3-4132-a3a4-df19a610eb71",
   "metadata": {},
   "outputs": [
    {
     "name": "stdout",
     "output_type": "stream",
     "text": [
      "+-------------------+--------+---------+------------------+-----------------------+\n",
      "|          timestamp|Measured|Predicted|           UseRate|EstimatedSupplyCapacity|\n",
      "+-------------------+--------+---------+------------------+-----------------------+\n",
      "|2021-01-05 09:00:00|    2263|     2147|0.9716616573636754|                   2329|\n",
      "|2021-01-05 09:08:00|    2265|     2147|0.9725203950193216|                   2329|\n",
      "|2021-01-05 09:14:00|    2268|     2147|0.9738085015027909|                   2329|\n",
      "|2021-01-05 09:21:00|    2265|     2147|0.9725203950193216|                   2329|\n",
      "|2021-01-05 09:24:00|    2268|     2147|0.9738085015027909|                   2329|\n",
      "|2021-01-05 09:26:00|    2267|     2147|0.9733791326749678|                   2329|\n",
      "|2021-01-05 09:31:00|    2267|     2147|0.9733791326749678|                   2329|\n",
      "|2021-01-05 09:35:00|    2262|     2147|0.9712322885358523|                   2329|\n",
      "|2021-01-05 09:50:00|    2262|     2147|0.9712322885358523|                   2329|\n",
      "|2021-01-05 09:56:00|    2261|     2147|0.9708029197080292|                   2329|\n",
      "|2021-01-05 11:00:00|    2236|     2026|0.9713292788879235|                   2302|\n",
      "|2021-01-05 11:01:00|    2248|     2026|0.9765421372719374|                   2302|\n",
      "|2021-01-05 11:03:00|    2247|     2026| 0.976107732406603|                   2302|\n",
      "|2021-01-05 11:04:00|    2251|     2026| 0.977845351867941|                   2302|\n",
      "|2021-01-05 11:06:00|    2233|     2026|0.9700260642919201|                   2302|\n",
      "|2021-01-05 11:07:00|    2245|     2026|0.9752389226759339|                   2302|\n",
      "|2021-01-05 11:10:00|    2235|     2026| 0.970894874022589|                   2302|\n",
      "|2021-01-05 11:12:00|    2252|     2026|0.9782797567332754|                   2302|\n",
      "|2021-01-05 11:14:00|    2251|     2026| 0.977845351867941|                   2302|\n",
      "|2021-01-05 11:15:00|    2255|     2026|0.9795829713292789|                   2302|\n",
      "+-------------------+--------+---------+------------------+-----------------------+\n",
      "only showing top 20 rows\n",
      "\n"
     ]
    }
   ],
   "source": [
    "sdf_power_01.show()"
   ]
  },
  {
   "cell_type": "markdown",
   "id": "4906ca9d-56e7-44c7-98c7-696ed775835b",
   "metadata": {},
   "source": [
    "これを見ると、11時台に入ってからしばらく97%を超えていることがわかる。\n",
    "ここで、試しに11時台に電源が入っており、温度設定が高かったデバイスを確認してみる。\n",
    "\n",
    "まずは、2種類のデータ（今回の例では、出元が2種類ある、という気持ちで準備した）をくっつける。"
   ]
  },
  {
   "cell_type": "code",
   "execution_count": 13,
   "id": "51836f3e-3ba1-4921-bba8-6d1a01c299a3",
   "metadata": {},
   "outputs": [],
   "source": [
    "sdf_all = sdf01.union(sdf02)"
   ]
  },
  {
   "cell_type": "markdown",
   "id": "8ed0e564-f67b-4a53-a390-5fd4f615e95e",
   "metadata": {},
   "source": [
    "状態の入っていた文字列を分解し、電源状態と温度設定の2個の値に変換する処理（UDF）を定義する。\n",
    "PySpark側に任意の関数を渡せる。"
   ]
  },
  {
   "cell_type": "code",
   "execution_count": 14,
   "id": "b6243225-bc8f-4b5d-a237-81e1072cbcc3",
   "metadata": {},
   "outputs": [],
   "source": [
    "@udf(ArrayType(IntegerType()))\n",
    "def transform_state(state_str):\n",
    "    p_state, temperature = state_str.split(',')\n",
    "    return int(p_state), int(temperature)"
   ]
  },
  {
   "cell_type": "markdown",
   "id": "4ecffdc3-b7cd-4c12-b55b-4de660a7c883",
   "metadata": {},
   "source": [
    "定義したUDFを利用して変換する。"
   ]
  },
  {
   "cell_type": "code",
   "execution_count": 15,
   "id": "12527d31-aaf0-4b27-86de-80351c8ef548",
   "metadata": {},
   "outputs": [],
   "source": [
    "sdf_all_01 = sdf_all.withColumn('state2', transform_state(col('state'))).\\\n",
    "    select('timestamp', 'id', col('state2')[0].alias('p_state'), col('state2')[1].alias('temperature'))"
   ]
  },
  {
   "cell_type": "code",
   "execution_count": 16,
   "id": "cbfe165c-de4a-4bd6-8836-b8ff39ed052d",
   "metadata": {},
   "outputs": [
    {
     "name": "stderr",
     "output_type": "stream",
     "text": [
      "[Stage 4:>                                                          (0 + 1) / 1]\r"
     ]
    },
    {
     "name": "stdout",
     "output_type": "stream",
     "text": [
      "+-------------------+------------+-------+-----------+\n",
      "|          timestamp|          id|p_state|temperature|\n",
      "+-------------------+------------+-------+-----------+\n",
      "|2021-01-06 00:00:00|0038#0x0,0x1|     49|         24|\n",
      "|2021-01-06 00:00:00|0039#0x0,0x1|     48|         23|\n",
      "|2021-01-06 00:00:00|0051#0x0,0x1|     48|         26|\n",
      "|2021-01-06 00:00:00|0056#0x0,0x1|     49|         20|\n",
      "|2021-01-06 00:00:00|0061#0x0,0x1|     49|         26|\n",
      "|2021-01-06 00:00:00|0067#0x0,0x1|     48|         25|\n",
      "|2021-01-06 00:00:00|0092#0x0,0x1|     48|         22|\n",
      "|2021-01-06 00:00:00|0175#0x0,0x1|     49|         24|\n",
      "|2021-01-06 00:00:00|0181#0x0,0x1|     49|         24|\n",
      "|2021-01-06 00:00:00|0186#0x0,0x1|     49|         24|\n",
      "|2021-01-06 00:00:00|0198#0x0,0x1|     49|         28|\n",
      "|2021-01-06 00:00:00|0272#0x0,0x1|     48|         28|\n",
      "|2021-01-06 00:00:00|0275#0x0,0x1|     48|         29|\n",
      "|2021-01-06 00:00:00|0285#0x0,0x1|     48|         24|\n",
      "|2021-01-06 00:00:00|0289#0x0,0x1|     48|         29|\n",
      "|2021-01-06 00:00:00|0291#0x0,0x1|     48|         27|\n",
      "|2021-01-06 00:00:00|0301#0x0,0x1|     48|         25|\n",
      "|2021-01-06 00:00:00|0338#0x0,0x1|     48|         26|\n",
      "|2021-01-06 00:00:00|0352#0x0,0x1|     48|         22|\n",
      "|2021-01-06 00:00:00|0366#0x0,0x1|     48|         27|\n",
      "+-------------------+------------+-------+-----------+\n",
      "only showing top 20 rows\n",
      "\n"
     ]
    },
    {
     "name": "stderr",
     "output_type": "stream",
     "text": [
      "                                                                                \r"
     ]
    }
   ],
   "source": [
    "sdf_all_01.show()"
   ]
  },
  {
   "cell_type": "markdown",
   "id": "f8dfa7e4-13de-4fd5-9d86-f1100ccb37c0",
   "metadata": {},
   "source": [
    "11時台のデータを残す（フィルタする）"
   ]
  },
  {
   "cell_type": "code",
   "execution_count": 28,
   "id": "3359aaa3-a3d2-45c6-9583-3ea51270c21b",
   "metadata": {},
   "outputs": [],
   "source": [
    "sdf_all_02 = sdf_all_01.filter((col('timestamp') >= datetime.strptime('2021-01-06 11:00:00', '%Y-%m-%d %H:%M:%S')) &\n",
    "                              (col('timestamp') < datetime.strptime('2021-01-06 12:00:00', '%Y-%m-%d %H:%M:%S')))"
   ]
  },
  {
   "cell_type": "markdown",
   "id": "8a972fa9-e353-48bf-8ba5-39573c15dd4e",
   "metadata": {},
   "source": [
    "電源がONで、28度より高い温度設定のデバイスを探す。"
   ]
  },
  {
   "cell_type": "code",
   "execution_count": 18,
   "id": "f1343703-b029-4ffb-b700-5aab37b46f19",
   "metadata": {},
   "outputs": [],
   "source": [
    "sdf_all_03 = sdf_all_02.filter((col('temperature') > 28) & (col('p_state') == 48)).select('id').distinct()"
   ]
  },
  {
   "cell_type": "code",
   "execution_count": 19,
   "id": "bb806178-6b5c-4bd4-8c1e-449a0deb0b20",
   "metadata": {},
   "outputs": [
    {
     "name": "stderr",
     "output_type": "stream",
     "text": [
      "[Stage 14:========================================>               (54 + 1) / 75]\r"
     ]
    },
    {
     "name": "stdout",
     "output_type": "stream",
     "text": [
      "+------------+\n",
      "|          id|\n",
      "+------------+\n",
      "|0840#0x0,0x1|\n",
      "|0902#0x0,0x1|\n",
      "|0198#0x0,0x1|\n",
      "|0352#0x0,0x1|\n",
      "|0092#0x0,0x1|\n",
      "|0285#0x0,0x1|\n",
      "|0652#0x0,0x1|\n",
      "|1030#0x0,0x1|\n",
      "|0468#0x0,0x1|\n",
      "|1335#0x0,0x1|\n",
      "|1148#0x0,0x1|\n",
      "|1124#0x0,0x1|\n",
      "|0813#0x0,0x1|\n",
      "|1024#0x0,0x1|\n",
      "+------------+\n",
      "\n"
     ]
    },
    {
     "name": "stderr",
     "output_type": "stream",
     "text": [
      "                                                                                \r"
     ]
    }
   ],
   "source": [
    "sdf_all_03.show()"
   ]
  },
  {
   "cell_type": "markdown",
   "id": "1e5e03b1-c3e6-4c9f-bb1f-d34da1f153d9",
   "metadata": {},
   "source": [
    "以上のデバイスの温度設定が高かったことがわかる。"
   ]
  },
  {
   "cell_type": "markdown",
   "id": "8913de11-e5be-401c-b146-e821b1fcd311",
   "metadata": {},
   "source": [
    "# 時系列データから予測値算出"
   ]
  },
  {
   "cell_type": "markdown",
   "id": "6d6e71c9-610c-4bc4-a949-ce3cd6a109d9",
   "metadata": {},
   "source": [
    "デバイスの状態情報は時系列データとして扱えるので、時系列データ分析ライブラリを利用し、温度設定値の予測を簡単にやってみる。\n",
    "\n",
    "ここでは、デバイスごとにグルーピングした時系列データをPandas DataFrameとして扱い、それぞれ分析することにする。\n",
    "\n",
    "まずは、Pandas UDFを定義する。"
   ]
  },
  {
   "cell_type": "code",
   "execution_count": 20,
   "id": "0f9054a7-6fab-4d47-a9f0-de75444f8f03",
   "metadata": {},
   "outputs": [],
   "source": [
    "result_schema = StructType(\n",
    "                [\n",
    "                StructField('id', StringType()),\n",
    "                StructField('timestamp', TimestampType()),\n",
    "                StructField('temperature_forecast', DoubleType())\n",
    "                ])"
   ]
  },
  {
   "cell_type": "code",
   "execution_count": 21,
   "id": "18970258-5329-4799-91cd-2c1d1a6cb938",
   "metadata": {},
   "outputs": [],
   "source": [
    "def forecast_temp(device_pd):\n",
    "    forecaster = AutoARIMA(sp=12, suppress_warnings=True)\n",
    "    device_pd['period'] = pd.DatetimeIndex(device_pd['timestamp']).to_period('T')\n",
    "    device_pd01 = device_pd.set_index('period')\n",
    "    device_s = device_pd01['temperature']\n",
    "    device_s01 = device_s.rolling(20).mean()  # ダミーデータはランダムに散らしてあるので、いったん平均値を求める\n",
    "    device_s02 = device_s01.dropna(how='all')  # 平均値求めるときにNaNになった部分を削除する\n",
    "    forecaster.fit(device_s02)\n",
    "    fh = np.arange(60)\n",
    "    pred = forecaster.predict(fh)\n",
    "    pred.name = 'temperature_forecast'\n",
    "    pred_df = pd.DataFrame(pred)\n",
    "    #print(device_pd[20:]['id'])\n",
    "    pred_df['id'] = device_pd.at[0, 'id']\n",
    "    pred_df['timestamp'] = pred_df.index.to_timestamp()\n",
    "    #print(pred_df)\n",
    "\n",
    "    return pd.DataFrame(pred_df)"
   ]
  },
  {
   "cell_type": "markdown",
   "id": "1ba781de-ac02-4666-97d0-fc2d64844847",
   "metadata": {},
   "source": [
    "定義したUDFを利用し、デバイスごとの温度設定の推測を求める。"
   ]
  },
  {
   "cell_type": "code",
   "execution_count": 22,
   "id": "34125d9d-499b-472a-9e97-f7611b276a6e",
   "metadata": {},
   "outputs": [],
   "source": [
    "# ここでは処理の省略のため、`filter`を利用しているが本来はfilter不要\n",
    "# sdf_forecast = sdf_all_01.groupBy('id').applyInPandas(forecast_temp, schema='id string, timestamp timestamp, temperature_forecast double')\n",
    "\n",
    "sdf_forecast = sdf_all_01.filter(col('id') == '0301#0x0,0x1')\\\n",
    "    .groupBy('id')\\\n",
    "    .applyInPandas(forecast_temp, schema='id string, timestamp timestamp, temperature_forecast double')"
   ]
  },
  {
   "cell_type": "code",
   "execution_count": 23,
   "id": "ebbc79e1-f05b-4da5-92e2-af0b4e5fb801",
   "metadata": {},
   "outputs": [
    {
     "name": "stderr",
     "output_type": "stream",
     "text": [
      "/home/dobachi/Sources/PythonKafkaECHONETLiteExample/venv/lib/python3.7/site-packages/pmdarima/arima/arima.py:692: UserWarning: As of version 1.5.0 'typ' is no longer a valid arg for predict. In future versions this will raise a TypeError.\n",
      "  warnings.warn(\"As of version 1.5.0 'typ' is no longer a valid \"\n"
     ]
    },
    {
     "name": "stdout",
     "output_type": "stream",
     "text": [
      "+------------+-------------------+--------------------+\n",
      "|          id|          timestamp|temperature_forecast|\n",
      "+------------+-------------------+--------------------+\n",
      "|0301#0x0,0x1|2021-01-06 23:59:00|  28.994225533421535|\n",
      "|0301#0x0,0x1|2021-01-07 00:00:00|  28.994225533421535|\n",
      "|0301#0x0,0x1|2021-01-07 00:01:00|   28.98296805565188|\n",
      "|0301#0x0,0x1|2021-01-07 00:02:00|   28.96651685561732|\n",
      "|0301#0x0,0x1|2021-01-07 00:03:00|  28.945158531985992|\n",
      "|0301#0x0,0x1|2021-01-07 00:04:00|   28.91917650051477|\n",
      "|0301#0x0,0x1|2021-01-07 00:05:00|  28.888850532106073|\n",
      "|0301#0x0,0x1|2021-01-07 00:06:00|  28.854456321094816|\n",
      "|0301#0x0,0x1|2021-01-07 00:07:00|  28.816265083243188|\n",
      "|0301#0x0,0x1|2021-01-07 00:08:00|  28.774543182881672|\n",
      "|0301#0x0,0x1|2021-01-07 00:09:00|  28.729551788598446|\n",
      "|0301#0x0,0x1|2021-01-07 00:10:00|   28.68154655684631|\n",
      "|0301#0x0,0x1|2021-01-07 00:11:00|  28.630777342805917|\n",
      "|0301#0x0,0x1|2021-01-07 00:12:00|  28.577487937817008|\n",
      "|0301#0x0,0x1|2021-01-07 00:13:00|   28.52191583266472|\n",
      "|0301#0x0,0x1|2021-01-07 00:14:00|  28.464292005986426|\n",
      "|0301#0x0,0x1|2021-01-07 00:15:00|  28.404840737045383|\n",
      "|0301#0x0,0x1|2021-01-07 00:16:00|  28.343779442100995|\n",
      "|0301#0x0,0x1|2021-01-07 00:17:00|  28.281318533591417|\n",
      "|0301#0x0,0x1|2021-01-07 00:18:00|  28.217661301332548|\n",
      "+------------+-------------------+--------------------+\n",
      "only showing top 20 rows\n",
      "\n"
     ]
    },
    {
     "name": "stderr",
     "output_type": "stream",
     "text": [
      "                                                                                \r"
     ]
    }
   ],
   "source": [
    "sdf_forecast.show()"
   ]
  },
  {
   "cell_type": "markdown",
   "id": "f9be52c6-d843-42cc-b770-880eba2673a1",
   "metadata": {},
   "source": [
    "上記のように、予測が得られた。\n",
    "試しに、1デバイス分のデータを取り出し、可視化してみる。"
   ]
  },
  {
   "cell_type": "code",
   "execution_count": 24,
   "id": "591cd372-c8f1-49e1-b9e7-3742ac5ccd35",
   "metadata": {},
   "outputs": [
    {
     "name": "stderr",
     "output_type": "stream",
     "text": [
      "/home/dobachi/Sources/PythonKafkaECHONETLiteExample/venv/lib/python3.7/site-packages/pmdarima/arima/arima.py:692: UserWarning: As of version 1.5.0 'typ' is no longer a valid arg for predict. In future versions this will raise a TypeError.\n",
      "  warnings.warn(\"As of version 1.5.0 'typ' is no longer a valid \"\n",
      "                                                                                \r"
     ]
    }
   ],
   "source": [
    "# 事前に `filter` している場合は不要だが、今回はもともと `filter` していなかったものとして扱う\n",
    "\n",
    "pdf_forecast = sdf_forecast.filter(col('id') == '0301#0x0,0x1').toPandas()"
   ]
  },
  {
   "cell_type": "code",
   "execution_count": 25,
   "id": "88ef44f9-306d-4067-a7cb-9cc6716a6b34",
   "metadata": {},
   "outputs": [],
   "source": [
    "pdf_forecast01 = pdf_forecast.set_index('timestamp')"
   ]
  },
  {
   "cell_type": "code",
   "execution_count": 26,
   "id": "b913b5ef-aed4-4dcf-a46f-ec7d5e76f5e3",
   "metadata": {},
   "outputs": [],
   "source": [
    "pdf_series = pdf_forecast01['temperature_forecast']"
   ]
  },
  {
   "cell_type": "code",
   "execution_count": 27,
   "id": "9cae3658-b2da-471f-817c-c78c6420a5b8",
   "metadata": {},
   "outputs": [
    {
     "data": {
      "text/plain": [
       "(<Figure size 1152x288 with 1 Axes>,\n",
       " <AxesSubplot:ylabel='temperature_forecast'>)"
      ]
     },
     "execution_count": 27,
     "metadata": {},
     "output_type": "execute_result"
    },
    {
     "data": {
      "image/png": "[encoded data removed]",
      "text/plain": [
       "<Figure size 1152x288 with 1 Axes>"
      ]
     },
     "metadata": {
      "needs_background": "light"
     },
     "output_type": "display_data"
    }
   ],
   "source": [
    "plot_series(pdf_series)"
   ]
  },
  {
   "cell_type": "markdown",
   "id": "e9107ea3-e9ff-460e-ae0d-ca52dcbc00f9",
   "metadata": {},
   "source": [
    "予測結果を表すグラフが表示されているはずである。"
   ]
  },
  {
   "cell_type": "markdown",
   "id": "3c93fbfd-fab2-4cc6-b198-c92f6941b229",
   "metadata": {},
   "source": [
    "今回は単純な例だが、このように一定の規則でグループ化した時系列データに対して分析する処理を並列処理で実装できる。"
   ]
  },
  {
   "cell_type": "markdown",
   "id": "125ad87b-a536-4d0c-bdb1-405b77dfee48",
   "metadata": {},
   "source": [
    "# ストリーム処理で扱えるか？"
   ]
  },
  {
   "cell_type": "markdown",
   "id": "32b33bf0-9c88-43b4-b73b-06627f062a8b",
   "metadata": {},
   "source": [
    "残念ながら、2021/10時点のDelta Sharingはストリームデータとしての読み込みに対応していない。"
   ]
  }
 ],
 "metadata": {
  "kernelspec": {
   "display_name": "Python 3 (ipykernel)",
   "language": "python",
   "name": "python3"
  },
  "language_info": {
   "codemirror_mode": {
    "name": "ipython",
    "version": 3
   },
   "file_extension": ".py",
   "mimetype": "text/x-python",
   "name": "python",
   "nbconvert_exporter": "python",
   "pygments_lexer": "ipython3",
   "version": "3.7.10"
  }
 },
 "nbformat": 4,
 "nbformat_minor": 5
}
