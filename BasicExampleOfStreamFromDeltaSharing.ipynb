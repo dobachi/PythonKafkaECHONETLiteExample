{
 "cells": [
  {
   "cell_type": "markdown",
   "id": "94094728-12bf-4ea8-8c84-98293ffa7629",
   "metadata": {},
   "source": [
    "# このノートブックについて"
   ]
  },
  {
   "cell_type": "markdown",
   "id": "27615026-d7c9-4d94-9cb7-06d64d5851b7",
   "metadata": {},
   "source": [
    "このノートブックは、2021/10現在Delta Sharingがストリーム処理での読み込みに対応していないことを動作確認するための例である。"
   ]
  },
  {
   "cell_type": "markdown",
   "id": "4e1dc93b-1876-4063-bb55-5e4e06ae8150",
   "metadata": {},
   "source": [
    "# 動作確認"
   ]
  },
  {
   "cell_type": "markdown",
   "id": "a02d2c49-0ef0-48ca-a2da-8a8a1af45fa5",
   "metadata": {},
   "source": [
    "まずはバッチとして読み込んでみる。"
   ]
  },
  {
   "cell_type": "code",
   "execution_count": 1,
   "id": "c5d1a1e9-5497-4e26-a430-7ce3bc470825",
   "metadata": {},
   "outputs": [],
   "source": [
    "import delta_sharing"
   ]
  },
  {
   "cell_type": "code",
   "execution_count": 2,
   "id": "78a89a8b-589e-40ed-b042-13d98ffecd96",
   "metadata": {},
   "outputs": [],
   "source": [
    "profile_file = 'conf/el_aircon.share'"
   ]
  },
  {
   "cell_type": "code",
   "execution_count": 3,
   "id": "27176b63-87c5-4865-a231-959d62cfd33c",
   "metadata": {},
   "outputs": [],
   "source": [
    "table_path = profile_file + '#el_aircon.schema.table'"
   ]
  },
  {
   "cell_type": "code",
   "execution_count": 4,
   "id": "f55cb619-b8f2-4c62-96b0-cf82f7e02eb7",
   "metadata": {},
   "outputs": [],
   "source": [
    "df = spark.read.format(\"deltaSharing\").load(table_path)"
   ]
  },
  {
   "cell_type": "code",
   "execution_count": 5,
   "id": "7918ea6c-2817-4b8c-bfe0-83b79da9461d",
   "metadata": {},
   "outputs": [
    {
     "name": "stderr",
     "output_type": "stream",
     "text": [
      "[Stage 0:>                                                          (0 + 1) / 1]\r"
     ]
    },
    {
     "name": "stdout",
     "output_type": "stream",
     "text": [
      "+------------+-----+--------------------+----------------+---------+---------+------+--------------------+-------------+\n",
      "|          id|state|                 key|           value|    topic|partition|offset|           timestamp|timestampType|\n",
      "+------------+-----+--------------------+----------------+---------+---------+------+--------------------+-------------+\n",
      "|0068#0x0,0x1|49,21|[30 30 36 38 23 3...|[34 39 2C 32 31]|el_aircon|        0|     0|2021-10-17 00:04:...|            0|\n",
      "|0068#0x0,0x1|49,21|[30 30 36 38 23 3...|[34 39 2C 32 31]|el_aircon|        0|     1|2021-10-17 00:04:...|            0|\n",
      "|0068#0x0,0x1|49,21|[30 30 36 38 23 3...|[34 39 2C 32 31]|el_aircon|        0|     2|2021-10-17 00:04:...|            0|\n",
      "|0748#0x0,0x1|49,20|[30 37 34 38 23 3...|[34 39 2C 32 30]|el_aircon|        0|     3|2021-10-25 22:47:...|            0|\n",
      "|0748#0x0,0x1|49,20|[30 37 34 38 23 3...|[34 39 2C 32 30]|el_aircon|        0|     4|2021-10-25 22:47:...|            0|\n",
      "|0748#0x0,0x1|49,20|[30 37 34 38 23 3...|[34 39 2C 32 30]|el_aircon|        0|     5|2021-10-25 22:47:...|            0|\n",
      "|0475#0x0,0x1|49,20|[30 34 37 35 23 3...|[34 39 2C 32 30]|el_aircon|        0|     6|2021-10-25 22:48:...|            0|\n",
      "|0475#0x0,0x1|49,25|[30 34 37 35 23 3...|[34 39 2C 32 35]|el_aircon|        0|     7|2021-10-25 22:48:...|            0|\n",
      "|0475#0x0,0x1|48,25|[30 34 37 35 23 3...|[34 38 2C 32 35]|el_aircon|        0|     8|2021-10-25 22:48:...|            0|\n",
      "|0379#0x0,0x1|48,25|[30 33 37 39 23 3...|[34 38 2C 32 35]|el_aircon|        0|     9|2021-10-25 23:11:...|            0|\n",
      "|0379#0x0,0x1|48,25|[30 33 37 39 23 3...|[34 38 2C 32 35]|el_aircon|        0|    11|2021-10-25 23:11:...|            0|\n",
      "|0379#0x0,0x1|48,25|[30 33 37 39 23 3...|[34 38 2C 32 35]|el_aircon|        0|    10|2021-10-25 23:11:...|            0|\n",
      "+------------+-----+--------------------+----------------+---------+---------+------+--------------------+-------------+\n",
      "\n"
     ]
    },
    {
     "name": "stderr",
     "output_type": "stream",
     "text": [
      "                                                                                \r"
     ]
    }
   ],
   "source": [
    "df.show()"
   ]
  },
  {
   "cell_type": "markdown",
   "id": "0f8864e5-0dfd-4026-be70-8d92b7be4e36",
   "metadata": {},
   "source": [
    "問題なく読めたことがわかる。"
   ]
  },
  {
   "cell_type": "markdown",
   "id": "442e5336-2c28-486d-a296-60ce2c25faeb",
   "metadata": {},
   "source": [
    "つづいて、ストリームデータとして読み込むように指定すると…"
   ]
  },
  {
   "cell_type": "code",
   "execution_count": 6,
   "id": "215b8dba-9214-4ad8-8a1d-9c1f99663c05",
   "metadata": {},
   "outputs": [
    {
     "ename": "Py4JJavaError",
     "evalue": "An error occurred while calling o42.load.\n: java.lang.UnsupportedOperationException: Data source deltaSharing does not support streamed reading\n\tat org.apache.spark.sql.execution.datasources.DataSource.sourceSchema(DataSource.scala:284)\n\tat org.apache.spark.sql.execution.datasources.DataSource.sourceInfo$lzycompute(DataSource.scala:117)\n\tat org.apache.spark.sql.execution.datasources.DataSource.sourceInfo(DataSource.scala:117)\n\tat org.apache.spark.sql.execution.streaming.StreamingRelation$.apply(StreamingRelation.scala:33)\n\tat org.apache.spark.sql.streaming.DataStreamReader.loadInternal(DataStreamReader.scala:242)\n\tat org.apache.spark.sql.streaming.DataStreamReader.load(DataStreamReader.scala:263)\n\tat sun.reflect.NativeMethodAccessorImpl.invoke0(Native Method)\n\tat sun.reflect.NativeMethodAccessorImpl.invoke(NativeMethodAccessorImpl.java:62)\n\tat sun.reflect.DelegatingMethodAccessorImpl.invoke(DelegatingMethodAccessorImpl.java:43)\n\tat java.lang.reflect.Method.invoke(Method.java:498)\n\tat py4j.reflection.MethodInvoker.invoke(MethodInvoker.java:244)\n\tat py4j.reflection.ReflectionEngine.invoke(ReflectionEngine.java:357)\n\tat py4j.Gateway.invoke(Gateway.java:282)\n\tat py4j.commands.AbstractCommand.invokeMethod(AbstractCommand.java:132)\n\tat py4j.commands.CallCommand.execute(CallCommand.java:79)\n\tat py4j.GatewayConnection.run(GatewayConnection.java:238)\n\tat java.lang.Thread.run(Thread.java:748)\n",
     "output_type": "error",
     "traceback": [
      "\u001b[0;31m---------------------------------------------------------------------------\u001b[0m",
      "\u001b[0;31mPy4JJavaError\u001b[0m                             Traceback (most recent call last)",
      "\u001b[0;32m/tmp/ipykernel_16276/4163303771.py\u001b[0m in \u001b[0;36m<module>\u001b[0;34m\u001b[0m\n\u001b[0;32m----> 1\u001b[0;31m \u001b[0mstream\u001b[0m \u001b[0;34m=\u001b[0m \u001b[0mspark\u001b[0m\u001b[0;34m.\u001b[0m\u001b[0mreadStream\u001b[0m\u001b[0;34m.\u001b[0m\u001b[0mformat\u001b[0m\u001b[0;34m(\u001b[0m\u001b[0;34m'deltaSharing'\u001b[0m\u001b[0;34m)\u001b[0m\u001b[0;34m.\u001b[0m\u001b[0mload\u001b[0m\u001b[0;34m(\u001b[0m\u001b[0mtable_path\u001b[0m\u001b[0;34m)\u001b[0m\u001b[0;34m\u001b[0m\u001b[0;34m\u001b[0m\u001b[0m\n\u001b[0m",
      "\u001b[0;32m~/Sources/PythonKafkaECHONETLiteExample/venv/lib/python3.7/site-packages/pyspark/sql/streaming.py\u001b[0m in \u001b[0;36mload\u001b[0;34m(self, path, format, schema, **options)\u001b[0m\n\u001b[1;32m    478\u001b[0m                 raise ValueError(\"If the path is provided for stream, it needs to be a \" +\n\u001b[1;32m    479\u001b[0m                                  \"non-empty string. List of paths are not supported.\")\n\u001b[0;32m--> 480\u001b[0;31m             \u001b[0;32mreturn\u001b[0m \u001b[0mself\u001b[0m\u001b[0;34m.\u001b[0m\u001b[0m_df\u001b[0m\u001b[0;34m(\u001b[0m\u001b[0mself\u001b[0m\u001b[0;34m.\u001b[0m\u001b[0m_jreader\u001b[0m\u001b[0;34m.\u001b[0m\u001b[0mload\u001b[0m\u001b[0;34m(\u001b[0m\u001b[0mpath\u001b[0m\u001b[0;34m)\u001b[0m\u001b[0;34m)\u001b[0m\u001b[0;34m\u001b[0m\u001b[0;34m\u001b[0m\u001b[0m\n\u001b[0m\u001b[1;32m    481\u001b[0m         \u001b[0;32melse\u001b[0m\u001b[0;34m:\u001b[0m\u001b[0;34m\u001b[0m\u001b[0;34m\u001b[0m\u001b[0m\n\u001b[1;32m    482\u001b[0m             \u001b[0;32mreturn\u001b[0m \u001b[0mself\u001b[0m\u001b[0;34m.\u001b[0m\u001b[0m_df\u001b[0m\u001b[0;34m(\u001b[0m\u001b[0mself\u001b[0m\u001b[0;34m.\u001b[0m\u001b[0m_jreader\u001b[0m\u001b[0;34m.\u001b[0m\u001b[0mload\u001b[0m\u001b[0;34m(\u001b[0m\u001b[0;34m)\u001b[0m\u001b[0;34m)\u001b[0m\u001b[0;34m\u001b[0m\u001b[0;34m\u001b[0m\u001b[0m\n",
      "\u001b[0;32m~/Sources/PythonKafkaECHONETLiteExample/venv/lib64/python3.7/site-packages/pyspark/python/lib/py4j-0.10.9-src.zip/py4j/java_gateway.py\u001b[0m in \u001b[0;36m__call__\u001b[0;34m(self, *args)\u001b[0m\n\u001b[1;32m   1303\u001b[0m         \u001b[0manswer\u001b[0m \u001b[0;34m=\u001b[0m \u001b[0mself\u001b[0m\u001b[0;34m.\u001b[0m\u001b[0mgateway_client\u001b[0m\u001b[0;34m.\u001b[0m\u001b[0msend_command\u001b[0m\u001b[0;34m(\u001b[0m\u001b[0mcommand\u001b[0m\u001b[0;34m)\u001b[0m\u001b[0;34m\u001b[0m\u001b[0;34m\u001b[0m\u001b[0m\n\u001b[1;32m   1304\u001b[0m         return_value = get_return_value(\n\u001b[0;32m-> 1305\u001b[0;31m             answer, self.gateway_client, self.target_id, self.name)\n\u001b[0m\u001b[1;32m   1306\u001b[0m \u001b[0;34m\u001b[0m\u001b[0m\n\u001b[1;32m   1307\u001b[0m         \u001b[0;32mfor\u001b[0m \u001b[0mtemp_arg\u001b[0m \u001b[0;32min\u001b[0m \u001b[0mtemp_args\u001b[0m\u001b[0;34m:\u001b[0m\u001b[0;34m\u001b[0m\u001b[0;34m\u001b[0m\u001b[0m\n",
      "\u001b[0;32m~/Sources/PythonKafkaECHONETLiteExample/venv/lib/python3.7/site-packages/pyspark/sql/utils.py\u001b[0m in \u001b[0;36mdeco\u001b[0;34m(*a, **kw)\u001b[0m\n\u001b[1;32m    109\u001b[0m     \u001b[0;32mdef\u001b[0m \u001b[0mdeco\u001b[0m\u001b[0;34m(\u001b[0m\u001b[0;34m*\u001b[0m\u001b[0ma\u001b[0m\u001b[0;34m,\u001b[0m \u001b[0;34m**\u001b[0m\u001b[0mkw\u001b[0m\u001b[0;34m)\u001b[0m\u001b[0;34m:\u001b[0m\u001b[0;34m\u001b[0m\u001b[0;34m\u001b[0m\u001b[0m\n\u001b[1;32m    110\u001b[0m         \u001b[0;32mtry\u001b[0m\u001b[0;34m:\u001b[0m\u001b[0;34m\u001b[0m\u001b[0;34m\u001b[0m\u001b[0m\n\u001b[0;32m--> 111\u001b[0;31m             \u001b[0;32mreturn\u001b[0m \u001b[0mf\u001b[0m\u001b[0;34m(\u001b[0m\u001b[0;34m*\u001b[0m\u001b[0ma\u001b[0m\u001b[0;34m,\u001b[0m \u001b[0;34m**\u001b[0m\u001b[0mkw\u001b[0m\u001b[0;34m)\u001b[0m\u001b[0;34m\u001b[0m\u001b[0;34m\u001b[0m\u001b[0m\n\u001b[0m\u001b[1;32m    112\u001b[0m         \u001b[0;32mexcept\u001b[0m \u001b[0mpy4j\u001b[0m\u001b[0;34m.\u001b[0m\u001b[0mprotocol\u001b[0m\u001b[0;34m.\u001b[0m\u001b[0mPy4JJavaError\u001b[0m \u001b[0;32mas\u001b[0m \u001b[0me\u001b[0m\u001b[0;34m:\u001b[0m\u001b[0;34m\u001b[0m\u001b[0;34m\u001b[0m\u001b[0m\n\u001b[1;32m    113\u001b[0m             \u001b[0mconverted\u001b[0m \u001b[0;34m=\u001b[0m \u001b[0mconvert_exception\u001b[0m\u001b[0;34m(\u001b[0m\u001b[0me\u001b[0m\u001b[0;34m.\u001b[0m\u001b[0mjava_exception\u001b[0m\u001b[0;34m)\u001b[0m\u001b[0;34m\u001b[0m\u001b[0;34m\u001b[0m\u001b[0m\n",
      "\u001b[0;32m~/Sources/PythonKafkaECHONETLiteExample/venv/lib64/python3.7/site-packages/pyspark/python/lib/py4j-0.10.9-src.zip/py4j/protocol.py\u001b[0m in \u001b[0;36mget_return_value\u001b[0;34m(answer, gateway_client, target_id, name)\u001b[0m\n\u001b[1;32m    326\u001b[0m                 raise Py4JJavaError(\n\u001b[1;32m    327\u001b[0m                     \u001b[0;34m\"An error occurred while calling {0}{1}{2}.\\n\"\u001b[0m\u001b[0;34m.\u001b[0m\u001b[0;34m\u001b[0m\u001b[0;34m\u001b[0m\u001b[0m\n\u001b[0;32m--> 328\u001b[0;31m                     format(target_id, \".\", name), value)\n\u001b[0m\u001b[1;32m    329\u001b[0m             \u001b[0;32melse\u001b[0m\u001b[0;34m:\u001b[0m\u001b[0;34m\u001b[0m\u001b[0;34m\u001b[0m\u001b[0m\n\u001b[1;32m    330\u001b[0m                 raise Py4JError(\n",
      "\u001b[0;31mPy4JJavaError\u001b[0m: An error occurred while calling o42.load.\n: java.lang.UnsupportedOperationException: Data source deltaSharing does not support streamed reading\n\tat org.apache.spark.sql.execution.datasources.DataSource.sourceSchema(DataSource.scala:284)\n\tat org.apache.spark.sql.execution.datasources.DataSource.sourceInfo$lzycompute(DataSource.scala:117)\n\tat org.apache.spark.sql.execution.datasources.DataSource.sourceInfo(DataSource.scala:117)\n\tat org.apache.spark.sql.execution.streaming.StreamingRelation$.apply(StreamingRelation.scala:33)\n\tat org.apache.spark.sql.streaming.DataStreamReader.loadInternal(DataStreamReader.scala:242)\n\tat org.apache.spark.sql.streaming.DataStreamReader.load(DataStreamReader.scala:263)\n\tat sun.reflect.NativeMethodAccessorImpl.invoke0(Native Method)\n\tat sun.reflect.NativeMethodAccessorImpl.invoke(NativeMethodAccessorImpl.java:62)\n\tat sun.reflect.DelegatingMethodAccessorImpl.invoke(DelegatingMethodAccessorImpl.java:43)\n\tat java.lang.reflect.Method.invoke(Method.java:498)\n\tat py4j.reflection.MethodInvoker.invoke(MethodInvoker.java:244)\n\tat py4j.reflection.ReflectionEngine.invoke(ReflectionEngine.java:357)\n\tat py4j.Gateway.invoke(Gateway.java:282)\n\tat py4j.commands.AbstractCommand.invokeMethod(AbstractCommand.java:132)\n\tat py4j.commands.CallCommand.execute(CallCommand.java:79)\n\tat py4j.GatewayConnection.run(GatewayConnection.java:238)\n\tat java.lang.Thread.run(Thread.java:748)\n"
     ]
    }
   ],
   "source": [
    "stream = spark.readStream.format('deltaSharing').load(table_path)"
   ]
  },
  {
   "cell_type": "markdown",
   "id": "1ced0ad0-0c2a-4d56-96c8-0fe808751218",
   "metadata": {},
   "source": [
    "このように、ストリームデータの読み込みに対応していないメッセージが生じる。"
   ]
  }
 ],
 "metadata": {
  "kernelspec": {
   "display_name": "Python 3 (ipykernel)",
   "language": "python",
   "name": "python3"
  },
  "language_info": {
   "codemirror_mode": {
    "name": "ipython",
    "version": 3
   },
   "file_extension": ".py",
   "mimetype": "text/x-python",
   "name": "python",
   "nbconvert_exporter": "python",
   "pygments_lexer": "ipython3",
   "version": "3.7.10"
  }
 },
 "nbformat": 4,
 "nbformat_minor": 5
}
