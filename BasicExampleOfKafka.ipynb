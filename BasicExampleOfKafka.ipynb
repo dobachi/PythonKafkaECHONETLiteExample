{
 "cells": [
  {
   "cell_type": "markdown",
   "id": "4a9207ee-2260-4beb-975b-058644baedd5",
   "metadata": {},
   "source": [
    "# このノートブックについて"
   ]
  },
  {
   "cell_type": "markdown",
   "id": "466b38d3-69e3-46ff-bf37-f12c0a02d0ec",
   "metadata": {},
   "source": [
    "このノートブックは [Confluent Kafka Python] を利用し、Pythonを用いてApache Kafkaクラスタにデータを書き込むサンプルである。\n",
    "\n",
    "[Confluent Kafka Python]: https://docs.confluent.io/ja-jp/clients-confluent-kafka-python/1.5.0/overview.html"
   ]
  },
  {
   "cell_type": "markdown",
   "id": "a703504d-56b8-4ae4-92b1-699d682e97cf",
   "metadata": {},
   "source": [
    "# 準備"
   ]
  },
  {
   "cell_type": "code",
   "execution_count": 1,
   "id": "4e472364-86c5-4b32-92bb-5b679545d3fa",
   "metadata": {},
   "outputs": [],
   "source": [
    "from confluent_kafka import Producer\n",
    "from confluent_kafka import Consumer\n",
    "from confluent_kafka import TopicPartition\n",
    "from confluent_kafka import OFFSET_BEGINNING\n",
    "from confluent_kafka.admin import AdminClient\n",
    "from confluent_kafka.admin import NewTopic\n",
    "import socket\n",
    "import time"
   ]
  },
  {
   "cell_type": "markdown",
   "id": "93b5c6b9-19e1-472c-86b4-11e204f7e7cc",
   "metadata": {},
   "source": [
    "ここでは簡単化のため、単一ノード上にKafka Broker、ZooKeeper、Clientを起動することとする。\n",
    "そのため、実行ノードの最初にホスト名を取得する。\n",
    "\n",
    "![Pythonクライアント動作確認のためのイメージ](https://github.com/dobachi/PythonKafkaECHONETLiteExample/blob/main/images/ArchitectureOfKafkaBasic.png?raw=true)"
   ]
  },
  {
   "cell_type": "code",
   "execution_count": 2,
   "id": "1f8699f4-8d71-4ef0-a9ed-ee8f998d844a",
   "metadata": {},
   "outputs": [
    {
     "data": {
      "text/plain": [
       "'el01'"
      ]
     },
     "execution_count": 2,
     "metadata": {},
     "output_type": "execute_result"
    }
   ],
   "source": [
    "hostname = socket.gethostname()\n",
    "hostname"
   ]
  },
  {
   "cell_type": "markdown",
   "id": "3f620398-050f-4532-95c3-6b89fef117d9",
   "metadata": {},
   "source": [
    "クライアントに渡すコンフィグを生成する。"
   ]
  },
  {
   "cell_type": "code",
   "execution_count": 3,
   "id": "12579195-ec0b-4d04-b7c0-ab6f7a1fffe3",
   "metadata": {},
   "outputs": [],
   "source": [
    "producer_conf = {'bootstrap.servers': hostname + \":9092\",\n",
    "                 'client.id': hostname}"
   ]
  },
  {
   "cell_type": "code",
   "execution_count": 4,
   "id": "feeca203-2d90-4b29-a533-8ff054a33c1e",
   "metadata": {},
   "outputs": [],
   "source": [
    "consumer_conf = {'bootstrap.servers': hostname + \":9092\",\n",
    "                 'group.id': 0,\n",
    "                'auto.offset.reset': 'earliest'}"
   ]
  },
  {
   "cell_type": "markdown",
   "id": "0283cdec-48db-401c-978f-63a63c4e30fb",
   "metadata": {},
   "source": [
    "# 実験用のトピックを作る"
   ]
  },
  {
   "cell_type": "code",
   "execution_count": 5,
   "id": "09505008-314f-406f-a0b2-6bbe42780940",
   "metadata": {},
   "outputs": [],
   "source": [
    "topic_name = 'test_topic'\n",
    "num_partition = 1\n",
    "replication_factor = 1"
   ]
  },
  {
   "cell_type": "markdown",
   "id": "77522fe3-bc99-491e-b1a6-ed958808ee2d",
   "metadata": {},
   "source": [
    "コンシューマを作成"
   ]
  },
  {
   "cell_type": "code",
   "execution_count": 6,
   "id": "acadaed3-6ff5-4ab5-a69d-39a8e9c6b33f",
   "metadata": {},
   "outputs": [],
   "source": [
    "consumer = Consumer(consumer_conf)"
   ]
  },
  {
   "cell_type": "markdown",
   "id": "a81a5a7c-5892-44dc-b2cd-a0cdaa1df9ec",
   "metadata": {},
   "source": [
    "トピックのリストを得るため、メタデータを取得する。"
   ]
  },
  {
   "cell_type": "code",
   "execution_count": 7,
   "id": "c86240e6-981a-4a52-af1c-0608f22e5ba5",
   "metadata": {},
   "outputs": [
    {
     "data": {
      "text/plain": [
       "ClusterMetadata(UU5KEDIXTJuFCM8nsa7XcQ)"
      ]
     },
     "execution_count": 7,
     "metadata": {},
     "output_type": "execute_result"
    }
   ],
   "source": [
    "cluster_metadata = consumer.list_topics()\n",
    "cluster_metadata"
   ]
  },
  {
   "cell_type": "markdown",
   "id": "70f729d1-39f2-4d55-9b92-a710e9d87102",
   "metadata": {},
   "source": [
    "トピックリストを確認"
   ]
  },
  {
   "cell_type": "code",
   "execution_count": 8,
   "id": "75660286-5d78-4d94-9027-08f9ccb6c517",
   "metadata": {},
   "outputs": [
    {
     "data": {
      "text/plain": [
       "{'el_aircon': TopicMetadata(el_aircon, 1 partitions),\n",
       " '__consumer_offsets': TopicMetadata(__consumer_offsets, 50 partitions)}"
      ]
     },
     "execution_count": 8,
     "metadata": {},
     "output_type": "execute_result"
    }
   ],
   "source": [
    "cluster_metadata.topics"
   ]
  },
  {
   "cell_type": "markdown",
   "id": "6ff52f92-c0d2-4186-a5f2-cfadd9c867ca",
   "metadata": {},
   "source": [
    "`admin` を取得する。"
   ]
  },
  {
   "cell_type": "code",
   "execution_count": 9,
   "id": "97360380-e939-4c5f-99a6-40948a493189",
   "metadata": {},
   "outputs": [],
   "source": [
    "admin = AdminClient(producer_conf)"
   ]
  },
  {
   "cell_type": "markdown",
   "id": "720076a5-3cfa-44f6-aabd-71bef98e4efd",
   "metadata": {},
   "source": [
    "トピックを作成する処理を定義"
   ]
  },
  {
   "cell_type": "code",
   "execution_count": 10,
   "id": "d300f9d3-9200-40ec-8e0c-9a3533f3fec5",
   "metadata": {},
   "outputs": [],
   "source": [
    "def create_topic(admin, topic_name, num_partition, replication_factor):\n",
    "    new_topic = NewTopic(topic_name, num_partition, replication_factor)\n",
    "    result = admin.create_topics([new_topic])\n",
    "    return result"
   ]
  },
  {
   "cell_type": "markdown",
   "id": "7232e4aa-5e59-4f52-b8d2-ac6f32475a3c",
   "metadata": {},
   "source": [
    "トピックがあれば削除し、改めて作り直す。\n",
    "\n",
    "もし既存のトピックを流用したい場合は、冒頭の `#delete_topics` をしている箇所をコメントアウトすること。"
   ]
  },
  {
   "cell_type": "code",
   "execution_count": 12,
   "id": "d24510ca-c071-448d-a169-963ccf77af68",
   "metadata": {},
   "outputs": [
    {
     "data": {
      "text/plain": [
       "{'test_topic': <Future at 0x7f8ca727bd50 state=finished raised KafkaException>}"
      ]
     },
     "execution_count": 12,
     "metadata": {},
     "output_type": "execute_result"
    }
   ],
   "source": [
    "if topic_name in cluster_metadata.topics:\n",
    "    admin.delete_topics([topic_name])\n",
    "\n",
    "result = create_topic(admin, topic_name, num_partition, replication_factor)   \n",
    "\n",
    "while(not result[topic_name].done()):\n",
    "    time.sleep(3)\n",
    "\n",
    "result"
   ]
  },
  {
   "cell_type": "code",
   "execution_count": 13,
   "id": "a919cccd-ef1d-434f-b935-ec5dffa5d7e7",
   "metadata": {},
   "outputs": [],
   "source": [
    "consumer.close()"
   ]
  },
  {
   "cell_type": "markdown",
   "id": "de17b48a-6a20-4e33-9ae8-478c1d8990eb",
   "metadata": {},
   "source": [
    "# 書き込む"
   ]
  },
  {
   "cell_type": "markdown",
   "id": "eda855df-a465-42fc-9a37-5ebdfbb00041",
   "metadata": {},
   "source": [
    "今回は非同期的に書き込む方式を試す。"
   ]
  },
  {
   "cell_type": "code",
   "execution_count": 14,
   "id": "ce950903-e533-4981-b57d-eb7ce51fc562",
   "metadata": {},
   "outputs": [],
   "source": [
    "producer = Producer(producer_conf)"
   ]
  },
  {
   "cell_type": "code",
   "execution_count": 15,
   "id": "15f704cb-8487-4937-88f3-ec19370fed62",
   "metadata": {},
   "outputs": [
    {
     "name": "stdout",
     "output_type": "stream",
     "text": [
      "Message produced: <cimpl.Message object at 0x7f8ca7c320e0>\n"
     ]
    },
    {
     "data": {
      "text/plain": [
       "1"
      ]
     },
     "execution_count": 15,
     "metadata": {},
     "output_type": "execute_result"
    }
   ],
   "source": [
    "def acked(err, msg):\n",
    "    if err is not None:\n",
    "        print(\"Failed to deliver message: %s: %s\" % (str(msg), str(err)))\n",
    "    else:\n",
    "        print(\"Message produced: %s\" % (str(msg)))\n",
    "\n",
    "producer.produce(topic_name, key=\"key\", value=\"value\", callback=acked)\n",
    "\n",
    "# Wait up to 1 second for events. Callbacks will be invoked during\n",
    "# this method call if the message is acknowledged.\n",
    "producer.poll(1)"
   ]
  },
  {
   "cell_type": "markdown",
   "id": "ea177715-d42f-4194-98a8-5000084eb5ea",
   "metadata": {},
   "source": [
    "# 読み込む"
   ]
  },
  {
   "cell_type": "code",
   "execution_count": 16,
   "id": "4c701efa-6df0-457d-a0ca-3903a9754104",
   "metadata": {},
   "outputs": [
    {
     "data": {
      "text/plain": [
       "TopicPartition{topic=test_topic,partition=0,offset=-2,error=None}"
      ]
     },
     "execution_count": 16,
     "metadata": {},
     "output_type": "execute_result"
    }
   ],
   "source": [
    "topic_partition = TopicPartition(topic_name, partition=0, offset=OFFSET_BEGINNING)\n",
    "topic_partition"
   ]
  },
  {
   "cell_type": "code",
   "execution_count": 17,
   "id": "5eb1c21c-c5d3-4a74-838a-ad2df3bcdf84",
   "metadata": {},
   "outputs": [],
   "source": [
    "def my_on_assign(consumer, partitions):\n",
    "    for p in partitions:\n",
    "         # some starting offset, or use OFFSET_BEGINNING, et, al.\n",
    "         # the default offset is STORED which means use committed offsets, and if\n",
    "         # no committed offsets are available use auto.offset.reset config (default latest)\n",
    "        p.offset = OFFSET_BEGINNING\n",
    "    # call assign() to start fetching the given partitions.\n",
    "    consumer.assign(partitions)"
   ]
  },
  {
   "cell_type": "code",
   "execution_count": 18,
   "id": "a6930728-6a98-4e53-b873-a0b565327634",
   "metadata": {},
   "outputs": [
    {
     "name": "stdout",
     "output_type": "stream",
     "text": [
      "b'key' : b'value'\n"
     ]
    }
   ],
   "source": [
    "try:\n",
    "    consumer = Consumer(consumer_conf)\n",
    "    consumer.subscribe([topic_name], on_assign=my_on_assign)\n",
    "    \n",
    "    for i in range(10):\n",
    "        msg = consumer.poll(timeout=1.0)\n",
    "        if msg is None: continue\n",
    "        \n",
    "        if msg.error():\n",
    "                if msg.error().code() == KafkaError._PARTITION_EOF:\n",
    "                    # End of partition event\n",
    "                    sys.stderr.write('%% %s [%d] reached end at offset %d\\n' %\n",
    "                                     (msg.topic(), msg.partition(), msg.offset()))\n",
    "                elif msg.error():\n",
    "                    raise KafkaException(msg.error())\n",
    "        else:\n",
    "            print('%s : %s' % (msg.key(), msg.value()))\n",
    "finally:\n",
    "    consumer.close()"
   ]
  },
  {
   "cell_type": "markdown",
   "id": "dd2a1094-3fdc-4e9d-904c-64699ddd2959",
   "metadata": {},
   "source": [
    "# 後始末"
   ]
  },
  {
   "cell_type": "markdown",
   "id": "f43b16f1-aa3b-4a87-b1c1-045593d70aca",
   "metadata": {},
   "source": [
    "使用したトピックを消す。もし必要な場合はコメントアウトするなどして残すこと。"
   ]
  },
  {
   "cell_type": "code",
   "execution_count": 19,
   "id": "ae0c9588-813d-4a7e-834b-53247e415d05",
   "metadata": {},
   "outputs": [
    {
     "data": {
      "text/plain": [
       "{'test_topic': <Future at 0x7f8ca726d610 state=running>}"
      ]
     },
     "execution_count": 19,
     "metadata": {},
     "output_type": "execute_result"
    }
   ],
   "source": [
    "admin.delete_topics([topic_name])"
   ]
  }
 ],
 "metadata": {
  "kernelspec": {
   "display_name": "Python 3 (ipykernel)",
   "language": "python",
   "name": "python3"
  },
  "language_info": {
   "codemirror_mode": {
    "name": "ipython",
    "version": 3
   },
   "file_extension": ".py",
   "mimetype": "text/x-python",
   "name": "python",
   "nbconvert_exporter": "python",
   "pygments_lexer": "ipython3",
   "version": "3.7.10"
  }
 },
 "nbformat": 4,
 "nbformat_minor": 5
}
