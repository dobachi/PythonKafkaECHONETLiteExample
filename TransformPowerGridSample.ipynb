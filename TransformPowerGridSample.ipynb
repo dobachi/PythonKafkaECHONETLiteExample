{
 "cells": [
  {
   "cell_type": "markdown",
   "id": "b667b3d2-af71-4be4-9cbe-e7533693c995",
   "metadata": {
    "tags": []
   },
   "source": [
    "# 電力データを変換する"
   ]
  },
  {
   "cell_type": "code",
   "execution_count": 48,
   "id": "26ce0458-d6b0-4fb3-bd62-4cc2e0eaa0c0",
   "metadata": {},
   "outputs": [],
   "source": [
    "import random\n",
    "from pyspark.sql.functions import udf\n",
    "from pyspark.sql.types import *\n",
    "from pyspark.sql.functions import to_timestamp, to_date\n",
    "from datetime import datetime"
   ]
  },
  {
   "cell_type": "code",
   "execution_count": 71,
   "id": "39cc5606-2843-4894-8b58-88afe3974feb",
   "metadata": {},
   "outputs": [],
   "source": [
    "data_file = 'data/power_grid_sample.csv'\n",
    "randomized_file = 'data/power_grid_dummydata'"
   ]
  },
  {
   "cell_type": "code",
   "execution_count": 13,
   "id": "3a1d1339-864b-4b31-9dfe-539dcb583e02",
   "metadata": {},
   "outputs": [],
   "source": [
    "df1 = spark.read.format('csv').option('header', 'true').option('inferSchema', 'true').load(data_file)"
   ]
  },
  {
   "cell_type": "code",
   "execution_count": 15,
   "id": "7aa63b4f-b9cf-4475-8b82-e7d5d7875f51",
   "metadata": {},
   "outputs": [
    {
     "data": {
      "text/plain": [
       "StructType(List(StructField(DATETIME,StringType,true),StructField(Measured,IntegerType,true),StructField(Predicted,IntegerType,true),StructField(UseRate,IntegerType,true),StructField(EstimatedSupplyCapacity,IntegerType,true)))"
      ]
     },
     "execution_count": 15,
     "metadata": {},
     "output_type": "execute_result"
    }
   ],
   "source": [
    "df1.schema"
   ]
  },
  {
   "cell_type": "code",
   "execution_count": 45,
   "id": "e9dbf020-fea2-4a92-a80b-6a13c779e726",
   "metadata": {},
   "outputs": [],
   "source": [
    "df2 = df1.select(to_timestamp(df1['DATETIME'], 'yyyy/M/d H:mm').alias('timestamp'), '*')"
   ]
  },
  {
   "cell_type": "code",
   "execution_count": 60,
   "id": "c0f9d45a-3af4-48c0-80f2-1771887da97c",
   "metadata": {},
   "outputs": [],
   "source": [
    "@udf(IntegerType())\n",
    "def randamize(col):\n",
    "    diff = random.randint(-30, 30)\n",
    "    return col + diff"
   ]
  },
  {
   "cell_type": "code",
   "execution_count": 61,
   "id": "49e2cd96-f8bb-4509-b096-cf90f9c9afe7",
   "metadata": {},
   "outputs": [],
   "source": [
    "df3 = df2.select(randamize(df2['Measured']).alias('RMeasured'),\n",
    "                randamize(df2['Predicted']).alias('RPredicted'),\n",
    "                randamize(df2['EstimatedSupplyCapacity']).alias('REstimatedSupplyCapacity'), '*')"
   ]
  },
  {
   "cell_type": "code",
   "execution_count": 65,
   "id": "f58e0ba2-be93-4be1-af89-2b55eee6f347",
   "metadata": {},
   "outputs": [],
   "source": [
    "df4 = df3.select(df3['RMeasured']/df3['REstimatedSupplyCapacity'].alias('RUseRate'), '*')"
   ]
  },
  {
   "cell_type": "code",
   "execution_count": 67,
   "id": "6de86887-f6ce-4f15-ac1a-e52f2157657f",
   "metadata": {},
   "outputs": [],
   "source": [
    "df5 = df4.select('timestamp', 'RMeasured', 'RPredicted', 'REstimatedSupplyCapacity')"
   ]
  },
  {
   "cell_type": "code",
   "execution_count": 68,
   "id": "9c7a5ffc-6576-4eac-8f90-7de05226e35d",
   "metadata": {},
   "outputs": [
    {
     "name": "stdout",
     "output_type": "stream",
     "text": [
      "+-------------------+---------+----------+------------------------+\n",
      "|          timestamp|RMeasured|RPredicted|REstimatedSupplyCapacity|\n",
      "+-------------------+---------+----------+------------------------+\n",
      "|2021-01-05 00:00:00|     1470|      1503|                    1854|\n",
      "|2021-01-05 01:00:00|     1459|      1449|                    1850|\n",
      "|2021-01-05 02:00:00|     1470|      1405|                    1791|\n",
      "|2021-01-05 03:00:00|     1423|      1372|                    1793|\n",
      "|2021-01-05 04:00:00|     1390|      1399|                    1825|\n",
      "|2021-01-05 05:00:00|     1407|      1353|                    1867|\n",
      "|2021-01-05 06:00:00|     1575|      1524|                    1978|\n",
      "|2021-01-05 07:00:00|     1827|      1860|                    2088|\n",
      "|2021-01-05 08:00:00|     2127|      2049|                    2287|\n",
      "|2021-01-05 09:00:00|     2260|      2103|                    2359|\n",
      "|2021-01-05 10:00:00|     2267|      2109|                    2315|\n",
      "|2021-01-05 11:00:00|     2185|      2072|                    2299|\n",
      "|2021-01-05 12:00:00|     2094|      2004|                    2291|\n",
      "|2021-01-05 13:00:00|     2124|      2010|                    2308|\n",
      "|2021-01-05 14:00:00|     2106|      2030|                    2269|\n",
      "|2021-01-05 15:00:00|     2072|      2019|                    2259|\n",
      "|2021-01-05 16:00:00|     2164|      2074|                    2305|\n",
      "|2021-01-05 17:00:00|     2181|      2090|                    2396|\n",
      "|2021-01-05 18:00:00|     2141|      2068|                    2320|\n",
      "|2021-01-05 19:00:00|     2072|      2015|                    2256|\n",
      "+-------------------+---------+----------+------------------------+\n",
      "only showing top 20 rows\n",
      "\n"
     ]
    }
   ],
   "source": [
    "df5.show()"
   ]
  },
  {
   "cell_type": "code",
   "execution_count": 72,
   "id": "fb99f6e6-ccbd-4b21-8fe2-bede1fa1c7e0",
   "metadata": {},
   "outputs": [
    {
     "name": "stderr",
     "output_type": "stream",
     "text": [
      "                                                                                \r"
     ]
    }
   ],
   "source": [
    "df5.write.format('delta').save(randomized_file)"
   ]
  },
  {
   "cell_type": "code",
   "execution_count": null,
   "id": "dafd9320-e671-4f82-94fb-2f93121b6787",
   "metadata": {},
   "outputs": [],
   "source": []
  }
 ],
 "metadata": {
  "kernelspec": {
   "display_name": "Python 3 (ipykernel)",
   "language": "python",
   "name": "python3"
  },
  "language_info": {
   "codemirror_mode": {
    "name": "ipython",
    "version": 3
   },
   "file_extension": ".py",
   "mimetype": "text/x-python",
   "name": "python",
   "nbconvert_exporter": "python",
   "pygments_lexer": "ipython3",
   "version": "3.7.10"
  }
 },
 "nbformat": 4,
 "nbformat_minor": 5
}
