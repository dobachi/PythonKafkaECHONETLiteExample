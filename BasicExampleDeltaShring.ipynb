{
 "cells": [
  {
   "cell_type": "markdown",
   "id": "deb8c01f-3b64-47a6-862e-b16795a455e7",
   "metadata": {},
   "source": [
    "# Pythonで読み込む"
   ]
  },
  {
   "cell_type": "code",
   "execution_count": 1,
   "id": "8767ef65-6990-464b-aa0c-a208d140d416",
   "metadata": {},
   "outputs": [
    {
     "name": "stderr",
     "output_type": "stream",
     "text": [
      "/home/dobachi/Sources/PythonKafkaECHONETLiteExample/venv/lib/python3.7/site-packages/pandas/compat/__init__.py:124: UserWarning: Could not import the lzma module. Your installed Python is incomplete. Attempting to use lzma compression will result in a RuntimeError.\n",
      "  warnings.warn(msg)\n"
     ]
    }
   ],
   "source": [
    "import delta_sharing"
   ]
  },
  {
   "cell_type": "code",
   "execution_count": 2,
   "id": "e7484e6c-abf9-4289-a9c4-606d5906daab",
   "metadata": {},
   "outputs": [],
   "source": [
    "profile_file = 'conf/example.share'"
   ]
  },
  {
   "cell_type": "code",
   "execution_count": 3,
   "id": "50690c61-cabb-46c7-b554-9ff6c4c6e62a",
   "metadata": {},
   "outputs": [],
   "source": [
    "client = delta_sharing.SharingClient(profile_file)"
   ]
  },
  {
   "cell_type": "code",
   "execution_count": 4,
   "id": "71aa3150-8269-4e8b-aed9-f9225b57e054",
   "metadata": {},
   "outputs": [
    {
     "data": {
      "text/plain": [
       "[Table(name='table', share='share', schema='schema')]"
      ]
     },
     "execution_count": 4,
     "metadata": {},
     "output_type": "execute_result"
    }
   ],
   "source": [
    "client.list_all_tables()"
   ]
  },
  {
   "cell_type": "code",
   "execution_count": 5,
   "id": "787bd1e7-dc79-4040-b9b4-99ad62cbc5ba",
   "metadata": {},
   "outputs": [],
   "source": [
    "table_url = profile_file + '#share.schema.table'"
   ]
  },
  {
   "cell_type": "code",
   "execution_count": 6,
   "id": "330bf39c-79ed-4a2a-ac78-20e4fce4e44e",
   "metadata": {},
   "outputs": [
    {
     "data": {
      "text/html": [
       "<div>\n",
       "<style scoped>\n",
       "    .dataframe tbody tr th:only-of-type {\n",
       "        vertical-align: middle;\n",
       "    }\n",
       "\n",
       "    .dataframe tbody tr th {\n",
       "        vertical-align: top;\n",
       "    }\n",
       "\n",
       "    .dataframe thead th {\n",
       "        text-align: right;\n",
       "    }\n",
       "</style>\n",
       "<table border=\"1\" class=\"dataframe\">\n",
       "  <thead>\n",
       "    <tr style=\"text-align: right;\">\n",
       "      <th></th>\n",
       "      <th>key_str</th>\n",
       "      <th>value_str</th>\n",
       "      <th>key</th>\n",
       "      <th>value</th>\n",
       "      <th>topic</th>\n",
       "      <th>partition</th>\n",
       "      <th>offset</th>\n",
       "      <th>timestamp</th>\n",
       "      <th>timestampType</th>\n",
       "    </tr>\n",
       "  </thead>\n",
       "  <tbody>\n",
       "    <tr>\n",
       "      <th>0</th>\n",
       "      <td>0x0,0x1</td>\n",
       "      <td>49,21</td>\n",
       "      <td>b'0x0,0x1'</td>\n",
       "      <td>b'49,21'</td>\n",
       "      <td>el_aircon</td>\n",
       "      <td>0</td>\n",
       "      <td>24</td>\n",
       "      <td>2021-10-15 14:34:36.225</td>\n",
       "      <td>0</td>\n",
       "    </tr>\n",
       "    <tr>\n",
       "      <th>1</th>\n",
       "      <td>0x0,0x1</td>\n",
       "      <td>49,21</td>\n",
       "      <td>b'0x0,0x1'</td>\n",
       "      <td>b'49,21'</td>\n",
       "      <td>el_aircon</td>\n",
       "      <td>0</td>\n",
       "      <td>25</td>\n",
       "      <td>2021-10-15 14:34:41.226</td>\n",
       "      <td>0</td>\n",
       "    </tr>\n",
       "    <tr>\n",
       "      <th>2</th>\n",
       "      <td>0x0,0x1</td>\n",
       "      <td>49,21</td>\n",
       "      <td>b'0x0,0x1'</td>\n",
       "      <td>b'49,21'</td>\n",
       "      <td>el_aircon</td>\n",
       "      <td>0</td>\n",
       "      <td>26</td>\n",
       "      <td>2021-10-15 14:34:46.249</td>\n",
       "      <td>0</td>\n",
       "    </tr>\n",
       "  </tbody>\n",
       "</table>\n",
       "</div>"
      ],
      "text/plain": [
       "   key_str value_str         key     value      topic  partition  offset  \\\n",
       "0  0x0,0x1     49,21  b'0x0,0x1'  b'49,21'  el_aircon          0      24   \n",
       "1  0x0,0x1     49,21  b'0x0,0x1'  b'49,21'  el_aircon          0      25   \n",
       "2  0x0,0x1     49,21  b'0x0,0x1'  b'49,21'  el_aircon          0      26   \n",
       "\n",
       "                timestamp  timestampType  \n",
       "0 2021-10-15 14:34:36.225              0  \n",
       "1 2021-10-15 14:34:41.226              0  \n",
       "2 2021-10-15 14:34:46.249              0  "
      ]
     },
     "execution_count": 6,
     "metadata": {},
     "output_type": "execute_result"
    }
   ],
   "source": [
    "pdf = delta_sharing.load_as_pandas(table_url)\n",
    "pdf"
   ]
  },
  {
   "cell_type": "markdown",
   "id": "7cc44b63-c984-4fcf-93d1-550e739934b6",
   "metadata": {},
   "source": [
    "# PySparkで読み込む"
   ]
  },
  {
   "cell_type": "code",
   "execution_count": 7,
   "id": "5b37cb45-aefa-4524-bd54-a3f0f8ea702a",
   "metadata": {},
   "outputs": [
    {
     "name": "stderr",
     "output_type": "stream",
     "text": [
      "[Stage 0:>                                                          (0 + 1) / 1]\r"
     ]
    },
    {
     "name": "stdout",
     "output_type": "stream",
     "text": [
      "+-------+---------+--------------------+----------------+---------+---------+------+--------------------+-------------+\n",
      "|key_str|value_str|                 key|           value|    topic|partition|offset|           timestamp|timestampType|\n",
      "+-------+---------+--------------------+----------------+---------+---------+------+--------------------+-------------+\n",
      "|0x0,0x1|    49,21|[30 78 30 2C 30 7...|[34 39 2C 32 31]|el_aircon|        0|    25|2021-10-15 23:34:...|            0|\n",
      "|0x0,0x1|    49,21|[30 78 30 2C 30 7...|[34 39 2C 32 31]|el_aircon|        0|    26|2021-10-15 23:34:...|            0|\n",
      "|0x0,0x1|    49,21|[30 78 30 2C 30 7...|[34 39 2C 32 31]|el_aircon|        0|    24|2021-10-15 23:34:...|            0|\n",
      "+-------+---------+--------------------+----------------+---------+---------+------+--------------------+-------------+\n",
      "\n"
     ]
    },
    {
     "name": "stderr",
     "output_type": "stream",
     "text": [
      "                                                                                \r"
     ]
    }
   ],
   "source": [
    "sdf = delta_sharing.load_as_spark(table_url)\n",
    "sdf.show()"
   ]
  },
  {
   "cell_type": "code",
   "execution_count": null,
   "id": "d4cda6cb-91ac-43ea-975b-04ce5ad9c427",
   "metadata": {},
   "outputs": [],
   "source": [
    " "
   ]
  },
  {
   "cell_type": "code",
   "execution_count": null,
   "id": "b58f5241-a0c3-4079-ba0a-bec8075a0bd4",
   "metadata": {},
   "outputs": [],
   "source": []
  }
 ],
 "metadata": {
  "kernelspec": {
   "display_name": "Python 3 (ipykernel)",
   "language": "python",
   "name": "python3"
  },
  "language_info": {
   "codemirror_mode": {
    "name": "ipython",
    "version": 3
   },
   "file_extension": ".py",
   "mimetype": "text/x-python",
   "name": "python",
   "nbconvert_exporter": "python",
   "pygments_lexer": "ipython3",
   "version": "3.7.10"
  }
 },
 "nbformat": 4,
 "nbformat_minor": 5
}
