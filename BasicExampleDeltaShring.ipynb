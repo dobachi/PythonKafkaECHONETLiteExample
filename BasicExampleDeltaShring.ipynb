{
 "cells": [
  {
   "cell_type": "markdown",
   "id": "6d24e6d8-4e65-446f-a1df-af7f60a7c568",
   "metadata": {},
   "source": [
    "# このノートブックについて"
   ]
  },
  {
   "cell_type": "markdown",
   "id": "1ee36ea5-7e44-495f-92ac-fc6ea007c272",
   "metadata": {},
   "source": [
    "Delta Sharingを利用して、データを読み込む簡単な例を示す。"
   ]
  },
  {
   "cell_type": "markdown",
   "id": "deb8c01f-3b64-47a6-862e-b16795a455e7",
   "metadata": {},
   "source": [
    "# Pythonで読み込む"
   ]
  },
  {
   "cell_type": "code",
   "execution_count": 1,
   "id": "8767ef65-6990-464b-aa0c-a208d140d416",
   "metadata": {},
   "outputs": [],
   "source": [
    "import delta_sharing"
   ]
  },
  {
   "cell_type": "markdown",
   "id": "648d697a-67ab-421b-83f6-9c2a898f236e",
   "metadata": {},
   "source": [
    "プロファイルを読み込み、クライアントを生成"
   ]
  },
  {
   "cell_type": "code",
   "execution_count": 2,
   "id": "e7484e6c-abf9-4289-a9c4-606d5906daab",
   "metadata": {},
   "outputs": [],
   "source": [
    "profile_file = 'conf/example.share'"
   ]
  },
  {
   "cell_type": "code",
   "execution_count": 3,
   "id": "50690c61-cabb-46c7-b554-9ff6c4c6e62a",
   "metadata": {},
   "outputs": [],
   "source": [
    "client = delta_sharing.SharingClient(profile_file)"
   ]
  },
  {
   "cell_type": "markdown",
   "id": "83ac3612-5197-4cb5-b735-029a1400fc02",
   "metadata": {},
   "source": [
    "テーブルをリスト"
   ]
  },
  {
   "cell_type": "code",
   "execution_count": 5,
   "id": "71aa3150-8269-4e8b-aed9-f9225b57e054",
   "metadata": {},
   "outputs": [
    {
     "data": {
      "text/plain": [
       "[Table(name='table', share='share', schema='schema')]"
      ]
     },
     "execution_count": 5,
     "metadata": {},
     "output_type": "execute_result"
    }
   ],
   "source": [
    "client.list_all_tables()"
   ]
  },
  {
   "cell_type": "markdown",
   "id": "031a10ea-0af8-45cc-a5e1-4c5408d60774",
   "metadata": {},
   "source": [
    "プロファイルを利用してPandas DataFrameとしてデータを取得"
   ]
  },
  {
   "cell_type": "code",
   "execution_count": 6,
   "id": "787bd1e7-dc79-4040-b9b4-99ad62cbc5ba",
   "metadata": {},
   "outputs": [],
   "source": [
    "table_url = profile_file + '#share.schema.table'"
   ]
  },
  {
   "cell_type": "code",
   "execution_count": 7,
   "id": "330bf39c-79ed-4a2a-ac78-20e4fce4e44e",
   "metadata": {},
   "outputs": [
    {
     "data": {
      "text/html": [
       "<div>\n",
       "<style scoped>\n",
       "    .dataframe tbody tr th:only-of-type {\n",
       "        vertical-align: middle;\n",
       "    }\n",
       "\n",
       "    .dataframe tbody tr th {\n",
       "        vertical-align: top;\n",
       "    }\n",
       "\n",
       "    .dataframe thead th {\n",
       "        text-align: right;\n",
       "    }\n",
       "</style>\n",
       "<table border=\"1\" class=\"dataframe\">\n",
       "  <thead>\n",
       "    <tr style=\"text-align: right;\">\n",
       "      <th></th>\n",
       "      <th>id</th>\n",
       "      <th>state</th>\n",
       "      <th>key</th>\n",
       "      <th>value</th>\n",
       "      <th>topic</th>\n",
       "      <th>partition</th>\n",
       "      <th>offset</th>\n",
       "      <th>timestamp</th>\n",
       "      <th>timestampType</th>\n",
       "    </tr>\n",
       "  </thead>\n",
       "  <tbody>\n",
       "    <tr>\n",
       "      <th>0</th>\n",
       "      <td>0379#0x0,0x1</td>\n",
       "      <td>48,25</td>\n",
       "      <td>b'0379#0x0,0x1'</td>\n",
       "      <td>b'48,25'</td>\n",
       "      <td>el_aircon</td>\n",
       "      <td>0</td>\n",
       "      <td>9</td>\n",
       "      <td>2021-10-25 14:11:28.081</td>\n",
       "      <td>0</td>\n",
       "    </tr>\n",
       "    <tr>\n",
       "      <th>1</th>\n",
       "      <td>0379#0x0,0x1</td>\n",
       "      <td>48,25</td>\n",
       "      <td>b'0379#0x0,0x1'</td>\n",
       "      <td>b'48,25'</td>\n",
       "      <td>el_aircon</td>\n",
       "      <td>0</td>\n",
       "      <td>11</td>\n",
       "      <td>2021-10-25 14:11:38.116</td>\n",
       "      <td>0</td>\n",
       "    </tr>\n",
       "    <tr>\n",
       "      <th>2</th>\n",
       "      <td>0748#0x0,0x1</td>\n",
       "      <td>49,20</td>\n",
       "      <td>b'0748#0x0,0x1'</td>\n",
       "      <td>b'49,20'</td>\n",
       "      <td>el_aircon</td>\n",
       "      <td>0</td>\n",
       "      <td>3</td>\n",
       "      <td>2021-10-25 13:47:49.079</td>\n",
       "      <td>0</td>\n",
       "    </tr>\n",
       "    <tr>\n",
       "      <th>3</th>\n",
       "      <td>0748#0x0,0x1</td>\n",
       "      <td>49,20</td>\n",
       "      <td>b'0748#0x0,0x1'</td>\n",
       "      <td>b'49,20'</td>\n",
       "      <td>el_aircon</td>\n",
       "      <td>0</td>\n",
       "      <td>4</td>\n",
       "      <td>2021-10-25 13:47:54.079</td>\n",
       "      <td>0</td>\n",
       "    </tr>\n",
       "    <tr>\n",
       "      <th>4</th>\n",
       "      <td>0748#0x0,0x1</td>\n",
       "      <td>49,20</td>\n",
       "      <td>b'0748#0x0,0x1'</td>\n",
       "      <td>b'49,20'</td>\n",
       "      <td>el_aircon</td>\n",
       "      <td>0</td>\n",
       "      <td>5</td>\n",
       "      <td>2021-10-25 13:47:59.081</td>\n",
       "      <td>0</td>\n",
       "    </tr>\n",
       "    <tr>\n",
       "      <th>5</th>\n",
       "      <td>0475#0x0,0x1</td>\n",
       "      <td>49,20</td>\n",
       "      <td>b'0475#0x0,0x1'</td>\n",
       "      <td>b'49,20'</td>\n",
       "      <td>el_aircon</td>\n",
       "      <td>0</td>\n",
       "      <td>6</td>\n",
       "      <td>2021-10-25 13:48:32.470</td>\n",
       "      <td>0</td>\n",
       "    </tr>\n",
       "    <tr>\n",
       "      <th>6</th>\n",
       "      <td>0475#0x0,0x1</td>\n",
       "      <td>49,25</td>\n",
       "      <td>b'0475#0x0,0x1'</td>\n",
       "      <td>b'49,25'</td>\n",
       "      <td>el_aircon</td>\n",
       "      <td>0</td>\n",
       "      <td>7</td>\n",
       "      <td>2021-10-25 13:48:37.466</td>\n",
       "      <td>0</td>\n",
       "    </tr>\n",
       "    <tr>\n",
       "      <th>7</th>\n",
       "      <td>0475#0x0,0x1</td>\n",
       "      <td>48,25</td>\n",
       "      <td>b'0475#0x0,0x1'</td>\n",
       "      <td>b'48,25'</td>\n",
       "      <td>el_aircon</td>\n",
       "      <td>0</td>\n",
       "      <td>8</td>\n",
       "      <td>2021-10-25 13:48:42.472</td>\n",
       "      <td>0</td>\n",
       "    </tr>\n",
       "    <tr>\n",
       "      <th>8</th>\n",
       "      <td>0068#0x0,0x1</td>\n",
       "      <td>49,21</td>\n",
       "      <td>b'0068#0x0,0x1'</td>\n",
       "      <td>b'49,21'</td>\n",
       "      <td>el_aircon</td>\n",
       "      <td>0</td>\n",
       "      <td>0</td>\n",
       "      <td>2021-10-16 15:04:00.284</td>\n",
       "      <td>0</td>\n",
       "    </tr>\n",
       "    <tr>\n",
       "      <th>9</th>\n",
       "      <td>0068#0x0,0x1</td>\n",
       "      <td>49,21</td>\n",
       "      <td>b'0068#0x0,0x1'</td>\n",
       "      <td>b'49,21'</td>\n",
       "      <td>el_aircon</td>\n",
       "      <td>0</td>\n",
       "      <td>1</td>\n",
       "      <td>2021-10-16 15:04:05.281</td>\n",
       "      <td>0</td>\n",
       "    </tr>\n",
       "    <tr>\n",
       "      <th>10</th>\n",
       "      <td>0068#0x0,0x1</td>\n",
       "      <td>49,21</td>\n",
       "      <td>b'0068#0x0,0x1'</td>\n",
       "      <td>b'49,21'</td>\n",
       "      <td>el_aircon</td>\n",
       "      <td>0</td>\n",
       "      <td>2</td>\n",
       "      <td>2021-10-16 15:04:10.284</td>\n",
       "      <td>0</td>\n",
       "    </tr>\n",
       "    <tr>\n",
       "      <th>11</th>\n",
       "      <td>0379#0x0,0x1</td>\n",
       "      <td>48,25</td>\n",
       "      <td>b'0379#0x0,0x1'</td>\n",
       "      <td>b'48,25'</td>\n",
       "      <td>el_aircon</td>\n",
       "      <td>0</td>\n",
       "      <td>10</td>\n",
       "      <td>2021-10-25 14:11:33.103</td>\n",
       "      <td>0</td>\n",
       "    </tr>\n",
       "  </tbody>\n",
       "</table>\n",
       "</div>"
      ],
      "text/plain": [
       "              id  state              key     value      topic  partition  \\\n",
       "0   0379#0x0,0x1  48,25  b'0379#0x0,0x1'  b'48,25'  el_aircon          0   \n",
       "1   0379#0x0,0x1  48,25  b'0379#0x0,0x1'  b'48,25'  el_aircon          0   \n",
       "2   0748#0x0,0x1  49,20  b'0748#0x0,0x1'  b'49,20'  el_aircon          0   \n",
       "3   0748#0x0,0x1  49,20  b'0748#0x0,0x1'  b'49,20'  el_aircon          0   \n",
       "4   0748#0x0,0x1  49,20  b'0748#0x0,0x1'  b'49,20'  el_aircon          0   \n",
       "5   0475#0x0,0x1  49,20  b'0475#0x0,0x1'  b'49,20'  el_aircon          0   \n",
       "6   0475#0x0,0x1  49,25  b'0475#0x0,0x1'  b'49,25'  el_aircon          0   \n",
       "7   0475#0x0,0x1  48,25  b'0475#0x0,0x1'  b'48,25'  el_aircon          0   \n",
       "8   0068#0x0,0x1  49,21  b'0068#0x0,0x1'  b'49,21'  el_aircon          0   \n",
       "9   0068#0x0,0x1  49,21  b'0068#0x0,0x1'  b'49,21'  el_aircon          0   \n",
       "10  0068#0x0,0x1  49,21  b'0068#0x0,0x1'  b'49,21'  el_aircon          0   \n",
       "11  0379#0x0,0x1  48,25  b'0379#0x0,0x1'  b'48,25'  el_aircon          0   \n",
       "\n",
       "    offset               timestamp  timestampType  \n",
       "0        9 2021-10-25 14:11:28.081              0  \n",
       "1       11 2021-10-25 14:11:38.116              0  \n",
       "2        3 2021-10-25 13:47:49.079              0  \n",
       "3        4 2021-10-25 13:47:54.079              0  \n",
       "4        5 2021-10-25 13:47:59.081              0  \n",
       "5        6 2021-10-25 13:48:32.470              0  \n",
       "6        7 2021-10-25 13:48:37.466              0  \n",
       "7        8 2021-10-25 13:48:42.472              0  \n",
       "8        0 2021-10-16 15:04:00.284              0  \n",
       "9        1 2021-10-16 15:04:05.281              0  \n",
       "10       2 2021-10-16 15:04:10.284              0  \n",
       "11      10 2021-10-25 14:11:33.103              0  "
      ]
     },
     "execution_count": 7,
     "metadata": {},
     "output_type": "execute_result"
    }
   ],
   "source": [
    "pdf = delta_sharing.load_as_pandas(table_url)\n",
    "pdf"
   ]
  },
  {
   "cell_type": "markdown",
   "id": "7cc44b63-c984-4fcf-93d1-550e739934b6",
   "metadata": {},
   "source": [
    "# PySparkで読み込む"
   ]
  },
  {
   "cell_type": "markdown",
   "id": "6ac6c33e-cfd0-468f-afc3-11295158179c",
   "metadata": {},
   "source": [
    "プロファイルを用いて、Spark DataFrameとしてデータを読み込む。"
   ]
  },
  {
   "cell_type": "code",
   "execution_count": 8,
   "id": "5b37cb45-aefa-4524-bd54-a3f0f8ea702a",
   "metadata": {},
   "outputs": [
    {
     "name": "stderr",
     "output_type": "stream",
     "text": [
      "[Stage 0:>                                                          (0 + 1) / 1]\r"
     ]
    },
    {
     "name": "stdout",
     "output_type": "stream",
     "text": [
      "+------------+-----+--------------------+----------------+---------+---------+------+--------------------+-------------+\n",
      "|          id|state|                 key|           value|    topic|partition|offset|           timestamp|timestampType|\n",
      "+------------+-----+--------------------+----------------+---------+---------+------+--------------------+-------------+\n",
      "|0068#0x0,0x1|49,21|[30 30 36 38 23 3...|[34 39 2C 32 31]|el_aircon|        0|     0|2021-10-17 00:04:...|            0|\n",
      "|0068#0x0,0x1|49,21|[30 30 36 38 23 3...|[34 39 2C 32 31]|el_aircon|        0|     1|2021-10-17 00:04:...|            0|\n",
      "|0068#0x0,0x1|49,21|[30 30 36 38 23 3...|[34 39 2C 32 31]|el_aircon|        0|     2|2021-10-17 00:04:...|            0|\n",
      "|0748#0x0,0x1|49,20|[30 37 34 38 23 3...|[34 39 2C 32 30]|el_aircon|        0|     3|2021-10-25 22:47:...|            0|\n",
      "|0748#0x0,0x1|49,20|[30 37 34 38 23 3...|[34 39 2C 32 30]|el_aircon|        0|     4|2021-10-25 22:47:...|            0|\n",
      "|0748#0x0,0x1|49,20|[30 37 34 38 23 3...|[34 39 2C 32 30]|el_aircon|        0|     5|2021-10-25 22:47:...|            0|\n",
      "|0475#0x0,0x1|49,20|[30 34 37 35 23 3...|[34 39 2C 32 30]|el_aircon|        0|     6|2021-10-25 22:48:...|            0|\n",
      "|0475#0x0,0x1|49,25|[30 34 37 35 23 3...|[34 39 2C 32 35]|el_aircon|        0|     7|2021-10-25 22:48:...|            0|\n",
      "|0475#0x0,0x1|48,25|[30 34 37 35 23 3...|[34 38 2C 32 35]|el_aircon|        0|     8|2021-10-25 22:48:...|            0|\n",
      "|0379#0x0,0x1|48,25|[30 33 37 39 23 3...|[34 38 2C 32 35]|el_aircon|        0|     9|2021-10-25 23:11:...|            0|\n",
      "|0379#0x0,0x1|48,25|[30 33 37 39 23 3...|[34 38 2C 32 35]|el_aircon|        0|    11|2021-10-25 23:11:...|            0|\n",
      "|0379#0x0,0x1|48,25|[30 33 37 39 23 3...|[34 38 2C 32 35]|el_aircon|        0|    10|2021-10-25 23:11:...|            0|\n",
      "+------------+-----+--------------------+----------------+---------+---------+------+--------------------+-------------+\n",
      "\n"
     ]
    },
    {
     "name": "stderr",
     "output_type": "stream",
     "text": [
      "                                                                                \r"
     ]
    }
   ],
   "source": [
    "sdf = delta_sharing.load_as_spark(table_url)\n",
    "sdf.show()"
   ]
  },
  {
   "cell_type": "code",
   "execution_count": null,
   "id": "d4cda6cb-91ac-43ea-975b-04ce5ad9c427",
   "metadata": {},
   "outputs": [],
   "source": [
    " "
   ]
  },
  {
   "cell_type": "code",
   "execution_count": null,
   "id": "b58f5241-a0c3-4079-ba0a-bec8075a0bd4",
   "metadata": {},
   "outputs": [],
   "source": []
  }
 ],
 "metadata": {
  "kernelspec": {
   "display_name": "Python 3 (ipykernel)",
   "language": "python",
   "name": "python3"
  },
  "language_info": {
   "codemirror_mode": {
    "name": "ipython",
    "version": 3
   },
   "file_extension": ".py",
   "mimetype": "text/x-python",
   "name": "python",
   "nbconvert_exporter": "python",
   "pygments_lexer": "ipython3",
   "version": "3.7.10"
  }
 },
 "nbformat": 4,
 "nbformat_minor": 5
}
